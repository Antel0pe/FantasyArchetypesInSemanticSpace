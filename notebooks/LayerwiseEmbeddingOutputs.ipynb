{
  "nbformat": 4,
  "nbformat_minor": 0,
  "metadata": {
    "colab": {
      "provenance": [],
      "gpuType": "T4"
    },
    "kernelspec": {
      "name": "python3",
      "display_name": "Python 3"
    },
    "language_info": {
      "name": "python"
    },
    "accelerator": "GPU"
  },
  "cells": [
    {
      "cell_type": "code",
      "source": [
        "!pip install umap-learn"
      ],
      "metadata": {
        "colab": {
          "base_uri": "https://localhost:8080/"
        },
        "id": "1ZONmT2daa-5",
        "outputId": "dcb7e98e-c7ba-4460-f20a-f2d2d97bdf8e"
      },
      "execution_count": 1,
      "outputs": [
        {
          "output_type": "stream",
          "name": "stdout",
          "text": [
            "Collecting umap-learn\n",
            "  Downloading umap_learn-0.5.7-py3-none-any.whl.metadata (21 kB)\n",
            "Requirement already satisfied: numpy>=1.17 in /usr/local/lib/python3.10/dist-packages (from umap-learn) (1.26.4)\n",
            "Requirement already satisfied: scipy>=1.3.1 in /usr/local/lib/python3.10/dist-packages (from umap-learn) (1.13.1)\n",
            "Requirement already satisfied: scikit-learn>=0.22 in /usr/local/lib/python3.10/dist-packages (from umap-learn) (1.6.0)\n",
            "Requirement already satisfied: numba>=0.51.2 in /usr/local/lib/python3.10/dist-packages (from umap-learn) (0.60.0)\n",
            "Collecting pynndescent>=0.5 (from umap-learn)\n",
            "  Downloading pynndescent-0.5.13-py3-none-any.whl.metadata (6.8 kB)\n",
            "Requirement already satisfied: tqdm in /usr/local/lib/python3.10/dist-packages (from umap-learn) (4.67.1)\n",
            "Requirement already satisfied: llvmlite<0.44,>=0.43.0dev0 in /usr/local/lib/python3.10/dist-packages (from numba>=0.51.2->umap-learn) (0.43.0)\n",
            "Requirement already satisfied: joblib>=0.11 in /usr/local/lib/python3.10/dist-packages (from pynndescent>=0.5->umap-learn) (1.4.2)\n",
            "Requirement already satisfied: threadpoolctl>=3.1.0 in /usr/local/lib/python3.10/dist-packages (from scikit-learn>=0.22->umap-learn) (3.5.0)\n",
            "Downloading umap_learn-0.5.7-py3-none-any.whl (88 kB)\n",
            "\u001b[2K   \u001b[90m━━━━━━━━━━━━━━━━━━━━━━━━━━━━━━━━━━━━━━━━\u001b[0m \u001b[32m88.8/88.8 kB\u001b[0m \u001b[31m8.3 MB/s\u001b[0m eta \u001b[36m0:00:00\u001b[0m\n",
            "\u001b[?25hDownloading pynndescent-0.5.13-py3-none-any.whl (56 kB)\n",
            "\u001b[2K   \u001b[90m━━━━━━━━━━━━━━━━━━━━━━━━━━━━━━━━━━━━━━━━\u001b[0m \u001b[32m56.9/56.9 kB\u001b[0m \u001b[31m5.5 MB/s\u001b[0m eta \u001b[36m0:00:00\u001b[0m\n",
            "\u001b[?25hInstalling collected packages: pynndescent, umap-learn\n",
            "Successfully installed pynndescent-0.5.13 umap-learn-0.5.7\n"
          ]
        }
      ]
    },
    {
      "cell_type": "code",
      "source": [
        "import torch\n",
        "from transformers import AutoTokenizer, AutoModel\n",
        "import numpy as np\n",
        "import matplotlib.pyplot as plt\n",
        "\n",
        "class EmbeddingVisualizer:\n",
        "    def __init__(self, model_name=\"BAAI/bge-large-en-v1.5\"):\n",
        "        self.tokenizer = AutoTokenizer.from_pretrained(model_name)\n",
        "        self.model = AutoModel.from_pretrained(model_name)\n",
        "\n",
        "    def track_token_embedding(self, text: str, token_position: int = 0):\n",
        "        # Tokenize input\n",
        "        inputs = self.tokenizer(text, return_tensors='pt', padding=True)\n",
        "        tokens = self.tokenizer.convert_ids_to_tokens(inputs['input_ids'][0])\n",
        "\n",
        "        # Get embeddings from all layers\n",
        "        with torch.no_grad():\n",
        "            outputs = self.model(**inputs, output_hidden_states=True)\n",
        "\n",
        "        # Collect the specified token's embedding from each layer\n",
        "        token_embeddings = []\n",
        "\n",
        "        for layer_idx, layer_output in enumerate(outputs.hidden_states):\n",
        "            # Extract the embedding for the specified token\n",
        "            # Shape of layer_output is [1, sequence_length, 1024]\n",
        "            # We take [0] to remove batch dimension, [token_position] to get specific token\n",
        "            token_embedding = layer_output[0, token_position].numpy()\n",
        "            token_embeddings.append(token_embedding)\n",
        "\n",
        "        token_embeddings = np.array(token_embeddings)\n",
        "\n",
        "        print(f\"\\nTracking embedding changes for token: '{tokens[token_position]}'\")\n",
        "        print(f\"Number of layers: {len(token_embeddings)}\")\n",
        "        print(f\"Embedding dimension: {token_embeddings.shape[1]}\")\n",
        "\n",
        "        # Calculate statistics\n",
        "        means = np.mean(token_embeddings, axis=1)\n",
        "        stds = np.std(token_embeddings, axis=1)\n",
        "\n",
        "        # Plot embedding changes\n",
        "        fig, (ax1, ax2) = plt.subplots(2, 1, figsize=(12, 8))\n",
        "\n",
        "        # Plot mean values across layers\n",
        "        ax1.plot(means, label='Mean value')\n",
        "        ax1.fill_between(range(len(means)), means - stds, means + stds, alpha=0.3, label='±1 std')\n",
        "        ax1.set_title('Mean Embedding Value Across Layers')\n",
        "        ax1.set_xlabel('Layer')\n",
        "        ax1.set_ylabel('Mean Value')\n",
        "        ax1.legend()\n",
        "        ax1.grid(True)\n",
        "\n",
        "        # Plot first 5 dimensions across layers\n",
        "        for i in range(5):\n",
        "            ax2.plot(token_embeddings[:, i], label=f'Dim {i}')\n",
        "        ax2.set_title('First 5 Embedding Dimensions Across Layers')\n",
        "        ax2.set_xlabel('Layer')\n",
        "        ax2.set_ylabel('Value')\n",
        "        ax2.legend()\n",
        "        ax2.grid(True)\n",
        "\n",
        "        plt.tight_layout()\n",
        "\n",
        "        return {\n",
        "            'embeddings': token_embeddings,\n",
        "            'means': means,\n",
        "            'stds': stds,\n",
        "            'token': tokens[token_position]\n",
        "        }\n",
        "\n",
        "    def track_sentence_embeddings(self, text):\n",
        "        inputs = self.tokenizer(text, return_tensors='pt')\n",
        "\n",
        "        with torch.no_grad():\n",
        "            outputs = self.model(**inputs, output_hidden_states=True)\n",
        "\n",
        "        layer_embeddings = []\n",
        "        for layer_output in outputs.hidden_states:\n",
        "            # Layer norm\n",
        "            normalized = self.model.encoder.layer[0].attention.output.LayerNorm(layer_output)\n",
        "            # Mean pool\n",
        "            sentence_embedding = torch.mean(normalized, dim=1)  # [1, 1024]\n",
        "            # L2 normalize\n",
        "            sentence_embedding = torch.nn.functional.normalize(sentence_embedding, p=2, dim=1)\n",
        "            layer_embeddings.append(sentence_embedding)\n",
        "\n",
        "        layer_embeddings = [layer.detach().numpy() for layer in layer_embeddings]\n",
        "        return np.array(layer_embeddings)\n"
      ],
      "metadata": {
        "id": "oIRLCpqVXA_W"
      },
      "execution_count": 10,
      "outputs": []
    },
    {
      "cell_type": "code",
      "source": [
        "visualizer = EmbeddingVisualizer()\n",
        "text = \"The old lighthouse keeper whispered secrets to the stormy sea, hoping the waves would carry his words to distant shores.\"\n",
        "\n",
        "embeddings = visualizer.track_sentence_embeddings(text)"
      ],
      "metadata": {
        "id": "Fh0_gNTyX60n"
      },
      "execution_count": 11,
      "outputs": []
    },
    {
      "cell_type": "code",
      "source": [
        "import torch\n",
        "import numpy as np\n",
        "\n",
        "def detachLayers(embeddings):\n",
        "    return [layer.detach().numpy() for layer in embeddings]\n",
        "\n",
        "# embeddings = detachLayers(embeddings)"
      ],
      "metadata": {
        "id": "0b0AglxrYxFT"
      },
      "execution_count": 13,
      "outputs": []
    },
    {
      "cell_type": "code",
      "source": [
        "import numpy as np\n",
        "import torch\n",
        "from sklearn.decomposition import PCA\n",
        "\n",
        "def perform_pca(embeddings_list, n_components=2):\n",
        "    # Concatenate embeddings into a single array\n",
        "    all_embeddings = np.concatenate(embeddings_list, axis=0)\n",
        "\n",
        "    # Apply PCA\n",
        "    pca = PCA(n_components=n_components)\n",
        "    reduced_embeddings = pca.fit_transform(all_embeddings)\n",
        "\n",
        "    return reduced_embeddings\n",
        "\n",
        "reduced_embeddings = perform_pca(embeddings)"
      ],
      "metadata": {
        "id": "iD_hEfSsYZ4I"
      },
      "execution_count": 14,
      "outputs": []
    },
    {
      "cell_type": "code",
      "source": [
        "import matplotlib.pyplot as plt\n",
        "import numpy as np\n",
        "\n",
        "def plot_embeddings(embeddings, title=\"PCA of Sentence Embeddings\"):\n",
        "    plt.figure(figsize=(10, 7))  # Made figure slightly larger to accommodate colorbar\n",
        "\n",
        "    # Create array of indices normalized between 0 and 1\n",
        "    indices = np.linspace(0, 1, len(embeddings))\n",
        "\n",
        "    # Use 'plasma' colormap for better visibility - transitions through purple, orange, yellow\n",
        "    scatter = plt.scatter(embeddings[:, 0], embeddings[:, 1],\n",
        "                        c=indices,\n",
        "                        cmap='plasma')\n",
        "\n",
        "    # Add colorbar\n",
        "    cbar = plt.colorbar(scatter)\n",
        "    cbar.set_label('Embedding Layer', rotation=270, labelpad=15)\n",
        "\n",
        "    plt.title(title)\n",
        "    plt.show()\n",
        "\n",
        "plot_embeddings(reduced_embeddings)"
      ],
      "metadata": {
        "colab": {
          "base_uri": "https://localhost:8080/",
          "height": 622
        },
        "id": "9TEpE0Z_Yhst",
        "outputId": "7ceb0f69-0a7d-4d2c-9d21-50cdc461a7c2"
      },
      "execution_count": 15,
      "outputs": [
        {
          "output_type": "display_data",
          "data": {
            "text/plain": [
              "<Figure size 1000x700 with 2 Axes>"
            ],
            "image/png": "[encoded data removed]"
          },
          "metadata": {}
        }
      ]
    },
    {
      "cell_type": "code",
      "source": [
        "import umap\n",
        "\n",
        "def umap_embeddings(embeddings, n_neighbors=15, min_dist=0.1):\n",
        "    reducer = umap.UMAP(random_state=42, n_neighbors=n_neighbors, min_dist=min_dist)\n",
        "    embedding_2d = reducer.fit_transform(reduced_embeddings)\n",
        "    return embedding_2d\n",
        "\n",
        "plot_embeddings(umap_embeddings(embeddings), title='UMAP')"
      ],
      "metadata": {
        "id": "gqkbsyrEaI7x",
        "colab": {
          "base_uri": "https://localhost:8080/",
          "height": 693
        },
        "outputId": "42325029-a747-4e90-f7e7-e9d9398d2f60"
      },
      "execution_count": 16,
      "outputs": [
        {
          "output_type": "stream",
          "name": "stderr",
          "text": [
            "/usr/local/lib/python3.10/dist-packages/sklearn/utils/deprecation.py:151: FutureWarning: 'force_all_finite' was renamed to 'ensure_all_finite' in 1.6 and will be removed in 1.8.\n",
            "  warnings.warn(\n",
            "/usr/local/lib/python3.10/dist-packages/umap/umap_.py:1952: UserWarning: n_jobs value 1 overridden to 1 by setting random_state. Use no seed for parallelism.\n",
            "  warn(\n"
          ]
        },
        {
          "output_type": "display_data",
          "data": {
            "text/plain": [
              "<Figure size 1000x700 with 2 Axes>"
            ],
            "image/png": "[encoded data removed]"
          },
          "metadata": {}
        }
      ]
    },
    {
      "cell_type": "code",
      "source": [
        "sentences = [\n",
        "   \"The quantum physicist's cat danced between probability waves, simultaneously alive and dead in the moonlight.\",\n",
        "   \"Beneath the ancient redwood trees, memories of a thousand winters sleep in rings of silent wood.\",\n",
        "   \"The robot learned to paint sunsets by analyzing millions of human tears.\",\n",
        "#    \"In the bustling Tokyo market, an old woman's origami butterflies caught the wind and became real.\",\n",
        "#    \"Through the telescope, the child watched stars being born while her grandmother told stories of stars dying.\"\n",
        "]\n",
        "embeddings = [visualizer.track_sentence_embeddings(i) for i in sentences]\n",
        "# embeddings = [detachLayers(i) for i in embeddings]\n",
        "print(embeddings[0][0][0])\n",
        "\n",
        "# embeddings = [perform_pca(i) for i in embeddings]\n",
        "# for i in embeddings:\n",
        "#     plot_embeddings(i, title='PCA')\n",
        "#     plot_embeddings(umap_embeddings(i), title='UMAP')\n"
      ],
      "metadata": {
        "colab": {
          "base_uri": "https://localhost:8080/"
        },
        "id": "O8KwOCK_0ozz",
        "outputId": "be4300ef-1a3e-4356-da63-363c194cddab"
      },
      "execution_count": 18,
      "outputs": [
        {
          "output_type": "stream",
          "name": "stdout",
          "text": [
            "[ 0.004725    0.00268267  0.01829812 ... -0.01321516  0.01436856\n",
            "  0.00731281]\n"
          ]
        }
      ]
    },
    {
      "cell_type": "code",
      "source": [
        "import torch\n",
        "import numpy as np\n",
        "from typing import List, Tuple, Dict\n",
        "import matplotlib.pyplot as plt\n",
        "from tqdm import tqdm\n",
        "\n",
        "class EmbeddingSensitivityAnalyzer:\n",
        "    def __init__(self, model, tokenizer, epsilon=0.1, n_points=10):\n",
        "        self.model = model\n",
        "        self.tokenizer = tokenizer\n",
        "        self.epsilon = epsilon\n",
        "        self.n_points = n_points\n",
        "\n",
        "    def compute_embedding(self, text: str, layer_idx: int = -1) -> torch.Tensor:\n",
        "        \"\"\"Compute normalized embedding for a given text at specified layer.\"\"\"\n",
        "        inputs = self.tokenizer(text, return_tensors='pt')\n",
        "\n",
        "        with torch.no_grad():\n",
        "            outputs = self.model(**inputs, output_hidden_states=True)\n",
        "\n",
        "        layer_output = outputs.hidden_states[layer_idx]\n",
        "        normalized = self.model.encoder.layer[0].attention.output.LayerNorm(layer_output)\n",
        "        sentence_embedding = torch.mean(normalized, dim=1)\n",
        "        return torch.nn.functional.normalize(sentence_embedding, p=2, dim=1)\n",
        "\n",
        "    def compute_directional_sensitivity(self,\n",
        "                                     base_text: str,\n",
        "                                     perturbed_text: str,\n",
        "                                     layer_idx: int = -1) -> float:\n",
        "        \"\"\"Compute cosine distance between base and perturbed embeddings.\"\"\"\n",
        "        base_embedding = self.compute_embedding(base_text, layer_idx)\n",
        "        perturbed_embedding = self.compute_embedding(perturbed_text, layer_idx)\n",
        "\n",
        "        cosine_sim = torch.nn.functional.cosine_similarity(base_embedding,\n",
        "                                                         perturbed_embedding)\n",
        "        return float(1 - cosine_sim)\n",
        "\n",
        "    def analyze_token_sensitivity(self,\n",
        "                                text: str,\n",
        "                                layer_indices: List[int] = None) -> Dict:\n",
        "        \"\"\"Analyze sensitivity to token-level changes.\"\"\"\n",
        "        if layer_indices is None:\n",
        "            layer_indices = [-1]  # Default to last layer\n",
        "\n",
        "        tokens = self.tokenizer.tokenize(text)\n",
        "        results = {layer_idx: [] for layer_idx in layer_indices}\n",
        "\n",
        "        for layer_idx in layer_indices:\n",
        "            sensitivities = []\n",
        "            for i in range(len(tokens)):\n",
        "                # Create perturbed text by removing token\n",
        "                perturbed_tokens = tokens.copy()\n",
        "                del perturbed_tokens[i]\n",
        "                perturbed_text = self.tokenizer.convert_tokens_to_string(perturbed_tokens)\n",
        "\n",
        "                # Compute sensitivity\n",
        "                sensitivity = self.compute_directional_sensitivity(text,\n",
        "                                                                perturbed_text,\n",
        "                                                                layer_idx)\n",
        "                sensitivities.append((tokens[i], sensitivity))\n",
        "\n",
        "            # Sort by sensitivity\n",
        "            results[layer_idx] = sorted(sensitivities,\n",
        "                                      key=lambda x: x[1],\n",
        "                                      reverse=True)\n",
        "\n",
        "        return results\n",
        "\n",
        "    def plot_token_sensitivity(self,\n",
        "                             results: Dict,\n",
        "                             top_k: int = 10,\n",
        "                             layer_idx: int = -1):\n",
        "        \"\"\"Plot token sensitivity analysis results.\"\"\"\n",
        "        tokens, sensitivities = zip(*results[layer_idx][:top_k])\n",
        "\n",
        "        plt.figure(figsize=(12, 6))\n",
        "        plt.bar(range(len(tokens)), sensitivities)\n",
        "        plt.xticks(range(len(tokens)), tokens, rotation=45, ha='right')\n",
        "        plt.xlabel('Tokens')\n",
        "        plt.ylabel('Directional Sensitivity')\n",
        "        plt.title(f'Top {top_k} Most Sensitive Tokens (Layer {layer_idx})')\n",
        "        plt.tight_layout()\n",
        "        return plt\n",
        "\n",
        "    def analyze_neighborhood(self,\n",
        "                           text: str,\n",
        "                           target_token: str,\n",
        "                           replacements: List[str],\n",
        "                           layer_indices: List[int] = None) -> Dict:\n",
        "        \"\"\"Analyze embedding sensitivity to token replacements.\"\"\"\n",
        "        if layer_indices is None:\n",
        "            layer_indices = [-1]\n",
        "\n",
        "        results = {layer_idx: [] for layer_idx in layer_indices}\n",
        "        tokens = self.tokenizer.tokenize(text)\n",
        "\n",
        "        # Find target token indices\n",
        "        target_indices = [i for i, token in enumerate(tokens)\n",
        "                         if token == target_token]\n",
        "\n",
        "        for layer_idx in layer_indices:\n",
        "            for replacement in replacements:\n",
        "                for idx in target_indices:\n",
        "                    # Create perturbed text\n",
        "                    perturbed_tokens = tokens.copy()\n",
        "                    perturbed_tokens[idx] = replacement\n",
        "                    perturbed_text = self.tokenizer.convert_tokens_to_string(\n",
        "                        perturbed_tokens)\n",
        "\n",
        "                    # Compute sensitivity\n",
        "                    sensitivity = self.compute_directional_sensitivity(\n",
        "                        text, perturbed_text, layer_idx)\n",
        "                    results[layer_idx].append((replacement, sensitivity))\n",
        "\n",
        "        return results\n",
        "\n",
        "# Example usage\n",
        "def analyze_text_sensitivity(text: str,\n",
        "                           layer_indices: List[int] = None):\n",
        "    \"\"\"Convenience function to run a complete sensitivity analysis.\"\"\"\n",
        "    model_name = \"BAAI/bge-large-en-v1.5\"\n",
        "    tokenizer = AutoTokenizer.from_pretrained(model_name)\n",
        "    model = AutoModel.from_pretrained(model_name)\n",
        "    analyzer = EmbeddingSensitivityAnalyzer(model, tokenizer)\n",
        "\n",
        "    # Token sensitivity analysis\n",
        "    token_results = analyzer.analyze_token_sensitivity(text, layer_indices)\n",
        "\n",
        "    # Print results\n",
        "    for layer_idx, sensitivities in token_results.items():\n",
        "        print(f\"\\nLayer {layer_idx} - Top 5 most sensitive tokens:\")\n",
        "        for token, sensitivity in sensitivities[:5]:\n",
        "            print(f\"Token: {token:15} Sensitivity: {sensitivity:.4f}\")\n",
        "\n",
        "    # Plot results for the last layer\n",
        "    analyzer.plot_token_sensitivity(token_results)\n",
        "\n",
        "    return token_results"
      ],
      "metadata": {
        "id": "5xSDspyLQhYE"
      },
      "execution_count": 19,
      "outputs": []
    },
    {
      "cell_type": "code",
      "source": [
        "'''\n",
        "taking text and for each token, removing one\n",
        "taking the original text and newly tokenless text, compute the embeddings for both up to the specified layer\n",
        "then cosine similarity of tokenless embedding and original embedding\n",
        "'''\n",
        "\n",
        "analyze_text_sensitivity('hello world, how are you on this fine day', layer_indices=[-2, -1])"
      ],
      "metadata": {
        "id": "_xEcvH7yROHS"
      },
      "execution_count": null,
      "outputs": []
    },
    {
      "cell_type": "code",
      "source": [
        "model_name = \"BAAI/bge-large-en-v1.5\"\n",
        "tokenizer = AutoTokenizer.from_pretrained(model_name)\n",
        "model = AutoModel.from_pretrained(model_name)\n",
        "text = 'fantasy'\n",
        "\n",
        "inputs = tokenizer(text, return_tensors='pt')\n",
        "\n",
        "token_ids = inputs['input_ids'][0]\n",
        "tokens = tokenizer.convert_ids_to_tokens(token_ids)\n",
        "print(tokens)\n",
        "\n",
        "with torch.no_grad():\n",
        "    outputs = model(**inputs, output_hidden_states=True)\n",
        "\n",
        "last_hidden_state = outputs.last_hidden_state\n",
        "last_fantasy_layer = outputs.last_hidden_state[0][1].clone() # fantasy token embedding\n",
        "pooled_output = outputs.pooler_output[0]\n",
        "print(last_hidden_state.shape)\n",
        "print(pooled_output.shape)"
      ],
      "metadata": {
        "colab": {
          "base_uri": "https://localhost:8080/"
        },
        "id": "srqe4u72dhxF",
        "outputId": "5263a40a-400d-40ab-aeed-ed76311a694b"
      },
      "execution_count": 105,
      "outputs": [
        {
          "output_type": "stream",
          "name": "stdout",
          "text": [
            "['[CLS]', 'fantasy', '[SEP]']\n",
            "torch.Size([1, 3, 1024])\n",
            "torch.Size([1024])\n"
          ]
        }
      ]
    },
    {
      "cell_type": "code",
      "source": [
        "print(model)"
      ],
      "metadata": {
        "colab": {
          "base_uri": "https://localhost:8080/"
        },
        "id": "3AxrGsfrgsTY",
        "outputId": "4b24f705-9623-4ace-d1de-bc67b5ae012b"
      },
      "execution_count": 41,
      "outputs": [
        {
          "output_type": "stream",
          "name": "stdout",
          "text": [
            "BertModel(\n",
            "  (embeddings): BertEmbeddings(\n",
            "    (word_embeddings): Embedding(30522, 1024, padding_idx=0)\n",
            "    (position_embeddings): Embedding(512, 1024)\n",
            "    (token_type_embeddings): Embedding(2, 1024)\n",
            "    (LayerNorm): LayerNorm((1024,), eps=1e-12, elementwise_affine=True)\n",
            "    (dropout): Dropout(p=0.1, inplace=False)\n",
            "  )\n",
            "  (encoder): BertEncoder(\n",
            "    (layer): ModuleList(\n",
            "      (0-23): 24 x BertLayer(\n",
            "        (attention): BertAttention(\n",
            "          (self): BertSdpaSelfAttention(\n",
            "            (query): Linear(in_features=1024, out_features=1024, bias=True)\n",
            "            (key): Linear(in_features=1024, out_features=1024, bias=True)\n",
            "            (value): Linear(in_features=1024, out_features=1024, bias=True)\n",
            "            (dropout): Dropout(p=0.1, inplace=False)\n",
            "          )\n",
            "          (output): BertSelfOutput(\n",
            "            (dense): Linear(in_features=1024, out_features=1024, bias=True)\n",
            "            (LayerNorm): LayerNorm((1024,), eps=1e-12, elementwise_affine=True)\n",
            "            (dropout): Dropout(p=0.1, inplace=False)\n",
            "          )\n",
            "        )\n",
            "        (intermediate): BertIntermediate(\n",
            "          (dense): Linear(in_features=1024, out_features=4096, bias=True)\n",
            "          (intermediate_act_fn): GELUActivation()\n",
            "        )\n",
            "        (output): BertOutput(\n",
            "          (dense): Linear(in_features=4096, out_features=1024, bias=True)\n",
            "          (LayerNorm): LayerNorm((1024,), eps=1e-12, elementwise_affine=True)\n",
            "          (dropout): Dropout(p=0.1, inplace=False)\n",
            "        )\n",
            "      )\n",
            "    )\n",
            "  )\n",
            "  (pooler): BertPooler(\n",
            "    (dense): Linear(in_features=1024, out_features=1024, bias=True)\n",
            "    (activation): Tanh()\n",
            "  )\n",
            ")\n"
          ]
        }
      ]
    },
    {
      "cell_type": "code",
      "source": [
        "modified_pooled = model.pooler(outputs.last_hidden_state)\n",
        "print(modified_pooled.shape)"
      ],
      "metadata": {
        "colab": {
          "base_uri": "https://localhost:8080/"
        },
        "id": "Roccxk7DhlMn",
        "outputId": "eda7e1b2-d7c0-469e-9479-916f5d412502"
      },
      "execution_count": 53,
      "outputs": [
        {
          "output_type": "stream",
          "name": "stdout",
          "text": [
            "torch.Size([1, 1024])\n"
          ]
        }
      ]
    },
    {
      "cell_type": "code",
      "source": [
        "# Using allclose (will return True if tensors are nearly identical)\n",
        "print(torch.allclose(modified_pooled[0], pooled_output, atol=1e-5))\n",
        "\n",
        "# Or see the actual differences\n",
        "print((modified_pooled[0] - pooled_output).abs().max())"
      ],
      "metadata": {
        "colab": {
          "base_uri": "https://localhost:8080/"
        },
        "id": "vryJ6y0hhxzz",
        "outputId": "f703e68f-5ae2-4cf5-b122-0c95b5fbc434"
      },
      "execution_count": 54,
      "outputs": [
        {
          "output_type": "stream",
          "name": "stdout",
          "text": [
            "True\n",
            "tensor(0., grad_fn=<MaxBackward1>)\n"
          ]
        }
      ]
    },
    {
      "cell_type": "code",
      "source": [
        "print(last_fantasy_layer)\n",
        "last_fantasy_layer[0] = 1\n",
        "print(last_fantasy_layer)\n",
        "\n",
        "# print last hidden layer\n",
        "print(last_hidden_state[0][1])\n",
        "last_hidden_state[0][1] = last_fantasy_layer\n",
        "print(last_hidden_state[0][1])\n",
        "\n",
        "last_fantasy_layer[1] = 2\n",
        "print(last_fantasy_layer)\n",
        "print(last_hidden_state[0][1])"
      ],
      "metadata": {
        "colab": {
          "base_uri": "https://localhost:8080/"
        },
        "id": "4ttskll7h2c8",
        "outputId": "19ba5a0a-c4ac-43b2-cfe3-32ad185ba631"
      },
      "execution_count": 73,
      "outputs": [
        {
          "output_type": "stream",
          "name": "stdout",
          "text": [
            "tensor([ 1.0000, -0.1140,  0.5601,  ...,  0.0950, -0.4697, -0.0667])\n",
            "tensor([ 1.0000, -0.1140,  0.5601,  ...,  0.0950, -0.4697, -0.0667])\n",
            "tensor([ 1.0000, -0.1140,  0.5601,  ...,  0.0950, -0.4697, -0.0667])\n",
            "tensor([ 1.0000, -0.1140,  0.5601,  ...,  0.0950, -0.4697, -0.0667])\n",
            "tensor([ 1.0000,  2.0000,  0.5601,  ...,  0.0950, -0.4697, -0.0667])\n",
            "tensor([ 1.0000, -0.1140,  0.5601,  ...,  0.0950, -0.4697, -0.0667])\n"
          ]
        }
      ]
    },
    {
      "cell_type": "code",
      "source": [
        "def get_pooled_embedding(hidden_states):\n",
        "    return model.pooler(hidden_states)[0]\n",
        "\n",
        "def cosine_similarity(a, b):\n",
        "    return torch.nn.functional.cosine_similarity(a.unsqueeze(0), b.unsqueeze(0))\n",
        "\n",
        "# Get original embedding as baseline\n",
        "original_hidden = last_hidden_state.clone()\n",
        "original_pooled = pooled_output.clone()\n",
        "\n",
        "# Try different values and measure impact\n",
        "test_values = torch.linspace(-5, 5, 100)  # Try values from -5 to 5\n",
        "similarities = []\n",
        "\n",
        "for val in test_values:\n",
        "    modified_hidden = original_hidden.clone()\n",
        "    modified_hidden[0, 1, 0] = val\n",
        "    modified_pooled = get_pooled_embedding(modified_hidden)\n",
        "    sim = cosine_similarity(modified_pooled, original_pooled)\n",
        "    similarities.append(sim.item())\n",
        "\n",
        "# Find value that caused biggest shift\n",
        "max_shift_idx = torch.argmin(torch.tensor(similarities))\n",
        "max_shift_value = test_values[max_shift_idx]\n",
        "print(f\"Value causing biggest shift: {max_shift_value}\")\n",
        "print(f\"Resulting similarity: {similarities[max_shift_idx]}\")"
      ],
      "metadata": {
        "colab": {
          "base_uri": "https://localhost:8080/"
        },
        "id": "CfdhAnA8jr35",
        "outputId": "c2fcc9b9-5fef-40a0-aa20-5badb3d59cea"
      },
      "execution_count": 106,
      "outputs": [
        {
          "output_type": "stream",
          "name": "stdout",
          "text": [
            "Value causing biggest shift: -5.0\n",
            "Resulting similarity: 1.0000001192092896\n"
          ]
        }
      ]
    },
    {
      "cell_type": "code",
      "source": [
        "original_hidden = last_hidden_state.clone()\n",
        "original_pooled = pooled_output.clone()\n",
        "\n",
        "# Create a tensor of test values\n",
        "batch_size = 100\n",
        "test_values = torch.linspace(-500, 500, batch_size)\n",
        "\n",
        "print(f'Original Hidden: {original_hidden.shape}')\n",
        "# Create modified hidden states for all values at once\n",
        "modified_hiddens = original_hidden.repeat(batch_size, 1, 1)  # Shape: [100, seq_len, hidden_dim]\n",
        "print(\"Before:\", original_hidden[0, 1, 0])\n",
        "modified_hiddens[:, 1, 0] = test_values\n",
        "print(\"After:\", modified_hiddens[0, 1, 0])\n",
        "print(f'Modified Hidden: {modified_hiddens.shape}')\n",
        "\n",
        "# Get all pooled embeddings at once\n",
        "modified_pooled = model.pooler(modified_hiddens)\n",
        "\n",
        "print(f'Original Pooled: {original_pooled.shape}')\n",
        "print(f'Original Pooled Unsqueeze: {original_pooled.unsqueeze(0).shape}')\n",
        "print(f'Modified Pooled: {modified_pooled.shape}')\n",
        "max_diff_per_dim = (modified_pooled - original_pooled.unsqueeze(0)).abs().max(dim=0).values\n",
        "print(\"Max difference per dimension:\", max_diff_per_dim)\n",
        "# Calculate all similarities at once\n",
        "similarities = torch.nn.functional.cosine_similarity(modified_pooled, original_pooled, dim=1)\n",
        "\n",
        "# Find the value that caused biggest shift\n",
        "max_shift_idx = torch.argmin(similarities)\n",
        "max_shift_value = test_values[max_shift_idx]\n",
        "print(f'Least similar: {similarities[max_shift_idx]}')\n",
        "print(max_shift_value)"
      ],
      "metadata": {
        "colab": {
          "base_uri": "https://localhost:8080/"
        },
        "id": "MT2q6xz7j_DK",
        "outputId": "bdcea0dc-ba0c-4bd2-864a-6dc41efde20e"
      },
      "execution_count": 138,
      "outputs": [
        {
          "output_type": "stream",
          "name": "stdout",
          "text": [
            "Original Hidden: torch.Size([1, 3, 1024])\n",
            "Before: tensor(0.0741)\n",
            "After: tensor(-500.)\n",
            "Modified Hidden: torch.Size([100, 3, 1024])\n",
            "Original Pooled: torch.Size([1024])\n",
            "Original Pooled Unsqueeze: torch.Size([1, 1024])\n",
            "Modified Pooled: torch.Size([100, 1024])\n",
            "Max difference per dimension: tensor([5.9605e-08, 0.0000e+00, 2.0862e-07,  ..., 2.4959e-07, 5.9605e-08,\n",
            "        5.9605e-08], grad_fn=<MaxBackward0>)\n",
            "Least similar: 1.0000001192092896\n",
            "tensor(-500.)\n"
          ]
        }
      ]
    },
    {
      "cell_type": "code",
      "source": [
        "print(modified_hiddens[:, 1, 0])  # Should show our test_values\n",
        "print(similarities)"
      ],
      "metadata": {
        "colab": {
          "base_uri": "https://localhost:8080/"
        },
        "id": "43cdjYxwpT4i",
        "outputId": "ce34b4e5-987d-49a2-ef00-e6165df37742"
      },
      "execution_count": 134,
      "outputs": [
        {
          "output_type": "stream",
          "name": "stdout",
          "text": [
            "tensor([-500.0000, -489.8990, -479.7980, -469.6970, -459.5959, -449.4949,\n",
            "        -439.3940, -429.2929, -419.1919, -409.0909, -398.9899, -388.8889,\n",
            "        -378.7879, -368.6869, -358.5858, -348.4848, -338.3839, -328.2828,\n",
            "        -318.1818, -308.0808, -297.9798, -287.8788, -277.7778, -267.6768,\n",
            "        -257.5757, -247.4747, -237.3737, -227.2727, -217.1717, -207.0707,\n",
            "        -196.9697, -186.8687, -176.7677, -166.6667, -156.5656, -146.4646,\n",
            "        -136.3636, -126.2626, -116.1616, -106.0606,  -95.9596,  -85.8586,\n",
            "         -75.7576,  -65.6566,  -55.5555,  -45.4545,  -35.3535,  -25.2525,\n",
            "         -15.1515,   -5.0505,    5.0505,   15.1515,   25.2525,   35.3535,\n",
            "          45.4545,   55.5555,   65.6566,   75.7576,   85.8586,   95.9596,\n",
            "         106.0606,  116.1616,  126.2626,  136.3636,  146.4646,  156.5656,\n",
            "         166.6667,  176.7677,  186.8687,  196.9697,  207.0707,  217.1717,\n",
            "         227.2727,  237.3737,  247.4747,  257.5757,  267.6768,  277.7778,\n",
            "         287.8788,  297.9798,  308.0808,  318.1818,  328.2828,  338.3839,\n",
            "         348.4848,  358.5858,  368.6869,  378.7879,  388.8889,  398.9899,\n",
            "         409.0909,  419.1919,  429.2929,  439.3940,  449.4949,  459.5959,\n",
            "         469.6970,  479.7980,  489.8990,  500.0000])\n",
            "tensor([1.0000, 1.0000, 1.0000, 1.0000, 1.0000, 1.0000, 1.0000, 1.0000, 1.0000,\n",
            "        1.0000, 1.0000, 1.0000, 1.0000, 1.0000, 1.0000, 1.0000, 1.0000, 1.0000,\n",
            "        1.0000, 1.0000, 1.0000, 1.0000, 1.0000, 1.0000, 1.0000, 1.0000, 1.0000,\n",
            "        1.0000, 1.0000, 1.0000, 1.0000, 1.0000, 1.0000, 1.0000, 1.0000, 1.0000,\n",
            "        1.0000, 1.0000, 1.0000, 1.0000, 1.0000, 1.0000, 1.0000, 1.0000, 1.0000,\n",
            "        1.0000, 1.0000, 1.0000, 1.0000, 1.0000, 1.0000, 1.0000, 1.0000, 1.0000,\n",
            "        1.0000, 1.0000, 1.0000, 1.0000, 1.0000, 1.0000, 1.0000, 1.0000, 1.0000,\n",
            "        1.0000, 1.0000, 1.0000, 1.0000, 1.0000, 1.0000, 1.0000, 1.0000, 1.0000,\n",
            "        1.0000, 1.0000, 1.0000, 1.0000, 1.0000, 1.0000, 1.0000, 1.0000, 1.0000,\n",
            "        1.0000, 1.0000, 1.0000, 1.0000, 1.0000, 1.0000, 1.0000, 1.0000, 1.0000,\n",
            "        1.0000, 1.0000, 1.0000, 1.0000, 1.0000, 1.0000, 1.0000, 1.0000, 1.0000,\n",
            "        1.0000], grad_fn=<SumBackward1>)\n"
          ]
        }
      ]
    }
  ]
}