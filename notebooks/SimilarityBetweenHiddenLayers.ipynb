{
  "nbformat": 4,
  "nbformat_minor": 0,
  "metadata": {
    "colab": {
      "provenance": [],
      "gpuType": "T4"
    },
    "kernelspec": {
      "name": "python3",
      "display_name": "Python 3"
    },
    "language_info": {
      "name": "python"
    },
    "accelerator": "GPU",
    "widgets": {
      "application/vnd.jupyter.widget-state+json": {
        "6e82f6c2afa34371ac9832ef360fe722": {
          "model_module": "@jupyter-widgets/controls",
          "model_name": "HBoxModel",
          "model_module_version": "1.5.0",
          "state": {
            "_dom_classes": [],
            "_model_module": "@jupyter-widgets/controls",
            "_model_module_version": "1.5.0",
            "_model_name": "HBoxModel",
            "_view_count": null,
            "_view_module": "@jupyter-widgets/controls",
            "_view_module_version": "1.5.0",
            "_view_name": "HBoxView",
            "box_style": "",
            "children": [
              "IPY_MODEL_9b03f39cebe744ba9580199193d72d55",
              "IPY_MODEL_ba39edee1ca642f0ae0e782921684067",
              "IPY_MODEL_94b361cc2dc24019a94c8654e7ae41f7"
            ],
            "layout": "IPY_MODEL_1a3f30055c7e4e20a8199af82b2aebc8"
          }
        },
        "9b03f39cebe744ba9580199193d72d55": {
          "model_module": "@jupyter-widgets/controls",
          "model_name": "HTMLModel",
          "model_module_version": "1.5.0",
          "state": {
            "_dom_classes": [],
            "_model_module": "@jupyter-widgets/controls",
            "_model_module_version": "1.5.0",
            "_model_name": "HTMLModel",
            "_view_count": null,
            "_view_module": "@jupyter-widgets/controls",
            "_view_module_version": "1.5.0",
            "_view_name": "HTMLView",
            "description": "",
            "description_tooltip": null,
            "layout": "IPY_MODEL_a21bdc8a5c874ce0a4edf4dee0142647",
            "placeholder": "​",
            "style": "IPY_MODEL_dc887eb9a0c143a4a9bc5ce2643a962d",
            "value": "tokenizer_config.json: 100%"
          }
        },
        "ba39edee1ca642f0ae0e782921684067": {
          "model_module": "@jupyter-widgets/controls",
          "model_name": "FloatProgressModel",
          "model_module_version": "1.5.0",
          "state": {
            "_dom_classes": [],
            "_model_module": "@jupyter-widgets/controls",
            "_model_module_version": "1.5.0",
            "_model_name": "FloatProgressModel",
            "_view_count": null,
            "_view_module": "@jupyter-widgets/controls",
            "_view_module_version": "1.5.0",
            "_view_name": "ProgressView",
            "bar_style": "success",
            "description": "",
            "description_tooltip": null,
            "layout": "IPY_MODEL_36dc8f4fcf3a42c7964cd6b1001b0b6e",
            "max": 366,
            "min": 0,
            "orientation": "horizontal",
            "style": "IPY_MODEL_43c03da2b6b346a4813784304087c8a7",
            "value": 366
          }
        },
        "94b361cc2dc24019a94c8654e7ae41f7": {
          "model_module": "@jupyter-widgets/controls",
          "model_name": "HTMLModel",
          "model_module_version": "1.5.0",
          "state": {
            "_dom_classes": [],
            "_model_module": "@jupyter-widgets/controls",
            "_model_module_version": "1.5.0",
            "_model_name": "HTMLModel",
            "_view_count": null,
            "_view_module": "@jupyter-widgets/controls",
            "_view_module_version": "1.5.0",
            "_view_name": "HTMLView",
            "description": "",
            "description_tooltip": null,
            "layout": "IPY_MODEL_55804e45189c451e93043d4ab10e3125",
            "placeholder": "​",
            "style": "IPY_MODEL_19136cc161824644922f017eeabe9e30",
            "value": " 366/366 [00:00&lt;00:00, 14.8kB/s]"
          }
        },
        "1a3f30055c7e4e20a8199af82b2aebc8": {
          "model_module": "@jupyter-widgets/base",
          "model_name": "LayoutModel",
          "model_module_version": "1.2.0",
          "state": {
            "_model_module": "@jupyter-widgets/base",
            "_model_module_version": "1.2.0",
            "_model_name": "LayoutModel",
            "_view_count": null,
            "_view_module": "@jupyter-widgets/base",
            "_view_module_version": "1.2.0",
            "_view_name": "LayoutView",
            "align_content": null,
            "align_items": null,
            "align_self": null,
            "border": null,
            "bottom": null,
            "display": null,
            "flex": null,
            "flex_flow": null,
            "grid_area": null,
            "grid_auto_columns": null,
            "grid_auto_flow": null,
            "grid_auto_rows": null,
            "grid_column": null,
            "grid_gap": null,
            "grid_row": null,
            "grid_template_areas": null,
            "grid_template_columns": null,
            "grid_template_rows": null,
            "height": null,
            "justify_content": null,
            "justify_items": null,
            "left": null,
            "margin": null,
            "max_height": null,
            "max_width": null,
            "min_height": null,
            "min_width": null,
            "object_fit": null,
            "object_position": null,
            "order": null,
            "overflow": null,
            "overflow_x": null,
            "overflow_y": null,
            "padding": null,
            "right": null,
            "top": null,
            "visibility": null,
            "width": null
          }
        },
        "a21bdc8a5c874ce0a4edf4dee0142647": {
          "model_module": "@jupyter-widgets/base",
          "model_name": "LayoutModel",
          "model_module_version": "1.2.0",
          "state": {
            "_model_module": "@jupyter-widgets/base",
            "_model_module_version": "1.2.0",
            "_model_name": "LayoutModel",
            "_view_count": null,
            "_view_module": "@jupyter-widgets/base",
            "_view_module_version": "1.2.0",
            "_view_name": "LayoutView",
            "align_content": null,
            "align_items": null,
            "align_self": null,
            "border": null,
            "bottom": null,
            "display": null,
            "flex": null,
            "flex_flow": null,
            "grid_area": null,
            "grid_auto_columns": null,
            "grid_auto_flow": null,
            "grid_auto_rows": null,
            "grid_column": null,
            "grid_gap": null,
            "grid_row": null,
            "grid_template_areas": null,
            "grid_template_columns": null,
            "grid_template_rows": null,
            "height": null,
            "justify_content": null,
            "justify_items": null,
            "left": null,
            "margin": null,
            "max_height": null,
            "max_width": null,
            "min_height": null,
            "min_width": null,
            "object_fit": null,
            "object_position": null,
            "order": null,
            "overflow": null,
            "overflow_x": null,
            "overflow_y": null,
            "padding": null,
            "right": null,
            "top": null,
            "visibility": null,
            "width": null
          }
        },
        "dc887eb9a0c143a4a9bc5ce2643a962d": {
          "model_module": "@jupyter-widgets/controls",
          "model_name": "DescriptionStyleModel",
          "model_module_version": "1.5.0",
          "state": {
            "_model_module": "@jupyter-widgets/controls",
            "_model_module_version": "1.5.0",
            "_model_name": "DescriptionStyleModel",
            "_view_count": null,
            "_view_module": "@jupyter-widgets/base",
            "_view_module_version": "1.2.0",
            "_view_name": "StyleView",
            "description_width": ""
          }
        },
        "36dc8f4fcf3a42c7964cd6b1001b0b6e": {
          "model_module": "@jupyter-widgets/base",
          "model_name": "LayoutModel",
          "model_module_version": "1.2.0",
          "state": {
            "_model_module": "@jupyter-widgets/base",
            "_model_module_version": "1.2.0",
            "_model_name": "LayoutModel",
            "_view_count": null,
            "_view_module": "@jupyter-widgets/base",
            "_view_module_version": "1.2.0",
            "_view_name": "LayoutView",
            "align_content": null,
            "align_items": null,
            "align_self": null,
            "border": null,
            "bottom": null,
            "display": null,
            "flex": null,
            "flex_flow": null,
            "grid_area": null,
            "grid_auto_columns": null,
            "grid_auto_flow": null,
            "grid_auto_rows": null,
            "grid_column": null,
            "grid_gap": null,
            "grid_row": null,
            "grid_template_areas": null,
            "grid_template_columns": null,
            "grid_template_rows": null,
            "height": null,
            "justify_content": null,
            "justify_items": null,
            "left": null,
            "margin": null,
            "max_height": null,
            "max_width": null,
            "min_height": null,
            "min_width": null,
            "object_fit": null,
            "object_position": null,
            "order": null,
            "overflow": null,
            "overflow_x": null,
            "overflow_y": null,
            "padding": null,
            "right": null,
            "top": null,
            "visibility": null,
            "width": null
          }
        },
        "43c03da2b6b346a4813784304087c8a7": {
          "model_module": "@jupyter-widgets/controls",
          "model_name": "ProgressStyleModel",
          "model_module_version": "1.5.0",
          "state": {
            "_model_module": "@jupyter-widgets/controls",
            "_model_module_version": "1.5.0",
            "_model_name": "ProgressStyleModel",
            "_view_count": null,
            "_view_module": "@jupyter-widgets/base",
            "_view_module_version": "1.2.0",
            "_view_name": "StyleView",
            "bar_color": null,
            "description_width": ""
          }
        },
        "55804e45189c451e93043d4ab10e3125": {
          "model_module": "@jupyter-widgets/base",
          "model_name": "LayoutModel",
          "model_module_version": "1.2.0",
          "state": {
            "_model_module": "@jupyter-widgets/base",
            "_model_module_version": "1.2.0",
            "_model_name": "LayoutModel",
            "_view_count": null,
            "_view_module": "@jupyter-widgets/base",
            "_view_module_version": "1.2.0",
            "_view_name": "LayoutView",
            "align_content": null,
            "align_items": null,
            "align_self": null,
            "border": null,
            "bottom": null,
            "display": null,
            "flex": null,
            "flex_flow": null,
            "grid_area": null,
            "grid_auto_columns": null,
            "grid_auto_flow": null,
            "grid_auto_rows": null,
            "grid_column": null,
            "grid_gap": null,
            "grid_row": null,
            "grid_template_areas": null,
            "grid_template_columns": null,
            "grid_template_rows": null,
            "height": null,
            "justify_content": null,
            "justify_items": null,
            "left": null,
            "margin": null,
            "max_height": null,
            "max_width": null,
            "min_height": null,
            "min_width": null,
            "object_fit": null,
            "object_position": null,
            "order": null,
            "overflow": null,
            "overflow_x": null,
            "overflow_y": null,
            "padding": null,
            "right": null,
            "top": null,
            "visibility": null,
            "width": null
          }
        },
        "19136cc161824644922f017eeabe9e30": {
          "model_module": "@jupyter-widgets/controls",
          "model_name": "DescriptionStyleModel",
          "model_module_version": "1.5.0",
          "state": {
            "_model_module": "@jupyter-widgets/controls",
            "_model_module_version": "1.5.0",
            "_model_name": "DescriptionStyleModel",
            "_view_count": null,
            "_view_module": "@jupyter-widgets/base",
            "_view_module_version": "1.2.0",
            "_view_name": "StyleView",
            "description_width": ""
          }
        },
        "dfee3960e6e24d4cbdafd5538a0044f7": {
          "model_module": "@jupyter-widgets/controls",
          "model_name": "HBoxModel",
          "model_module_version": "1.5.0",
          "state": {
            "_dom_classes": [],
            "_model_module": "@jupyter-widgets/controls",
            "_model_module_version": "1.5.0",
            "_model_name": "HBoxModel",
            "_view_count": null,
            "_view_module": "@jupyter-widgets/controls",
            "_view_module_version": "1.5.0",
            "_view_name": "HBoxView",
            "box_style": "",
            "children": [
              "IPY_MODEL_aaa2718ac6d74b1fb25065c81a92a5ac",
              "IPY_MODEL_761261402e974fe99e85b2eab5998466",
              "IPY_MODEL_ea92fada3cad41b0a23dac63409c9c7b"
            ],
            "layout": "IPY_MODEL_49dfca7c802f43e094cf0a383ec11ce2"
          }
        },
        "aaa2718ac6d74b1fb25065c81a92a5ac": {
          "model_module": "@jupyter-widgets/controls",
          "model_name": "HTMLModel",
          "model_module_version": "1.5.0",
          "state": {
            "_dom_classes": [],
            "_model_module": "@jupyter-widgets/controls",
            "_model_module_version": "1.5.0",
            "_model_name": "HTMLModel",
            "_view_count": null,
            "_view_module": "@jupyter-widgets/controls",
            "_view_module_version": "1.5.0",
            "_view_name": "HTMLView",
            "description": "",
            "description_tooltip": null,
            "layout": "IPY_MODEL_e93c8274c6c347ca9f6902f8c4fa51e0",
            "placeholder": "​",
            "style": "IPY_MODEL_d49cfba71c4f45ba8c8a868c9177b2f0",
            "value": "vocab.txt: 100%"
          }
        },
        "761261402e974fe99e85b2eab5998466": {
          "model_module": "@jupyter-widgets/controls",
          "model_name": "FloatProgressModel",
          "model_module_version": "1.5.0",
          "state": {
            "_dom_classes": [],
            "_model_module": "@jupyter-widgets/controls",
            "_model_module_version": "1.5.0",
            "_model_name": "FloatProgressModel",
            "_view_count": null,
            "_view_module": "@jupyter-widgets/controls",
            "_view_module_version": "1.5.0",
            "_view_name": "ProgressView",
            "bar_style": "success",
            "description": "",
            "description_tooltip": null,
            "layout": "IPY_MODEL_44d79be9366340c4944af9673a1bdda9",
            "max": 231508,
            "min": 0,
            "orientation": "horizontal",
            "style": "IPY_MODEL_c6bf5f862b7b4da6af424c87291aa57f",
            "value": 231508
          }
        },
        "ea92fada3cad41b0a23dac63409c9c7b": {
          "model_module": "@jupyter-widgets/controls",
          "model_name": "HTMLModel",
          "model_module_version": "1.5.0",
          "state": {
            "_dom_classes": [],
            "_model_module": "@jupyter-widgets/controls",
            "_model_module_version": "1.5.0",
            "_model_name": "HTMLModel",
            "_view_count": null,
            "_view_module": "@jupyter-widgets/controls",
            "_view_module_version": "1.5.0",
            "_view_name": "HTMLView",
            "description": "",
            "description_tooltip": null,
            "layout": "IPY_MODEL_7aa028f4d64842ca8464cb38b0ef8b72",
            "placeholder": "​",
            "style": "IPY_MODEL_cacd2b6a720f4ee796cafad1f4cfe3df",
            "value": " 232k/232k [00:00&lt;00:00, 10.4MB/s]"
          }
        },
        "49dfca7c802f43e094cf0a383ec11ce2": {
          "model_module": "@jupyter-widgets/base",
          "model_name": "LayoutModel",
          "model_module_version": "1.2.0",
          "state": {
            "_model_module": "@jupyter-widgets/base",
            "_model_module_version": "1.2.0",
            "_model_name": "LayoutModel",
            "_view_count": null,
            "_view_module": "@jupyter-widgets/base",
            "_view_module_version": "1.2.0",
            "_view_name": "LayoutView",
            "align_content": null,
            "align_items": null,
            "align_self": null,
            "border": null,
            "bottom": null,
            "display": null,
            "flex": null,
            "flex_flow": null,
            "grid_area": null,
            "grid_auto_columns": null,
            "grid_auto_flow": null,
            "grid_auto_rows": null,
            "grid_column": null,
            "grid_gap": null,
            "grid_row": null,
            "grid_template_areas": null,
            "grid_template_columns": null,
            "grid_template_rows": null,
            "height": null,
            "justify_content": null,
            "justify_items": null,
            "left": null,
            "margin": null,
            "max_height": null,
            "max_width": null,
            "min_height": null,
            "min_width": null,
            "object_fit": null,
            "object_position": null,
            "order": null,
            "overflow": null,
            "overflow_x": null,
            "overflow_y": null,
            "padding": null,
            "right": null,
            "top": null,
            "visibility": null,
            "width": null
          }
        },
        "e93c8274c6c347ca9f6902f8c4fa51e0": {
          "model_module": "@jupyter-widgets/base",
          "model_name": "LayoutModel",
          "model_module_version": "1.2.0",
          "state": {
            "_model_module": "@jupyter-widgets/base",
            "_model_module_version": "1.2.0",
            "_model_name": "LayoutModel",
            "_view_count": null,
            "_view_module": "@jupyter-widgets/base",
            "_view_module_version": "1.2.0",
            "_view_name": "LayoutView",
            "align_content": null,
            "align_items": null,
            "align_self": null,
            "border": null,
            "bottom": null,
            "display": null,
            "flex": null,
            "flex_flow": null,
            "grid_area": null,
            "grid_auto_columns": null,
            "grid_auto_flow": null,
            "grid_auto_rows": null,
            "grid_column": null,
            "grid_gap": null,
            "grid_row": null,
            "grid_template_areas": null,
            "grid_template_columns": null,
            "grid_template_rows": null,
            "height": null,
            "justify_content": null,
            "justify_items": null,
            "left": null,
            "margin": null,
            "max_height": null,
            "max_width": null,
            "min_height": null,
            "min_width": null,
            "object_fit": null,
            "object_position": null,
            "order": null,
            "overflow": null,
            "overflow_x": null,
            "overflow_y": null,
            "padding": null,
            "right": null,
            "top": null,
            "visibility": null,
            "width": null
          }
        },
        "d49cfba71c4f45ba8c8a868c9177b2f0": {
          "model_module": "@jupyter-widgets/controls",
          "model_name": "DescriptionStyleModel",
          "model_module_version": "1.5.0",
          "state": {
            "_model_module": "@jupyter-widgets/controls",
            "_model_module_version": "1.5.0",
            "_model_name": "DescriptionStyleModel",
            "_view_count": null,
            "_view_module": "@jupyter-widgets/base",
            "_view_module_version": "1.2.0",
            "_view_name": "StyleView",
            "description_width": ""
          }
        },
        "44d79be9366340c4944af9673a1bdda9": {
          "model_module": "@jupyter-widgets/base",
          "model_name": "LayoutModel",
          "model_module_version": "1.2.0",
          "state": {
            "_model_module": "@jupyter-widgets/base",
            "_model_module_version": "1.2.0",
            "_model_name": "LayoutModel",
            "_view_count": null,
            "_view_module": "@jupyter-widgets/base",
            "_view_module_version": "1.2.0",
            "_view_name": "LayoutView",
            "align_content": null,
            "align_items": null,
            "align_self": null,
            "border": null,
            "bottom": null,
            "display": null,
            "flex": null,
            "flex_flow": null,
            "grid_area": null,
            "grid_auto_columns": null,
            "grid_auto_flow": null,
            "grid_auto_rows": null,
            "grid_column": null,
            "grid_gap": null,
            "grid_row": null,
            "grid_template_areas": null,
            "grid_template_columns": null,
            "grid_template_rows": null,
            "height": null,
            "justify_content": null,
            "justify_items": null,
            "left": null,
            "margin": null,
            "max_height": null,
            "max_width": null,
            "min_height": null,
            "min_width": null,
            "object_fit": null,
            "object_position": null,
            "order": null,
            "overflow": null,
            "overflow_x": null,
            "overflow_y": null,
            "padding": null,
            "right": null,
            "top": null,
            "visibility": null,
            "width": null
          }
        },
        "c6bf5f862b7b4da6af424c87291aa57f": {
          "model_module": "@jupyter-widgets/controls",
          "model_name": "ProgressStyleModel",
          "model_module_version": "1.5.0",
          "state": {
            "_model_module": "@jupyter-widgets/controls",
            "_model_module_version": "1.5.0",
            "_model_name": "ProgressStyleModel",
            "_view_count": null,
            "_view_module": "@jupyter-widgets/base",
            "_view_module_version": "1.2.0",
            "_view_name": "StyleView",
            "bar_color": null,
            "description_width": ""
          }
        },
        "7aa028f4d64842ca8464cb38b0ef8b72": {
          "model_module": "@jupyter-widgets/base",
          "model_name": "LayoutModel",
          "model_module_version": "1.2.0",
          "state": {
            "_model_module": "@jupyter-widgets/base",
            "_model_module_version": "1.2.0",
            "_model_name": "LayoutModel",
            "_view_count": null,
            "_view_module": "@jupyter-widgets/base",
            "_view_module_version": "1.2.0",
            "_view_name": "LayoutView",
            "align_content": null,
            "align_items": null,
            "align_self": null,
            "border": null,
            "bottom": null,
            "display": null,
            "flex": null,
            "flex_flow": null,
            "grid_area": null,
            "grid_auto_columns": null,
            "grid_auto_flow": null,
            "grid_auto_rows": null,
            "grid_column": null,
            "grid_gap": null,
            "grid_row": null,
            "grid_template_areas": null,
            "grid_template_columns": null,
            "grid_template_rows": null,
            "height": null,
            "justify_content": null,
            "justify_items": null,
            "left": null,
            "margin": null,
            "max_height": null,
            "max_width": null,
            "min_height": null,
            "min_width": null,
            "object_fit": null,
            "object_position": null,
            "order": null,
            "overflow": null,
            "overflow_x": null,
            "overflow_y": null,
            "padding": null,
            "right": null,
            "top": null,
            "visibility": null,
            "width": null
          }
        },
        "cacd2b6a720f4ee796cafad1f4cfe3df": {
          "model_module": "@jupyter-widgets/controls",
          "model_name": "DescriptionStyleModel",
          "model_module_version": "1.5.0",
          "state": {
            "_model_module": "@jupyter-widgets/controls",
            "_model_module_version": "1.5.0",
            "_model_name": "DescriptionStyleModel",
            "_view_count": null,
            "_view_module": "@jupyter-widgets/base",
            "_view_module_version": "1.2.0",
            "_view_name": "StyleView",
            "description_width": ""
          }
        },
        "fc5ff94a443044e28286787f9faa46b0": {
          "model_module": "@jupyter-widgets/controls",
          "model_name": "HBoxModel",
          "model_module_version": "1.5.0",
          "state": {
            "_dom_classes": [],
            "_model_module": "@jupyter-widgets/controls",
            "_model_module_version": "1.5.0",
            "_model_name": "HBoxModel",
            "_view_count": null,
            "_view_module": "@jupyter-widgets/controls",
            "_view_module_version": "1.5.0",
            "_view_name": "HBoxView",
            "box_style": "",
            "children": [
              "IPY_MODEL_7d34f898e03d4d3e8baaeb7dfe919024",
              "IPY_MODEL_e971c4de3b394645a7f5c7b15089bf07",
              "IPY_MODEL_1496c9e92cb947518b091a012dfef3e4"
            ],
            "layout": "IPY_MODEL_544ef296ed90427e946349641880a96f"
          }
        },
        "7d34f898e03d4d3e8baaeb7dfe919024": {
          "model_module": "@jupyter-widgets/controls",
          "model_name": "HTMLModel",
          "model_module_version": "1.5.0",
          "state": {
            "_dom_classes": [],
            "_model_module": "@jupyter-widgets/controls",
            "_model_module_version": "1.5.0",
            "_model_name": "HTMLModel",
            "_view_count": null,
            "_view_module": "@jupyter-widgets/controls",
            "_view_module_version": "1.5.0",
            "_view_name": "HTMLView",
            "description": "",
            "description_tooltip": null,
            "layout": "IPY_MODEL_03d4afaf7bbe4f8098f45d9aab521b21",
            "placeholder": "​",
            "style": "IPY_MODEL_04aaee2c870247e79df0cdb97b995f25",
            "value": "tokenizer.json: 100%"
          }
        },
        "e971c4de3b394645a7f5c7b15089bf07": {
          "model_module": "@jupyter-widgets/controls",
          "model_name": "FloatProgressModel",
          "model_module_version": "1.5.0",
          "state": {
            "_dom_classes": [],
            "_model_module": "@jupyter-widgets/controls",
            "_model_module_version": "1.5.0",
            "_model_name": "FloatProgressModel",
            "_view_count": null,
            "_view_module": "@jupyter-widgets/controls",
            "_view_module_version": "1.5.0",
            "_view_name": "ProgressView",
            "bar_style": "success",
            "description": "",
            "description_tooltip": null,
            "layout": "IPY_MODEL_539988fe9897434bac60d9afa85fab73",
            "max": 711396,
            "min": 0,
            "orientation": "horizontal",
            "style": "IPY_MODEL_7967fe0cf38f4e31a7990c7f1902ac54",
            "value": 711396
          }
        },
        "1496c9e92cb947518b091a012dfef3e4": {
          "model_module": "@jupyter-widgets/controls",
          "model_name": "HTMLModel",
          "model_module_version": "1.5.0",
          "state": {
            "_dom_classes": [],
            "_model_module": "@jupyter-widgets/controls",
            "_model_module_version": "1.5.0",
            "_model_name": "HTMLModel",
            "_view_count": null,
            "_view_module": "@jupyter-widgets/controls",
            "_view_module_version": "1.5.0",
            "_view_name": "HTMLView",
            "description": "",
            "description_tooltip": null,
            "layout": "IPY_MODEL_6b05a419f796410bba1d8df08655ec40",
            "placeholder": "​",
            "style": "IPY_MODEL_58f27dbf346547399ccc0df11eca6374",
            "value": " 711k/711k [00:00&lt;00:00, 3.08MB/s]"
          }
        },
        "544ef296ed90427e946349641880a96f": {
          "model_module": "@jupyter-widgets/base",
          "model_name": "LayoutModel",
          "model_module_version": "1.2.0",
          "state": {
            "_model_module": "@jupyter-widgets/base",
            "_model_module_version": "1.2.0",
            "_model_name": "LayoutModel",
            "_view_count": null,
            "_view_module": "@jupyter-widgets/base",
            "_view_module_version": "1.2.0",
            "_view_name": "LayoutView",
            "align_content": null,
            "align_items": null,
            "align_self": null,
            "border": null,
            "bottom": null,
            "display": null,
            "flex": null,
            "flex_flow": null,
            "grid_area": null,
            "grid_auto_columns": null,
            "grid_auto_flow": null,
            "grid_auto_rows": null,
            "grid_column": null,
            "grid_gap": null,
            "grid_row": null,
            "grid_template_areas": null,
            "grid_template_columns": null,
            "grid_template_rows": null,
            "height": null,
            "justify_content": null,
            "justify_items": null,
            "left": null,
            "margin": null,
            "max_height": null,
            "max_width": null,
            "min_height": null,
            "min_width": null,
            "object_fit": null,
            "object_position": null,
            "order": null,
            "overflow": null,
            "overflow_x": null,
            "overflow_y": null,
            "padding": null,
            "right": null,
            "top": null,
            "visibility": null,
            "width": null
          }
        },
        "03d4afaf7bbe4f8098f45d9aab521b21": {
          "model_module": "@jupyter-widgets/base",
          "model_name": "LayoutModel",
          "model_module_version": "1.2.0",
          "state": {
            "_model_module": "@jupyter-widgets/base",
            "_model_module_version": "1.2.0",
            "_model_name": "LayoutModel",
            "_view_count": null,
            "_view_module": "@jupyter-widgets/base",
            "_view_module_version": "1.2.0",
            "_view_name": "LayoutView",
            "align_content": null,
            "align_items": null,
            "align_self": null,
            "border": null,
            "bottom": null,
            "display": null,
            "flex": null,
            "flex_flow": null,
            "grid_area": null,
            "grid_auto_columns": null,
            "grid_auto_flow": null,
            "grid_auto_rows": null,
            "grid_column": null,
            "grid_gap": null,
            "grid_row": null,
            "grid_template_areas": null,
            "grid_template_columns": null,
            "grid_template_rows": null,
            "height": null,
            "justify_content": null,
            "justify_items": null,
            "left": null,
            "margin": null,
            "max_height": null,
            "max_width": null,
            "min_height": null,
            "min_width": null,
            "object_fit": null,
            "object_position": null,
            "order": null,
            "overflow": null,
            "overflow_x": null,
            "overflow_y": null,
            "padding": null,
            "right": null,
            "top": null,
            "visibility": null,
            "width": null
          }
        },
        "04aaee2c870247e79df0cdb97b995f25": {
          "model_module": "@jupyter-widgets/controls",
          "model_name": "DescriptionStyleModel",
          "model_module_version": "1.5.0",
          "state": {
            "_model_module": "@jupyter-widgets/controls",
            "_model_module_version": "1.5.0",
            "_model_name": "DescriptionStyleModel",
            "_view_count": null,
            "_view_module": "@jupyter-widgets/base",
            "_view_module_version": "1.2.0",
            "_view_name": "StyleView",
            "description_width": ""
          }
        },
        "539988fe9897434bac60d9afa85fab73": {
          "model_module": "@jupyter-widgets/base",
          "model_name": "LayoutModel",
          "model_module_version": "1.2.0",
          "state": {
            "_model_module": "@jupyter-widgets/base",
            "_model_module_version": "1.2.0",
            "_model_name": "LayoutModel",
            "_view_count": null,
            "_view_module": "@jupyter-widgets/base",
            "_view_module_version": "1.2.0",
            "_view_name": "LayoutView",
            "align_content": null,
            "align_items": null,
            "align_self": null,
            "border": null,
            "bottom": null,
            "display": null,
            "flex": null,
            "flex_flow": null,
            "grid_area": null,
            "grid_auto_columns": null,
            "grid_auto_flow": null,
            "grid_auto_rows": null,
            "grid_column": null,
            "grid_gap": null,
            "grid_row": null,
            "grid_template_areas": null,
            "grid_template_columns": null,
            "grid_template_rows": null,
            "height": null,
            "justify_content": null,
            "justify_items": null,
            "left": null,
            "margin": null,
            "max_height": null,
            "max_width": null,
            "min_height": null,
            "min_width": null,
            "object_fit": null,
            "object_position": null,
            "order": null,
            "overflow": null,
            "overflow_x": null,
            "overflow_y": null,
            "padding": null,
            "right": null,
            "top": null,
            "visibility": null,
            "width": null
          }
        },
        "7967fe0cf38f4e31a7990c7f1902ac54": {
          "model_module": "@jupyter-widgets/controls",
          "model_name": "ProgressStyleModel",
          "model_module_version": "1.5.0",
          "state": {
            "_model_module": "@jupyter-widgets/controls",
            "_model_module_version": "1.5.0",
            "_model_name": "ProgressStyleModel",
            "_view_count": null,
            "_view_module": "@jupyter-widgets/base",
            "_view_module_version": "1.2.0",
            "_view_name": "StyleView",
            "bar_color": null,
            "description_width": ""
          }
        },
        "6b05a419f796410bba1d8df08655ec40": {
          "model_module": "@jupyter-widgets/base",
          "model_name": "LayoutModel",
          "model_module_version": "1.2.0",
          "state": {
            "_model_module": "@jupyter-widgets/base",
            "_model_module_version": "1.2.0",
            "_model_name": "LayoutModel",
            "_view_count": null,
            "_view_module": "@jupyter-widgets/base",
            "_view_module_version": "1.2.0",
            "_view_name": "LayoutView",
            "align_content": null,
            "align_items": null,
            "align_self": null,
            "border": null,
            "bottom": null,
            "display": null,
            "flex": null,
            "flex_flow": null,
            "grid_area": null,
            "grid_auto_columns": null,
            "grid_auto_flow": null,
            "grid_auto_rows": null,
            "grid_column": null,
            "grid_gap": null,
            "grid_row": null,
            "grid_template_areas": null,
            "grid_template_columns": null,
            "grid_template_rows": null,
            "height": null,
            "justify_content": null,
            "justify_items": null,
            "left": null,
            "margin": null,
            "max_height": null,
            "max_width": null,
            "min_height": null,
            "min_width": null,
            "object_fit": null,
            "object_position": null,
            "order": null,
            "overflow": null,
            "overflow_x": null,
            "overflow_y": null,
            "padding": null,
            "right": null,
            "top": null,
            "visibility": null,
            "width": null
          }
        },
        "58f27dbf346547399ccc0df11eca6374": {
          "model_module": "@jupyter-widgets/controls",
          "model_name": "DescriptionStyleModel",
          "model_module_version": "1.5.0",
          "state": {
            "_model_module": "@jupyter-widgets/controls",
            "_model_module_version": "1.5.0",
            "_model_name": "DescriptionStyleModel",
            "_view_count": null,
            "_view_module": "@jupyter-widgets/base",
            "_view_module_version": "1.2.0",
            "_view_name": "StyleView",
            "description_width": ""
          }
        },
        "9527849feea6471bb74f07c76aad69a1": {
          "model_module": "@jupyter-widgets/controls",
          "model_name": "HBoxModel",
          "model_module_version": "1.5.0",
          "state": {
            "_dom_classes": [],
            "_model_module": "@jupyter-widgets/controls",
            "_model_module_version": "1.5.0",
            "_model_name": "HBoxModel",
            "_view_count": null,
            "_view_module": "@jupyter-widgets/controls",
            "_view_module_version": "1.5.0",
            "_view_name": "HBoxView",
            "box_style": "",
            "children": [
              "IPY_MODEL_b131172405744114bd906b5a4e9acc29",
              "IPY_MODEL_cab5e8553aa84497969b5d0c906deaa8",
              "IPY_MODEL_6364f0cc819d46ac9d720f3dc5a4d378"
            ],
            "layout": "IPY_MODEL_95981cfc50a340e5a1522bf08f2d8416"
          }
        },
        "b131172405744114bd906b5a4e9acc29": {
          "model_module": "@jupyter-widgets/controls",
          "model_name": "HTMLModel",
          "model_module_version": "1.5.0",
          "state": {
            "_dom_classes": [],
            "_model_module": "@jupyter-widgets/controls",
            "_model_module_version": "1.5.0",
            "_model_name": "HTMLModel",
            "_view_count": null,
            "_view_module": "@jupyter-widgets/controls",
            "_view_module_version": "1.5.0",
            "_view_name": "HTMLView",
            "description": "",
            "description_tooltip": null,
            "layout": "IPY_MODEL_d8752184c6184456a903deb5c34d1321",
            "placeholder": "​",
            "style": "IPY_MODEL_c62c74acb54d40638632eb53a25a16cc",
            "value": "special_tokens_map.json: 100%"
          }
        },
        "cab5e8553aa84497969b5d0c906deaa8": {
          "model_module": "@jupyter-widgets/controls",
          "model_name": "FloatProgressModel",
          "model_module_version": "1.5.0",
          "state": {
            "_dom_classes": [],
            "_model_module": "@jupyter-widgets/controls",
            "_model_module_version": "1.5.0",
            "_model_name": "FloatProgressModel",
            "_view_count": null,
            "_view_module": "@jupyter-widgets/controls",
            "_view_module_version": "1.5.0",
            "_view_name": "ProgressView",
            "bar_style": "success",
            "description": "",
            "description_tooltip": null,
            "layout": "IPY_MODEL_3e47a2c830ed4105a7868171bb9b849c",
            "max": 125,
            "min": 0,
            "orientation": "horizontal",
            "style": "IPY_MODEL_0ef9284a0ac74abdab6d049c001a290b",
            "value": 125
          }
        },
        "6364f0cc819d46ac9d720f3dc5a4d378": {
          "model_module": "@jupyter-widgets/controls",
          "model_name": "HTMLModel",
          "model_module_version": "1.5.0",
          "state": {
            "_dom_classes": [],
            "_model_module": "@jupyter-widgets/controls",
            "_model_module_version": "1.5.0",
            "_model_name": "HTMLModel",
            "_view_count": null,
            "_view_module": "@jupyter-widgets/controls",
            "_view_module_version": "1.5.0",
            "_view_name": "HTMLView",
            "description": "",
            "description_tooltip": null,
            "layout": "IPY_MODEL_5883d8dae70a4c91a54ac5c9d272ddcc",
            "placeholder": "​",
            "style": "IPY_MODEL_1f69cbd65d864c2d88a5bbed1e82968c",
            "value": " 125/125 [00:00&lt;00:00, 9.97kB/s]"
          }
        },
        "95981cfc50a340e5a1522bf08f2d8416": {
          "model_module": "@jupyter-widgets/base",
          "model_name": "LayoutModel",
          "model_module_version": "1.2.0",
          "state": {
            "_model_module": "@jupyter-widgets/base",
            "_model_module_version": "1.2.0",
            "_model_name": "LayoutModel",
            "_view_count": null,
            "_view_module": "@jupyter-widgets/base",
            "_view_module_version": "1.2.0",
            "_view_name": "LayoutView",
            "align_content": null,
            "align_items": null,
            "align_self": null,
            "border": null,
            "bottom": null,
            "display": null,
            "flex": null,
            "flex_flow": null,
            "grid_area": null,
            "grid_auto_columns": null,
            "grid_auto_flow": null,
            "grid_auto_rows": null,
            "grid_column": null,
            "grid_gap": null,
            "grid_row": null,
            "grid_template_areas": null,
            "grid_template_columns": null,
            "grid_template_rows": null,
            "height": null,
            "justify_content": null,
            "justify_items": null,
            "left": null,
            "margin": null,
            "max_height": null,
            "max_width": null,
            "min_height": null,
            "min_width": null,
            "object_fit": null,
            "object_position": null,
            "order": null,
            "overflow": null,
            "overflow_x": null,
            "overflow_y": null,
            "padding": null,
            "right": null,
            "top": null,
            "visibility": null,
            "width": null
          }
        },
        "d8752184c6184456a903deb5c34d1321": {
          "model_module": "@jupyter-widgets/base",
          "model_name": "LayoutModel",
          "model_module_version": "1.2.0",
          "state": {
            "_model_module": "@jupyter-widgets/base",
            "_model_module_version": "1.2.0",
            "_model_name": "LayoutModel",
            "_view_count": null,
            "_view_module": "@jupyter-widgets/base",
            "_view_module_version": "1.2.0",
            "_view_name": "LayoutView",
            "align_content": null,
            "align_items": null,
            "align_self": null,
            "border": null,
            "bottom": null,
            "display": null,
            "flex": null,
            "flex_flow": null,
            "grid_area": null,
            "grid_auto_columns": null,
            "grid_auto_flow": null,
            "grid_auto_rows": null,
            "grid_column": null,
            "grid_gap": null,
            "grid_row": null,
            "grid_template_areas": null,
            "grid_template_columns": null,
            "grid_template_rows": null,
            "height": null,
            "justify_content": null,
            "justify_items": null,
            "left": null,
            "margin": null,
            "max_height": null,
            "max_width": null,
            "min_height": null,
            "min_width": null,
            "object_fit": null,
            "object_position": null,
            "order": null,
            "overflow": null,
            "overflow_x": null,
            "overflow_y": null,
            "padding": null,
            "right": null,
            "top": null,
            "visibility": null,
            "width": null
          }
        },
        "c62c74acb54d40638632eb53a25a16cc": {
          "model_module": "@jupyter-widgets/controls",
          "model_name": "DescriptionStyleModel",
          "model_module_version": "1.5.0",
          "state": {
            "_model_module": "@jupyter-widgets/controls",
            "_model_module_version": "1.5.0",
            "_model_name": "DescriptionStyleModel",
            "_view_count": null,
            "_view_module": "@jupyter-widgets/base",
            "_view_module_version": "1.2.0",
            "_view_name": "StyleView",
            "description_width": ""
          }
        },
        "3e47a2c830ed4105a7868171bb9b849c": {
          "model_module": "@jupyter-widgets/base",
          "model_name": "LayoutModel",
          "model_module_version": "1.2.0",
          "state": {
            "_model_module": "@jupyter-widgets/base",
            "_model_module_version": "1.2.0",
            "_model_name": "LayoutModel",
            "_view_count": null,
            "_view_module": "@jupyter-widgets/base",
            "_view_module_version": "1.2.0",
            "_view_name": "LayoutView",
            "align_content": null,
            "align_items": null,
            "align_self": null,
            "border": null,
            "bottom": null,
            "display": null,
            "flex": null,
            "flex_flow": null,
            "grid_area": null,
            "grid_auto_columns": null,
            "grid_auto_flow": null,
            "grid_auto_rows": null,
            "grid_column": null,
            "grid_gap": null,
            "grid_row": null,
            "grid_template_areas": null,
            "grid_template_columns": null,
            "grid_template_rows": null,
            "height": null,
            "justify_content": null,
            "justify_items": null,
            "left": null,
            "margin": null,
            "max_height": null,
            "max_width": null,
            "min_height": null,
            "min_width": null,
            "object_fit": null,
            "object_position": null,
            "order": null,
            "overflow": null,
            "overflow_x": null,
            "overflow_y": null,
            "padding": null,
            "right": null,
            "top": null,
            "visibility": null,
            "width": null
          }
        },
        "0ef9284a0ac74abdab6d049c001a290b": {
          "model_module": "@jupyter-widgets/controls",
          "model_name": "ProgressStyleModel",
          "model_module_version": "1.5.0",
          "state": {
            "_model_module": "@jupyter-widgets/controls",
            "_model_module_version": "1.5.0",
            "_model_name": "ProgressStyleModel",
            "_view_count": null,
            "_view_module": "@jupyter-widgets/base",
            "_view_module_version": "1.2.0",
            "_view_name": "StyleView",
            "bar_color": null,
            "description_width": ""
          }
        },
        "5883d8dae70a4c91a54ac5c9d272ddcc": {
          "model_module": "@jupyter-widgets/base",
          "model_name": "LayoutModel",
          "model_module_version": "1.2.0",
          "state": {
            "_model_module": "@jupyter-widgets/base",
            "_model_module_version": "1.2.0",
            "_model_name": "LayoutModel",
            "_view_count": null,
            "_view_module": "@jupyter-widgets/base",
            "_view_module_version": "1.2.0",
            "_view_name": "LayoutView",
            "align_content": null,
            "align_items": null,
            "align_self": null,
            "border": null,
            "bottom": null,
            "display": null,
            "flex": null,
            "flex_flow": null,
            "grid_area": null,
            "grid_auto_columns": null,
            "grid_auto_flow": null,
            "grid_auto_rows": null,
            "grid_column": null,
            "grid_gap": null,
            "grid_row": null,
            "grid_template_areas": null,
            "grid_template_columns": null,
            "grid_template_rows": null,
            "height": null,
            "justify_content": null,
            "justify_items": null,
            "left": null,
            "margin": null,
            "max_height": null,
            "max_width": null,
            "min_height": null,
            "min_width": null,
            "object_fit": null,
            "object_position": null,
            "order": null,
            "overflow": null,
            "overflow_x": null,
            "overflow_y": null,
            "padding": null,
            "right": null,
            "top": null,
            "visibility": null,
            "width": null
          }
        },
        "1f69cbd65d864c2d88a5bbed1e82968c": {
          "model_module": "@jupyter-widgets/controls",
          "model_name": "DescriptionStyleModel",
          "model_module_version": "1.5.0",
          "state": {
            "_model_module": "@jupyter-widgets/controls",
            "_model_module_version": "1.5.0",
            "_model_name": "DescriptionStyleModel",
            "_view_count": null,
            "_view_module": "@jupyter-widgets/base",
            "_view_module_version": "1.2.0",
            "_view_name": "StyleView",
            "description_width": ""
          }
        },
        "55e9af5156234b5a9a226b35d5492581": {
          "model_module": "@jupyter-widgets/controls",
          "model_name": "HBoxModel",
          "model_module_version": "1.5.0",
          "state": {
            "_dom_classes": [],
            "_model_module": "@jupyter-widgets/controls",
            "_model_module_version": "1.5.0",
            "_model_name": "HBoxModel",
            "_view_count": null,
            "_view_module": "@jupyter-widgets/controls",
            "_view_module_version": "1.5.0",
            "_view_name": "HBoxView",
            "box_style": "",
            "children": [
              "IPY_MODEL_dfd90217ac4a4d4ea4f94826c13b980f",
              "IPY_MODEL_a3111836ff1e4c42bdfde352f92ee983",
              "IPY_MODEL_e02ac09af2184b338d158f2fbb6b3eb5"
            ],
            "layout": "IPY_MODEL_06c545e506e0465f82f11e7130409161"
          }
        },
        "dfd90217ac4a4d4ea4f94826c13b980f": {
          "model_module": "@jupyter-widgets/controls",
          "model_name": "HTMLModel",
          "model_module_version": "1.5.0",
          "state": {
            "_dom_classes": [],
            "_model_module": "@jupyter-widgets/controls",
            "_model_module_version": "1.5.0",
            "_model_name": "HTMLModel",
            "_view_count": null,
            "_view_module": "@jupyter-widgets/controls",
            "_view_module_version": "1.5.0",
            "_view_name": "HTMLView",
            "description": "",
            "description_tooltip": null,
            "layout": "IPY_MODEL_19a49b749717419ca38366fd420ed8c5",
            "placeholder": "​",
            "style": "IPY_MODEL_6ff84c1c0f4442dfb49d7fbdea12fc66",
            "value": "config.json: 100%"
          }
        },
        "a3111836ff1e4c42bdfde352f92ee983": {
          "model_module": "@jupyter-widgets/controls",
          "model_name": "FloatProgressModel",
          "model_module_version": "1.5.0",
          "state": {
            "_dom_classes": [],
            "_model_module": "@jupyter-widgets/controls",
            "_model_module_version": "1.5.0",
            "_model_name": "FloatProgressModel",
            "_view_count": null,
            "_view_module": "@jupyter-widgets/controls",
            "_view_module_version": "1.5.0",
            "_view_name": "ProgressView",
            "bar_style": "success",
            "description": "",
            "description_tooltip": null,
            "layout": "IPY_MODEL_47c4d1c413a74df49b90d18de80fad7b",
            "max": 779,
            "min": 0,
            "orientation": "horizontal",
            "style": "IPY_MODEL_7ba881afea2b4f18be3f58aa572eb558",
            "value": 779
          }
        },
        "e02ac09af2184b338d158f2fbb6b3eb5": {
          "model_module": "@jupyter-widgets/controls",
          "model_name": "HTMLModel",
          "model_module_version": "1.5.0",
          "state": {
            "_dom_classes": [],
            "_model_module": "@jupyter-widgets/controls",
            "_model_module_version": "1.5.0",
            "_model_name": "HTMLModel",
            "_view_count": null,
            "_view_module": "@jupyter-widgets/controls",
            "_view_module_version": "1.5.0",
            "_view_name": "HTMLView",
            "description": "",
            "description_tooltip": null,
            "layout": "IPY_MODEL_3eca6cf6b98d463eb7616be51ce56c2f",
            "placeholder": "​",
            "style": "IPY_MODEL_6b5fa809b23d4565ae5887431e49d479",
            "value": " 779/779 [00:00&lt;00:00, 60.2kB/s]"
          }
        },
        "06c545e506e0465f82f11e7130409161": {
          "model_module": "@jupyter-widgets/base",
          "model_name": "LayoutModel",
          "model_module_version": "1.2.0",
          "state": {
            "_model_module": "@jupyter-widgets/base",
            "_model_module_version": "1.2.0",
            "_model_name": "LayoutModel",
            "_view_count": null,
            "_view_module": "@jupyter-widgets/base",
            "_view_module_version": "1.2.0",
            "_view_name": "LayoutView",
            "align_content": null,
            "align_items": null,
            "align_self": null,
            "border": null,
            "bottom": null,
            "display": null,
            "flex": null,
            "flex_flow": null,
            "grid_area": null,
            "grid_auto_columns": null,
            "grid_auto_flow": null,
            "grid_auto_rows": null,
            "grid_column": null,
            "grid_gap": null,
            "grid_row": null,
            "grid_template_areas": null,
            "grid_template_columns": null,
            "grid_template_rows": null,
            "height": null,
            "justify_content": null,
            "justify_items": null,
            "left": null,
            "margin": null,
            "max_height": null,
            "max_width": null,
            "min_height": null,
            "min_width": null,
            "object_fit": null,
            "object_position": null,
            "order": null,
            "overflow": null,
            "overflow_x": null,
            "overflow_y": null,
            "padding": null,
            "right": null,
            "top": null,
            "visibility": null,
            "width": null
          }
        },
        "19a49b749717419ca38366fd420ed8c5": {
          "model_module": "@jupyter-widgets/base",
          "model_name": "LayoutModel",
          "model_module_version": "1.2.0",
          "state": {
            "_model_module": "@jupyter-widgets/base",
            "_model_module_version": "1.2.0",
            "_model_name": "LayoutModel",
            "_view_count": null,
            "_view_module": "@jupyter-widgets/base",
            "_view_module_version": "1.2.0",
            "_view_name": "LayoutView",
            "align_content": null,
            "align_items": null,
            "align_self": null,
            "border": null,
            "bottom": null,
            "display": null,
            "flex": null,
            "flex_flow": null,
            "grid_area": null,
            "grid_auto_columns": null,
            "grid_auto_flow": null,
            "grid_auto_rows": null,
            "grid_column": null,
            "grid_gap": null,
            "grid_row": null,
            "grid_template_areas": null,
            "grid_template_columns": null,
            "grid_template_rows": null,
            "height": null,
            "justify_content": null,
            "justify_items": null,
            "left": null,
            "margin": null,
            "max_height": null,
            "max_width": null,
            "min_height": null,
            "min_width": null,
            "object_fit": null,
            "object_position": null,
            "order": null,
            "overflow": null,
            "overflow_x": null,
            "overflow_y": null,
            "padding": null,
            "right": null,
            "top": null,
            "visibility": null,
            "width": null
          }
        },
        "6ff84c1c0f4442dfb49d7fbdea12fc66": {
          "model_module": "@jupyter-widgets/controls",
          "model_name": "DescriptionStyleModel",
          "model_module_version": "1.5.0",
          "state": {
            "_model_module": "@jupyter-widgets/controls",
            "_model_module_version": "1.5.0",
            "_model_name": "DescriptionStyleModel",
            "_view_count": null,
            "_view_module": "@jupyter-widgets/base",
            "_view_module_version": "1.2.0",
            "_view_name": "StyleView",
            "description_width": ""
          }
        },
        "47c4d1c413a74df49b90d18de80fad7b": {
          "model_module": "@jupyter-widgets/base",
          "model_name": "LayoutModel",
          "model_module_version": "1.2.0",
          "state": {
            "_model_module": "@jupyter-widgets/base",
            "_model_module_version": "1.2.0",
            "_model_name": "LayoutModel",
            "_view_count": null,
            "_view_module": "@jupyter-widgets/base",
            "_view_module_version": "1.2.0",
            "_view_name": "LayoutView",
            "align_content": null,
            "align_items": null,
            "align_self": null,
            "border": null,
            "bottom": null,
            "display": null,
            "flex": null,
            "flex_flow": null,
            "grid_area": null,
            "grid_auto_columns": null,
            "grid_auto_flow": null,
            "grid_auto_rows": null,
            "grid_column": null,
            "grid_gap": null,
            "grid_row": null,
            "grid_template_areas": null,
            "grid_template_columns": null,
            "grid_template_rows": null,
            "height": null,
            "justify_content": null,
            "justify_items": null,
            "left": null,
            "margin": null,
            "max_height": null,
            "max_width": null,
            "min_height": null,
            "min_width": null,
            "object_fit": null,
            "object_position": null,
            "order": null,
            "overflow": null,
            "overflow_x": null,
            "overflow_y": null,
            "padding": null,
            "right": null,
            "top": null,
            "visibility": null,
            "width": null
          }
        },
        "7ba881afea2b4f18be3f58aa572eb558": {
          "model_module": "@jupyter-widgets/controls",
          "model_name": "ProgressStyleModel",
          "model_module_version": "1.5.0",
          "state": {
            "_model_module": "@jupyter-widgets/controls",
            "_model_module_version": "1.5.0",
            "_model_name": "ProgressStyleModel",
            "_view_count": null,
            "_view_module": "@jupyter-widgets/base",
            "_view_module_version": "1.2.0",
            "_view_name": "StyleView",
            "bar_color": null,
            "description_width": ""
          }
        },
        "3eca6cf6b98d463eb7616be51ce56c2f": {
          "model_module": "@jupyter-widgets/base",
          "model_name": "LayoutModel",
          "model_module_version": "1.2.0",
          "state": {
            "_model_module": "@jupyter-widgets/base",
            "_model_module_version": "1.2.0",
            "_model_name": "LayoutModel",
            "_view_count": null,
            "_view_module": "@jupyter-widgets/base",
            "_view_module_version": "1.2.0",
            "_view_name": "LayoutView",
            "align_content": null,
            "align_items": null,
            "align_self": null,
            "border": null,
            "bottom": null,
            "display": null,
            "flex": null,
            "flex_flow": null,
            "grid_area": null,
            "grid_auto_columns": null,
            "grid_auto_flow": null,
            "grid_auto_rows": null,
            "grid_column": null,
            "grid_gap": null,
            "grid_row": null,
            "grid_template_areas": null,
            "grid_template_columns": null,
            "grid_template_rows": null,
            "height": null,
            "justify_content": null,
            "justify_items": null,
            "left": null,
            "margin": null,
            "max_height": null,
            "max_width": null,
            "min_height": null,
            "min_width": null,
            "object_fit": null,
            "object_position": null,
            "order": null,
            "overflow": null,
            "overflow_x": null,
            "overflow_y": null,
            "padding": null,
            "right": null,
            "top": null,
            "visibility": null,
            "width": null
          }
        },
        "6b5fa809b23d4565ae5887431e49d479": {
          "model_module": "@jupyter-widgets/controls",
          "model_name": "DescriptionStyleModel",
          "model_module_version": "1.5.0",
          "state": {
            "_model_module": "@jupyter-widgets/controls",
            "_model_module_version": "1.5.0",
            "_model_name": "DescriptionStyleModel",
            "_view_count": null,
            "_view_module": "@jupyter-widgets/base",
            "_view_module_version": "1.2.0",
            "_view_name": "StyleView",
            "description_width": ""
          }
        },
        "b1197900a9694d159c7ef84f743de942": {
          "model_module": "@jupyter-widgets/controls",
          "model_name": "HBoxModel",
          "model_module_version": "1.5.0",
          "state": {
            "_dom_classes": [],
            "_model_module": "@jupyter-widgets/controls",
            "_model_module_version": "1.5.0",
            "_model_name": "HBoxModel",
            "_view_count": null,
            "_view_module": "@jupyter-widgets/controls",
            "_view_module_version": "1.5.0",
            "_view_name": "HBoxView",
            "box_style": "",
            "children": [
              "IPY_MODEL_ae22bbb8d43a4c8bae5211ea29f95264",
              "IPY_MODEL_27bb1d4066784da884895e89368a1918",
              "IPY_MODEL_8e5e4d49c59c437197def5577de02b84"
            ],
            "layout": "IPY_MODEL_0b92d2c066f1411c94c5b3bee5a4009a"
          }
        },
        "ae22bbb8d43a4c8bae5211ea29f95264": {
          "model_module": "@jupyter-widgets/controls",
          "model_name": "HTMLModel",
          "model_module_version": "1.5.0",
          "state": {
            "_dom_classes": [],
            "_model_module": "@jupyter-widgets/controls",
            "_model_module_version": "1.5.0",
            "_model_name": "HTMLModel",
            "_view_count": null,
            "_view_module": "@jupyter-widgets/controls",
            "_view_module_version": "1.5.0",
            "_view_name": "HTMLView",
            "description": "",
            "description_tooltip": null,
            "layout": "IPY_MODEL_50a85812efeb4ee591f9e1a3200fe893",
            "placeholder": "​",
            "style": "IPY_MODEL_8efb36a8b8344c8998aa4a210cd310ad",
            "value": "model.safetensors: 100%"
          }
        },
        "27bb1d4066784da884895e89368a1918": {
          "model_module": "@jupyter-widgets/controls",
          "model_name": "FloatProgressModel",
          "model_module_version": "1.5.0",
          "state": {
            "_dom_classes": [],
            "_model_module": "@jupyter-widgets/controls",
            "_model_module_version": "1.5.0",
            "_model_name": "FloatProgressModel",
            "_view_count": null,
            "_view_module": "@jupyter-widgets/controls",
            "_view_module_version": "1.5.0",
            "_view_name": "ProgressView",
            "bar_style": "success",
            "description": "",
            "description_tooltip": null,
            "layout": "IPY_MODEL_feb0091be16d440bba7850fdec0628f0",
            "max": 1340616616,
            "min": 0,
            "orientation": "horizontal",
            "style": "IPY_MODEL_19463fef367f4f688eaf190e40033aab",
            "value": 1340616616
          }
        },
        "8e5e4d49c59c437197def5577de02b84": {
          "model_module": "@jupyter-widgets/controls",
          "model_name": "HTMLModel",
          "model_module_version": "1.5.0",
          "state": {
            "_dom_classes": [],
            "_model_module": "@jupyter-widgets/controls",
            "_model_module_version": "1.5.0",
            "_model_name": "HTMLModel",
            "_view_count": null,
            "_view_module": "@jupyter-widgets/controls",
            "_view_module_version": "1.5.0",
            "_view_name": "HTMLView",
            "description": "",
            "description_tooltip": null,
            "layout": "IPY_MODEL_1493c84f37944b42b95366af989ca4a0",
            "placeholder": "​",
            "style": "IPY_MODEL_bdcc955298f04e4ea49a90135574a704",
            "value": " 1.34G/1.34G [00:07&lt;00:00, 187MB/s]"
          }
        },
        "0b92d2c066f1411c94c5b3bee5a4009a": {
          "model_module": "@jupyter-widgets/base",
          "model_name": "LayoutModel",
          "model_module_version": "1.2.0",
          "state": {
            "_model_module": "@jupyter-widgets/base",
            "_model_module_version": "1.2.0",
            "_model_name": "LayoutModel",
            "_view_count": null,
            "_view_module": "@jupyter-widgets/base",
            "_view_module_version": "1.2.0",
            "_view_name": "LayoutView",
            "align_content": null,
            "align_items": null,
            "align_self": null,
            "border": null,
            "bottom": null,
            "display": null,
            "flex": null,
            "flex_flow": null,
            "grid_area": null,
            "grid_auto_columns": null,
            "grid_auto_flow": null,
            "grid_auto_rows": null,
            "grid_column": null,
            "grid_gap": null,
            "grid_row": null,
            "grid_template_areas": null,
            "grid_template_columns": null,
            "grid_template_rows": null,
            "height": null,
            "justify_content": null,
            "justify_items": null,
            "left": null,
            "margin": null,
            "max_height": null,
            "max_width": null,
            "min_height": null,
            "min_width": null,
            "object_fit": null,
            "object_position": null,
            "order": null,
            "overflow": null,
            "overflow_x": null,
            "overflow_y": null,
            "padding": null,
            "right": null,
            "top": null,
            "visibility": null,
            "width": null
          }
        },
        "50a85812efeb4ee591f9e1a3200fe893": {
          "model_module": "@jupyter-widgets/base",
          "model_name": "LayoutModel",
          "model_module_version": "1.2.0",
          "state": {
            "_model_module": "@jupyter-widgets/base",
            "_model_module_version": "1.2.0",
            "_model_name": "LayoutModel",
            "_view_count": null,
            "_view_module": "@jupyter-widgets/base",
            "_view_module_version": "1.2.0",
            "_view_name": "LayoutView",
            "align_content": null,
            "align_items": null,
            "align_self": null,
            "border": null,
            "bottom": null,
            "display": null,
            "flex": null,
            "flex_flow": null,
            "grid_area": null,
            "grid_auto_columns": null,
            "grid_auto_flow": null,
            "grid_auto_rows": null,
            "grid_column": null,
            "grid_gap": null,
            "grid_row": null,
            "grid_template_areas": null,
            "grid_template_columns": null,
            "grid_template_rows": null,
            "height": null,
            "justify_content": null,
            "justify_items": null,
            "left": null,
            "margin": null,
            "max_height": null,
            "max_width": null,
            "min_height": null,
            "min_width": null,
            "object_fit": null,
            "object_position": null,
            "order": null,
            "overflow": null,
            "overflow_x": null,
            "overflow_y": null,
            "padding": null,
            "right": null,
            "top": null,
            "visibility": null,
            "width": null
          }
        },
        "8efb36a8b8344c8998aa4a210cd310ad": {
          "model_module": "@jupyter-widgets/controls",
          "model_name": "DescriptionStyleModel",
          "model_module_version": "1.5.0",
          "state": {
            "_model_module": "@jupyter-widgets/controls",
            "_model_module_version": "1.5.0",
            "_model_name": "DescriptionStyleModel",
            "_view_count": null,
            "_view_module": "@jupyter-widgets/base",
            "_view_module_version": "1.2.0",
            "_view_name": "StyleView",
            "description_width": ""
          }
        },
        "feb0091be16d440bba7850fdec0628f0": {
          "model_module": "@jupyter-widgets/base",
          "model_name": "LayoutModel",
          "model_module_version": "1.2.0",
          "state": {
            "_model_module": "@jupyter-widgets/base",
            "_model_module_version": "1.2.0",
            "_model_name": "LayoutModel",
            "_view_count": null,
            "_view_module": "@jupyter-widgets/base",
            "_view_module_version": "1.2.0",
            "_view_name": "LayoutView",
            "align_content": null,
            "align_items": null,
            "align_self": null,
            "border": null,
            "bottom": null,
            "display": null,
            "flex": null,
            "flex_flow": null,
            "grid_area": null,
            "grid_auto_columns": null,
            "grid_auto_flow": null,
            "grid_auto_rows": null,
            "grid_column": null,
            "grid_gap": null,
            "grid_row": null,
            "grid_template_areas": null,
            "grid_template_columns": null,
            "grid_template_rows": null,
            "height": null,
            "justify_content": null,
            "justify_items": null,
            "left": null,
            "margin": null,
            "max_height": null,
            "max_width": null,
            "min_height": null,
            "min_width": null,
            "object_fit": null,
            "object_position": null,
            "order": null,
            "overflow": null,
            "overflow_x": null,
            "overflow_y": null,
            "padding": null,
            "right": null,
            "top": null,
            "visibility": null,
            "width": null
          }
        },
        "19463fef367f4f688eaf190e40033aab": {
          "model_module": "@jupyter-widgets/controls",
          "model_name": "ProgressStyleModel",
          "model_module_version": "1.5.0",
          "state": {
            "_model_module": "@jupyter-widgets/controls",
            "_model_module_version": "1.5.0",
            "_model_name": "ProgressStyleModel",
            "_view_count": null,
            "_view_module": "@jupyter-widgets/base",
            "_view_module_version": "1.2.0",
            "_view_name": "StyleView",
            "bar_color": null,
            "description_width": ""
          }
        },
        "1493c84f37944b42b95366af989ca4a0": {
          "model_module": "@jupyter-widgets/base",
          "model_name": "LayoutModel",
          "model_module_version": "1.2.0",
          "state": {
            "_model_module": "@jupyter-widgets/base",
            "_model_module_version": "1.2.0",
            "_model_name": "LayoutModel",
            "_view_count": null,
            "_view_module": "@jupyter-widgets/base",
            "_view_module_version": "1.2.0",
            "_view_name": "LayoutView",
            "align_content": null,
            "align_items": null,
            "align_self": null,
            "border": null,
            "bottom": null,
            "display": null,
            "flex": null,
            "flex_flow": null,
            "grid_area": null,
            "grid_auto_columns": null,
            "grid_auto_flow": null,
            "grid_auto_rows": null,
            "grid_column": null,
            "grid_gap": null,
            "grid_row": null,
            "grid_template_areas": null,
            "grid_template_columns": null,
            "grid_template_rows": null,
            "height": null,
            "justify_content": null,
            "justify_items": null,
            "left": null,
            "margin": null,
            "max_height": null,
            "max_width": null,
            "min_height": null,
            "min_width": null,
            "object_fit": null,
            "object_position": null,
            "order": null,
            "overflow": null,
            "overflow_x": null,
            "overflow_y": null,
            "padding": null,
            "right": null,
            "top": null,
            "visibility": null,
            "width": null
          }
        },
        "bdcc955298f04e4ea49a90135574a704": {
          "model_module": "@jupyter-widgets/controls",
          "model_name": "DescriptionStyleModel",
          "model_module_version": "1.5.0",
          "state": {
            "_model_module": "@jupyter-widgets/controls",
            "_model_module_version": "1.5.0",
            "_model_name": "DescriptionStyleModel",
            "_view_count": null,
            "_view_module": "@jupyter-widgets/base",
            "_view_module_version": "1.2.0",
            "_view_name": "StyleView",
            "description_width": ""
          }
        }
      }
    }
  },
  "cells": [
    {
      "cell_type": "code",
      "execution_count": 1,
      "metadata": {
        "colab": {
          "base_uri": "https://localhost:8080/",
          "height": 388,
          "referenced_widgets": [
            "6e82f6c2afa34371ac9832ef360fe722",
            "9b03f39cebe744ba9580199193d72d55",
            "ba39edee1ca642f0ae0e782921684067",
            "94b361cc2dc24019a94c8654e7ae41f7",
            "1a3f30055c7e4e20a8199af82b2aebc8",
            "a21bdc8a5c874ce0a4edf4dee0142647",
            "dc887eb9a0c143a4a9bc5ce2643a962d",
            "36dc8f4fcf3a42c7964cd6b1001b0b6e",
            "43c03da2b6b346a4813784304087c8a7",
            "55804e45189c451e93043d4ab10e3125",
            "19136cc161824644922f017eeabe9e30",
            "dfee3960e6e24d4cbdafd5538a0044f7",
            "aaa2718ac6d74b1fb25065c81a92a5ac",
            "761261402e974fe99e85b2eab5998466",
            "ea92fada3cad41b0a23dac63409c9c7b",
            "49dfca7c802f43e094cf0a383ec11ce2",
            "e93c8274c6c347ca9f6902f8c4fa51e0",
            "d49cfba71c4f45ba8c8a868c9177b2f0",
            "44d79be9366340c4944af9673a1bdda9",
            "c6bf5f862b7b4da6af424c87291aa57f",
            "7aa028f4d64842ca8464cb38b0ef8b72",
            "cacd2b6a720f4ee796cafad1f4cfe3df",
            "fc5ff94a443044e28286787f9faa46b0",
            "7d34f898e03d4d3e8baaeb7dfe919024",
            "e971c4de3b394645a7f5c7b15089bf07",
            "1496c9e92cb947518b091a012dfef3e4",
            "544ef296ed90427e946349641880a96f",
            "03d4afaf7bbe4f8098f45d9aab521b21",
            "04aaee2c870247e79df0cdb97b995f25",
            "539988fe9897434bac60d9afa85fab73",
            "7967fe0cf38f4e31a7990c7f1902ac54",
            "6b05a419f796410bba1d8df08655ec40",
            "58f27dbf346547399ccc0df11eca6374",
            "9527849feea6471bb74f07c76aad69a1",
            "b131172405744114bd906b5a4e9acc29",
            "cab5e8553aa84497969b5d0c906deaa8",
            "6364f0cc819d46ac9d720f3dc5a4d378",
            "95981cfc50a340e5a1522bf08f2d8416",
            "d8752184c6184456a903deb5c34d1321",
            "c62c74acb54d40638632eb53a25a16cc",
            "3e47a2c830ed4105a7868171bb9b849c",
            "0ef9284a0ac74abdab6d049c001a290b",
            "5883d8dae70a4c91a54ac5c9d272ddcc",
            "1f69cbd65d864c2d88a5bbed1e82968c",
            "55e9af5156234b5a9a226b35d5492581",
            "dfd90217ac4a4d4ea4f94826c13b980f",
            "a3111836ff1e4c42bdfde352f92ee983",
            "e02ac09af2184b338d158f2fbb6b3eb5",
            "06c545e506e0465f82f11e7130409161",
            "19a49b749717419ca38366fd420ed8c5",
            "6ff84c1c0f4442dfb49d7fbdea12fc66",
            "47c4d1c413a74df49b90d18de80fad7b",
            "7ba881afea2b4f18be3f58aa572eb558",
            "3eca6cf6b98d463eb7616be51ce56c2f",
            "6b5fa809b23d4565ae5887431e49d479",
            "b1197900a9694d159c7ef84f743de942",
            "ae22bbb8d43a4c8bae5211ea29f95264",
            "27bb1d4066784da884895e89368a1918",
            "8e5e4d49c59c437197def5577de02b84",
            "0b92d2c066f1411c94c5b3bee5a4009a",
            "50a85812efeb4ee591f9e1a3200fe893",
            "8efb36a8b8344c8998aa4a210cd310ad",
            "feb0091be16d440bba7850fdec0628f0",
            "19463fef367f4f688eaf190e40033aab",
            "1493c84f37944b42b95366af989ca4a0",
            "bdcc955298f04e4ea49a90135574a704"
          ]
        },
        "id": "78e3BkkJnxW-",
        "outputId": "3014394e-f94d-4efc-aafc-bec41ad17a3b"
      },
      "outputs": [
        {
          "output_type": "stream",
          "name": "stderr",
          "text": [
            "/usr/local/lib/python3.11/dist-packages/torch/__init__.py:1144: UserWarning: torch.set_default_tensor_type() is deprecated as of PyTorch 2.1, please use torch.set_default_dtype() and torch.set_default_device() as alternatives. (Triggered internally at ../torch/csrc/tensor/python_tensor.cpp:432.)\n",
            "  _C._set_default_tensor_type(t)\n"
          ]
        },
        {
          "output_type": "stream",
          "name": "stdout",
          "text": [
            "----------- Float tensor set --------------\n"
          ]
        },
        {
          "output_type": "stream",
          "name": "stderr",
          "text": [
            "/usr/local/lib/python3.11/dist-packages/huggingface_hub/utils/_auth.py:94: UserWarning: \n",
            "The secret `HF_TOKEN` does not exist in your Colab secrets.\n",
            "To authenticate with the Hugging Face Hub, create a token in your settings tab (https://huggingface.co/settings/tokens), set it as secret in your Google Colab and restart your session.\n",
            "You will be able to reuse this secret in all of your notebooks.\n",
            "Please note that authentication is recommended but still optional to access public models or datasets.\n",
            "  warnings.warn(\n"
          ]
        },
        {
          "output_type": "display_data",
          "data": {
            "text/plain": [
              "tokenizer_config.json:   0%|          | 0.00/366 [00:00<?, ?B/s]"
            ],
            "application/vnd.jupyter.widget-view+json": {
              "version_major": 2,
              "version_minor": 0,
              "model_id": "6e82f6c2afa34371ac9832ef360fe722"
            }
          },
          "metadata": {}
        },
        {
          "output_type": "display_data",
          "data": {
            "text/plain": [
              "vocab.txt:   0%|          | 0.00/232k [00:00<?, ?B/s]"
            ],
            "application/vnd.jupyter.widget-view+json": {
              "version_major": 2,
              "version_minor": 0,
              "model_id": "dfee3960e6e24d4cbdafd5538a0044f7"
            }
          },
          "metadata": {}
        },
        {
          "output_type": "display_data",
          "data": {
            "text/plain": [
              "tokenizer.json:   0%|          | 0.00/711k [00:00<?, ?B/s]"
            ],
            "application/vnd.jupyter.widget-view+json": {
              "version_major": 2,
              "version_minor": 0,
              "model_id": "fc5ff94a443044e28286787f9faa46b0"
            }
          },
          "metadata": {}
        },
        {
          "output_type": "display_data",
          "data": {
            "text/plain": [
              "special_tokens_map.json:   0%|          | 0.00/125 [00:00<?, ?B/s]"
            ],
            "application/vnd.jupyter.widget-view+json": {
              "version_major": 2,
              "version_minor": 0,
              "model_id": "9527849feea6471bb74f07c76aad69a1"
            }
          },
          "metadata": {}
        },
        {
          "output_type": "display_data",
          "data": {
            "text/plain": [
              "config.json:   0%|          | 0.00/779 [00:00<?, ?B/s]"
            ],
            "application/vnd.jupyter.widget-view+json": {
              "version_major": 2,
              "version_minor": 0,
              "model_id": "55e9af5156234b5a9a226b35d5492581"
            }
          },
          "metadata": {}
        },
        {
          "output_type": "display_data",
          "data": {
            "text/plain": [
              "model.safetensors:   0%|          | 0.00/1.34G [00:00<?, ?B/s]"
            ],
            "application/vnd.jupyter.widget-view+json": {
              "version_major": 2,
              "version_minor": 0,
              "model_id": "b1197900a9694d159c7ef84f743de942"
            }
          },
          "metadata": {}
        }
      ],
      "source": [
        "import torch\n",
        "from transformers import AutoTokenizer, AutoModel\n",
        "import numpy as np\n",
        "import matplotlib.pyplot as plt\n",
        "\n",
        "if torch.cuda.is_available():\n",
        "    torch.set_default_tensor_type('torch.cuda.FloatTensor')\n",
        "    print('----------- Float tensor set --------------')\n",
        "else:\n",
        "    print('---------------------- No CUDA -----------------')\n",
        "\n",
        "device = torch.device('cuda' if torch.cuda.is_available() else 'cpu')\n",
        "\n",
        "model_name = \"BAAI/bge-large-en-v1.5\"\n",
        "tokenizer = AutoTokenizer.from_pretrained(model_name)\n",
        "model = AutoModel.from_pretrained(model_name).to(device)"
      ]
    },
    {
      "cell_type": "code",
      "source": [
        "print(model.embeddings(input_ids=torch.tensor([[ 101, 3894, 2003, 2613,  102]]), token_type_ids = torch.tensor([[0, 0, 0, 0, 0]])))"
      ],
      "metadata": {
        "colab": {
          "base_uri": "https://localhost:8080/"
        },
        "id": "9U7vMQQrTm5J",
        "outputId": "3f92326f-3f03-465c-aab4-49c6afd69c1a"
      },
      "execution_count": null,
      "outputs": [
        {
          "output_type": "stream",
          "name": "stdout",
          "text": [
            "tensor([[[-0.0579, -0.1454, -0.1149,  ..., -0.0850, -0.0970,  0.0441],\n",
            "         [-1.0723, -0.3718,  1.0997,  ..., -1.1722,  0.3788,  0.6327],\n",
            "         [ 0.2190,  0.1230, -0.4146,  ...,  0.5126, -0.3004,  0.8545],\n",
            "         [-0.2538,  0.9347,  0.9419,  ...,  0.3180,  1.0190,  0.1344],\n",
            "         [-0.0852,  0.1868, -0.1751,  ...,  0.0075,  0.3693,  0.0385]]],\n",
            "       grad_fn=<NativeLayerNormBackward0>)\n"
          ]
        }
      ]
    },
    {
      "cell_type": "code",
      "source": [
        "# from tqdm import tqdm\n",
        "\n",
        "# for i in tqdm(range(20_000)):\n",
        "#     for j in range(20_000):\n",
        "#         if i == j: continue\n",
        "#         model.embeddings(input_ids=torch.tensor([[ 101, i, j, 1,  102]]), token_type_ids = torch.tensor([[0, 0, 0, 0, 0]]))\n",
        "\n",
        "import torch\n",
        "from tqdm import tqdm\n",
        "from torch.utils.data import DataLoader, TensorDataset\n",
        "\n",
        "# Pre-create the fixed tensor components to avoid repetition\n",
        "token_type_ids = torch.tensor([[0, 0, 0, 0, 0]]).to('cuda')\n",
        "\n",
        "# Function to generate input batches\n",
        "def generate_input_batches(batch_size=64, vocab_size=20_000):\n",
        "    input_ids = []\n",
        "    for i in range(vocab_size):\n",
        "        for j in range(vocab_size):  # Skip j <= i to avoid checking i == j\n",
        "            input_ids.append([101, i, j, 1, 102])\n",
        "\n",
        "        # Yield the batch when it's filled to avoid storing everything at once\n",
        "        if len(input_ids) >= batch_size:\n",
        "            yield torch.tensor(input_ids).to('cuda')\n",
        "            input_ids = []  # Reset the batch\n",
        "\n",
        "    # Yield any remaining input_ids that didn't fill a full batch\n",
        "    if input_ids:\n",
        "        yield torch.tensor(input_ids)\n",
        "\n",
        "# Set up the DataLoader to process input batches\n",
        "batch_size = 100_000  # Modify this based on available memory\n",
        "input_batches = generate_input_batches(batch_size=batch_size)\n",
        "\n",
        "# Now iterate over the batches and feed them to the model\n",
        "for input_batch in tqdm(input_batches, desc=\"Processing batches\"):\n",
        "    # Assuming the model can handle batch processing\n",
        "    input_batch = input_batch.unsqueeze(1)  # Add batch dimension\n",
        "    model.embeddings(input_ids=input_batch, token_type_ids=token_type_ids)\n",
        "\n"
      ],
      "metadata": {
        "colab": {
          "base_uri": "https://localhost:8080/"
        },
        "id": "5uFacPvl87lH",
        "outputId": "0e5554f0-f9a2-4035-f753-6333a5db49b3"
      },
      "execution_count": null,
      "outputs": [
        {
          "output_type": "stream",
          "name": "stderr",
          "text": [
            "Processing batches: 4000it [19:42,  3.38it/s]\n"
          ]
        }
      ]
    },
    {
      "cell_type": "code",
      "source": [
        "targetText = 'magic is real'\n",
        "print(tokenizer(targetText, return_tensors='pt'))\n",
        "outputs = model(**tokenizer(targetText, return_tensors='pt'), output_hidden_states=True)\n",
        "target_embedding = outputs.pooler_output[0]\n",
        "print(target_embedding)"
      ],
      "metadata": {
        "colab": {
          "base_uri": "https://localhost:8080/"
        },
        "id": "rMMA90GRn8V_",
        "outputId": "a2897f28-4783-40e4-ba97-d2188e646d7e"
      },
      "execution_count": 2,
      "outputs": [
        {
          "output_type": "stream",
          "name": "stdout",
          "text": [
            "{'input_ids': tensor([[ 101, 3894, 2003, 2613,  102]]), 'token_type_ids': tensor([[0, 0, 0, 0, 0]]), 'attention_mask': tensor([[1, 1, 1, 1, 1]])}\n",
            "tensor([-0.9450, -0.8097, -0.8362,  ...,  0.4859,  0.9817, -0.8716],\n",
            "       grad_fn=<SelectBackward0>)\n"
          ]
        }
      ]
    },
    {
      "cell_type": "code",
      "source": [
        "tokenizer(targetText, return_tensors='pt')"
      ],
      "metadata": {
        "colab": {
          "base_uri": "https://localhost:8080/"
        },
        "id": "3KyNtE328ppr",
        "outputId": "f15f78e1-5305-411a-c9c9-6aa1912cf125"
      },
      "execution_count": null,
      "outputs": [
        {
          "output_type": "execute_result",
          "data": {
            "text/plain": [
              "{'input_ids': tensor([[ 101, 3894, 2003, 2613,  102]]), 'token_type_ids': tensor([[0, 0, 0, 0, 0]]), 'attention_mask': tensor([[1, 1, 1, 1, 1]])}"
            ]
          },
          "metadata": {},
          "execution_count": 37
        }
      ]
    },
    {
      "cell_type": "code",
      "source": [
        "outputs.pooler_output[0].shape"
      ],
      "metadata": {
        "colab": {
          "base_uri": "https://localhost:8080/"
        },
        "id": "fPnyYTFuMCgn",
        "outputId": "a77e793a-ac77-4b6f-8e01-187a01c72cae"
      },
      "execution_count": null,
      "outputs": [
        {
          "output_type": "execute_result",
          "data": {
            "text/plain": [
              "torch.Size([1, 1024])"
            ]
          },
          "metadata": {},
          "execution_count": 21
        }
      ]
    },
    {
      "cell_type": "code",
      "source": [
        "for i in range(len(outputs.hidden_states)):\n",
        "    print(outputs.hidden_states[i])"
      ],
      "metadata": {
        "id": "c0NR_EJxobja"
      },
      "execution_count": null,
      "outputs": []
    },
    {
      "cell_type": "code",
      "source": [
        "outputs.pooler_output[0]"
      ],
      "metadata": {
        "colab": {
          "base_uri": "https://localhost:8080/"
        },
        "id": "mcAZOlucozDf",
        "outputId": "e6724698-42dd-4562-c94c-96a80dfea041"
      },
      "execution_count": null,
      "outputs": [
        {
          "output_type": "execute_result",
          "data": {
            "text/plain": [
              "tensor([-0.9450, -0.8097, -0.8362,  ...,  0.4859,  0.9817, -0.8716],\n",
              "       grad_fn=<SelectBackward0>)"
            ]
          },
          "metadata": {},
          "execution_count": 18
        }
      ]
    },
    {
      "cell_type": "code",
      "source": [
        "model.pooler(outputs.hidden_states[-1])[0]"
      ],
      "metadata": {
        "colab": {
          "base_uri": "https://localhost:8080/"
        },
        "id": "QxK_W4RQpGUw",
        "outputId": "e96cdd4d-5fdd-401c-90da-5435735ebf91"
      },
      "execution_count": null,
      "outputs": [
        {
          "output_type": "execute_result",
          "data": {
            "text/plain": [
              "tensor([-0.9450, -0.8097, -0.8362,  ...,  0.4859,  0.9817, -0.8716],\n",
              "       grad_fn=<SelectBackward0>)"
            ]
          },
          "metadata": {},
          "execution_count": 19
        }
      ]
    },
    {
      "cell_type": "code",
      "source": [
        "import torch\n",
        "from transformers import AutoTokenizer, AutoModel\n",
        "import numpy as np\n",
        "import torch.nn.functional as F\n",
        "\n",
        "def cosine_similarity(embedding1, embedding2):\n",
        "  # Normalize the embeddings\n",
        "  embedding1_normalized = F.normalize(embedding1, p=2, dim=0)\n",
        "  embedding2_normalized = F.normalize(embedding2, p=2, dim=0)\n",
        "\n",
        "  # Calculate the dot product\n",
        "  dot_product = torch.dot(embedding1_normalized, embedding2_normalized)\n",
        "\n",
        "  return dot_product.item()\n",
        "\n",
        "text1 = 'magic is real'\n",
        "text2 = 'magic are real'\n",
        "print(tokenizer(text1, return_tensors='pt'))\n",
        "print(tokenizer(text2, return_tensors='pt'))\n",
        "cosine_similarity(model(**tokenizer(text1, return_tensors='pt'), output_hidden_states=True).pooler_output[0], model(**tokenizer(text2, return_tensors='pt'), output_hidden_states=True).pooler_output[0])"
      ],
      "metadata": {
        "colab": {
          "base_uri": "https://localhost:8080/"
        },
        "id": "eemX_TS3ooXE",
        "outputId": "46bc67ac-71e7-4567-a480-4db70ada377a"
      },
      "execution_count": null,
      "outputs": [
        {
          "output_type": "stream",
          "name": "stdout",
          "text": [
            "{'input_ids': tensor([[ 101, 3894, 2003, 2613,  102]]), 'token_type_ids': tensor([[0, 0, 0, 0, 0]]), 'attention_mask': tensor([[1, 1, 1, 1, 1]])}\n",
            "{'input_ids': tensor([[ 101, 3894, 2024, 2613,  102]]), 'token_type_ids': tensor([[0, 0, 0, 0, 0]]), 'attention_mask': tensor([[1, 1, 1, 1, 1]])}\n"
          ]
        },
        {
          "output_type": "execute_result",
          "data": {
            "text/plain": [
              "0.9960455894470215"
            ]
          },
          "metadata": {},
          "execution_count": 4
        }
      ]
    },
    {
      "cell_type": "code",
      "source": [
        "cosineSimilarities = []\n",
        "\n",
        "for i in range(len(outputs.hidden_states)):\n",
        "    hiddenStateSimilarity = []\n",
        "    embeddingI = model.pooler(outputs.hidden_states[i])[0]\n",
        "    for j in range(len(outputs.hidden_states)):\n",
        "        embeddingJ = model.pooler(outputs.hidden_states[j])[0]\n",
        "        hiddenStateSimilarity.append(round(cosine_similarity(embeddingI, embeddingJ), 2))\n",
        "    cosineSimilarities.append(hiddenStateSimilarity)"
      ],
      "metadata": {
        "id": "45MtGwbQpS5m"
      },
      "execution_count": null,
      "outputs": []
    },
    {
      "cell_type": "code",
      "source": [
        "for i in range(len(cosineSimilarities)):\n",
        "    print(f'{cosineSimilarities[i]}')"
      ],
      "metadata": {
        "colab": {
          "base_uri": "https://localhost:8080/"
        },
        "id": "BjxDCR7Zqlgp",
        "outputId": "43a30e7e-6a8a-42a2-e054-132ffeac6d1c"
      },
      "execution_count": null,
      "outputs": [
        {
          "output_type": "stream",
          "name": "stdout",
          "text": [
            "[1.0, 0.85, 0.84, 0.84, 0.85, 0.78, 0.59, 0.35, -0.0, -0.06, 0.01, 0.17, -0.01, 0.07, -0.08, 0.08, 0.1, -0.15, -0.17, -0.03, -0.01, 0.1, 0.11, 0.19, 0.16]\n",
            "[0.85, 1.0, 1.0, 0.99, 0.99, 0.93, 0.7, 0.36, -0.05, -0.09, 0.05, 0.29, 0.07, 0.18, -0.01, 0.24, 0.26, -0.12, -0.2, -0.01, 0.01, 0.16, 0.17, 0.26, 0.27]\n",
            "[0.84, 1.0, 1.0, 1.0, 0.99, 0.93, 0.71, 0.36, -0.07, -0.11, 0.04, 0.29, 0.06, 0.18, -0.01, 0.26, 0.29, -0.1, -0.19, 0.01, 0.04, 0.19, 0.2, 0.29, 0.3]\n",
            "[0.84, 0.99, 1.0, 1.0, 1.0, 0.93, 0.7, 0.35, -0.08, -0.11, 0.03, 0.28, 0.05, 0.15, -0.03, 0.25, 0.28, -0.1, -0.18, 0.02, 0.04, 0.2, 0.21, 0.3, 0.3]\n",
            "[0.85, 0.99, 0.99, 1.0, 1.0, 0.95, 0.74, 0.38, -0.09, -0.13, 0.02, 0.28, 0.05, 0.15, -0.04, 0.26, 0.29, -0.09, -0.18, 0.04, 0.06, 0.22, 0.23, 0.33, 0.33]\n",
            "[0.78, 0.93, 0.93, 0.93, 0.95, 1.0, 0.91, 0.58, -0.04, -0.1, 0.08, 0.39, 0.12, 0.2, -0.02, 0.32, 0.37, -0.08, -0.19, 0.08, 0.1, 0.31, 0.31, 0.42, 0.45]\n",
            "[0.59, 0.7, 0.71, 0.7, 0.74, 0.91, 1.0, 0.79, 0.07, -0.0, 0.18, 0.49, 0.21, 0.25, 0.01, 0.33, 0.39, -0.06, -0.17, 0.14, 0.16, 0.39, 0.38, 0.48, 0.52]\n",
            "[0.35, 0.36, 0.36, 0.35, 0.38, 0.58, 0.79, 1.0, 0.63, 0.55, 0.64, 0.75, 0.59, 0.54, 0.33, 0.23, 0.25, -0.04, -0.11, 0.08, 0.1, 0.28, 0.25, 0.29, 0.33]\n",
            "[-0.0, -0.05, -0.07, -0.08, -0.09, -0.04, 0.07, 0.63, 1.0, 0.98, 0.91, 0.7, 0.8, 0.69, 0.64, 0.06, -0.01, 0.02, 0.06, -0.06, -0.03, -0.03, -0.07, -0.13, -0.16]\n",
            "[-0.06, -0.09, -0.11, -0.11, -0.13, -0.1, -0.0, 0.55, 0.98, 1.0, 0.94, 0.72, 0.84, 0.72, 0.7, 0.1, 0.03, 0.06, 0.1, -0.05, -0.02, -0.03, -0.07, -0.14, -0.18]\n",
            "[0.01, 0.05, 0.04, 0.03, 0.02, 0.08, 0.18, 0.64, 0.91, 0.94, 1.0, 0.87, 0.92, 0.85, 0.76, 0.3, 0.23, 0.17, 0.13, 0.05, 0.05, 0.08, 0.04, -0.0, 0.01]\n",
            "[0.17, 0.29, 0.29, 0.28, 0.28, 0.39, 0.49, 0.75, 0.7, 0.72, 0.87, 1.0, 0.9, 0.87, 0.7, 0.52, 0.48, 0.24, 0.16, 0.23, 0.23, 0.34, 0.31, 0.31, 0.32]\n",
            "[-0.01, 0.07, 0.06, 0.05, 0.05, 0.12, 0.21, 0.59, 0.8, 0.84, 0.92, 0.9, 1.0, 0.93, 0.87, 0.48, 0.38, 0.25, 0.23, 0.11, 0.1, 0.13, 0.08, 0.03, 0.02]\n",
            "[0.07, 0.18, 0.18, 0.15, 0.15, 0.2, 0.25, 0.54, 0.69, 0.72, 0.85, 0.87, 0.93, 1.0, 0.9, 0.61, 0.5, 0.33, 0.29, 0.18, 0.16, 0.16, 0.11, 0.08, 0.07]\n",
            "[-0.08, -0.01, -0.01, -0.03, -0.04, -0.02, 0.01, 0.33, 0.64, 0.7, 0.76, 0.7, 0.87, 0.9, 1.0, 0.63, 0.5, 0.44, 0.44, 0.2, 0.16, 0.09, 0.02, -0.07, -0.11]\n",
            "[0.08, 0.24, 0.26, 0.25, 0.26, 0.32, 0.33, 0.23, 0.06, 0.1, 0.3, 0.52, 0.48, 0.61, 0.63, 1.0, 0.96, 0.75, 0.65, 0.61, 0.51, 0.5, 0.44, 0.39, 0.39]\n",
            "[0.1, 0.26, 0.29, 0.28, 0.29, 0.37, 0.39, 0.25, -0.01, 0.03, 0.23, 0.48, 0.38, 0.5, 0.5, 0.96, 1.0, 0.8, 0.67, 0.7, 0.58, 0.59, 0.54, 0.51, 0.52]\n",
            "[-0.15, -0.12, -0.1, -0.1, -0.09, -0.08, -0.06, -0.04, 0.02, 0.06, 0.17, 0.24, 0.25, 0.33, 0.44, 0.75, 0.8, 1.0, 0.91, 0.83, 0.68, 0.54, 0.5, 0.41, 0.4]\n",
            "[-0.17, -0.2, -0.19, -0.18, -0.18, -0.19, -0.17, -0.11, 0.06, 0.1, 0.13, 0.16, 0.23, 0.29, 0.44, 0.65, 0.67, 0.91, 1.0, 0.82, 0.72, 0.53, 0.48, 0.35, 0.23]\n",
            "[-0.03, -0.01, 0.01, 0.02, 0.04, 0.08, 0.14, 0.08, -0.06, -0.05, 0.05, 0.23, 0.11, 0.18, 0.2, 0.61, 0.7, 0.83, 0.82, 1.0, 0.92, 0.82, 0.79, 0.71, 0.6]\n",
            "[-0.01, 0.01, 0.04, 0.04, 0.06, 0.1, 0.16, 0.1, -0.03, -0.02, 0.05, 0.23, 0.1, 0.16, 0.16, 0.51, 0.58, 0.68, 0.72, 0.92, 1.0, 0.92, 0.9, 0.79, 0.58]\n",
            "[0.1, 0.16, 0.19, 0.2, 0.22, 0.31, 0.39, 0.28, -0.03, -0.03, 0.08, 0.34, 0.13, 0.16, 0.09, 0.5, 0.59, 0.54, 0.53, 0.82, 0.92, 1.0, 0.98, 0.93, 0.73]\n",
            "[0.11, 0.17, 0.2, 0.21, 0.23, 0.31, 0.38, 0.25, -0.07, -0.07, 0.04, 0.31, 0.08, 0.11, 0.02, 0.44, 0.54, 0.5, 0.48, 0.79, 0.9, 0.98, 1.0, 0.96, 0.77]\n",
            "[0.19, 0.26, 0.29, 0.3, 0.33, 0.42, 0.48, 0.29, -0.13, -0.14, -0.0, 0.31, 0.03, 0.08, -0.07, 0.39, 0.51, 0.41, 0.35, 0.71, 0.79, 0.93, 0.96, 1.0, 0.86]\n",
            "[0.16, 0.27, 0.3, 0.3, 0.33, 0.45, 0.52, 0.33, -0.16, -0.18, 0.01, 0.32, 0.02, 0.07, -0.11, 0.39, 0.52, 0.4, 0.23, 0.6, 0.58, 0.73, 0.77, 0.86, 1.0]\n"
          ]
        }
      ]
    },
    {
      "cell_type": "code",
      "source": [
        "import numpy as np\n",
        "\n",
        "def find_all_possible_inputs(y, W, b):\n",
        "    \"\"\"\n",
        "    Find all possible inputs x that satisfy y = tanh(Wx + b)\n",
        "\n",
        "    Parameters:\n",
        "    y: target output vector (must have all elements between -1 and 1)\n",
        "    W: weight matrix\n",
        "    b: bias vector\n",
        "\n",
        "    Returns:\n",
        "    function that generates solutions based on input z\n",
        "    \"\"\"\n",
        "    # Check if y is valid (all elements between -1 and 1)\n",
        "    if not np.all(np.abs(y) < 1):\n",
        "        raise ValueError(\"All elements of y must be between -1 and 1\")\n",
        "\n",
        "    # Step 1: Apply arctanh\n",
        "    arctanh_y = np.arctanh(y)\n",
        "\n",
        "    # Step 2: Subtract bias\n",
        "    target = arctanh_y - b\n",
        "\n",
        "    # Step 3: Find pseudoinverse of W\n",
        "    W_pinv = np.linalg.pinv(W)\n",
        "\n",
        "    # Create nullspace projection matrix\n",
        "    I = np.eye(W.shape[1])\n",
        "    nullspace_proj = I - W_pinv @ W\n",
        "\n",
        "    # Return function that generates solutions for any z\n",
        "    def solution_generator(z):\n",
        "        particular_solution = W_pinv @ target\n",
        "        nullspace_component = nullspace_proj @ z\n",
        "        print(\"Nullspace component magnitude:\", np.linalg.norm(nullspace_proj @ z))\n",
        "        print(\"Particular solution magnitude:\", np.linalg.norm(particular_solution))\n",
        "        return particular_solution + nullspace_component\n",
        "\n",
        "    return solution_generator\n",
        "\n",
        "# Create sample data\n",
        "n = 1024  # Using small dimension for example\n",
        "W = model.pooler.dense.weight.cpu().detach().clone().numpy()\n",
        "b = model.pooler.dense.bias.cpu().detach().clone().numpy()\n",
        "x_original = outputs.hidden_states[24][0][0].cpu().clone().detach().numpy()\n",
        "y = outputs.pooler_output[0].cpu().clone().detach().numpy()\n",
        "\n",
        "# Find solution generator\n",
        "solution_gen = find_all_possible_inputs(y, W, b)\n",
        "\n",
        "# Generate some solutions\n",
        "z = np.random.randn(n)\n",
        "x_solution = solution_gen(z)\n",
        "\n",
        "# Verify solution\n",
        "y_reconstructed = np.tanh(W @ x_solution + b)\n",
        "print(\"Original y:\", y)\n",
        "print(\"Reconstructed y:\", y_reconstructed)\n",
        "print(\"Original x:\", x_original)\n",
        "print(\"Reconstructed x:\", x_solution)\n",
        "print(\"Difference in input:\", cosine_similarity(torch.tensor(outputs.hidden_states[24][0][0].clone().detach(), dtype=torch.float32),\n",
        "                                                torch.tensor(x_solution, dtype=torch.float32)))\n",
        "print(\"Difference in output:\", cosine_similarity(torch.tensor(y, dtype=torch.float32), torch.tensor(y_reconstructed, dtype=torch.float32)))"
      ],
      "metadata": {
        "colab": {
          "base_uri": "https://localhost:8080/"
        },
        "id": "LJ5HR1DuLonW",
        "outputId": "38fbf086-ecea-41f6-b0af-e0a458836f89"
      },
      "execution_count": null,
      "outputs": [
        {
          "output_type": "stream",
          "name": "stdout",
          "text": [
            "Nullspace component magnitude: 0.0013127521677299607\n",
            "Particular solution magnitude: 16.7591\n",
            "Original y: [-0.94499    -0.8097365  -0.83618635 ...  0.48591825  0.9817478\n",
            " -0.8716495 ]\n",
            "Reconstructed y: [-0.94498924 -0.80972441 -0.83615186 ...  0.48591111  0.98174978\n",
            " -0.87165019]\n",
            "Original x: [ 0.35757935  0.3042189   0.56853807 ... -0.26189774  0.37367082\n",
            "  0.65639853]\n",
            "Reconstructed x: [ 0.35779906  0.30413393  0.56839237 ... -0.26174653  0.37360273\n",
            "  0.65654937]\n",
            "Difference in input: 0.9999998807907104\n",
            "Difference in output: 1.0\n"
          ]
        },
        {
          "output_type": "stream",
          "name": "stderr",
          "text": [
            "<ipython-input-35-7715d554ad09>:62: UserWarning: To copy construct from a tensor, it is recommended to use sourceTensor.clone().detach() or sourceTensor.clone().detach().requires_grad_(True), rather than torch.tensor(sourceTensor).\n",
            "  print(\"Difference in input:\", cosine_similarity(torch.tensor(outputs.hidden_states[24][0][0].clone().detach(), dtype=torch.float32),\n"
          ]
        }
      ]
    },
    {
      "cell_type": "code",
      "source": [
        "import numpy as np\n",
        "\n",
        "def find_possible_encoder_inputs(output, layer_params, prev_layer_output=None):\n",
        "    \"\"\"\n",
        "    Find possible inputs that could have produced the given output through a BERT encoder layer\n",
        "\n",
        "    Parameters:\n",
        "    output: target output tensor from the layer\n",
        "    layer_params: dict containing weight matrices and biases:\n",
        "        - attention_qkv: weights for query, key, value projections\n",
        "        - attention_output: weights for attention output projection\n",
        "        - intermediate: weights for intermediate dense layer\n",
        "        - output: weights for output dense layer\n",
        "        - layernorm1: first LayerNorm parameters\n",
        "        - layernorm2: second LayerNorm parameters\n",
        "    prev_layer_output: optional output from previous layer (for attention computation)\n",
        "\n",
        "    Returns:\n",
        "    function that generates possible input solutions\n",
        "    \"\"\"\n",
        "    def reverse_layer_norm(normalized_output, gamma, beta, epsilon=1e-12):\n",
        "        # Approximate inverse of layer normalization\n",
        "        mean = beta[None, :]  # Shape: [1, 1024] to broadcast with [5, 1024]\n",
        "        var = (gamma[None, :] ** 2) - epsilon\n",
        "        return normalized_output * np.sqrt(var) + mean\n",
        "\n",
        "    def reverse_gelu(y):\n",
        "        # Simpler, more stable GELU inverse approximation\n",
        "        # Add small epsilon to prevent division by zero\n",
        "        eps = 1e-6\n",
        "\n",
        "        def gelu_forward(x):\n",
        "            return 0.5 * x * (1 + np.tanh(np.sqrt(2/np.pi) * (x + 0.044715 * x**3)))\n",
        "\n",
        "        def newton_step(x):\n",
        "            gelu = gelu_forward(x)\n",
        "            # Clip to prevent division by zero\n",
        "            x_safe = np.clip(x, -100, 100)\n",
        "            grad = 0.5 * (1 + np.tanh(np.sqrt(2/np.pi) * (x_safe + 0.044715 * x_safe**3)))\n",
        "            grad = np.clip(grad, eps, 1.0)  # Ensure gradient is never zero\n",
        "            return x - (gelu - y) / grad\n",
        "\n",
        "        x = y  # Initial guess\n",
        "        for _ in range(3):  # Fewer iterations for stability\n",
        "            x = np.clip(newton_step(x), -100, 100)  # Clip values to prevent overflow\n",
        "        return x\n",
        "\n",
        "    def find_attention_inputs(target_attention_output, qkv_weights, output_weights, num_heads=16):\n",
        "        W_o = output_weights['weight']\n",
        "        b_o = output_weights['bias']\n",
        "        W_o_pinv = np.linalg.pinv(W_o)\n",
        "\n",
        "        # Get dimensions\n",
        "        seq_length = target_attention_output.shape[0]\n",
        "        hidden_size = target_attention_output.shape[1]\n",
        "        head_size = hidden_size // num_heads\n",
        "\n",
        "        def attention_solution_generator(z):\n",
        "            # Instead of trying to invert the full attention mechanism,\n",
        "            # let's just try to find a vector that produces the right output\n",
        "            target = target_attention_output - b_o[None, :]  # Remove bias\n",
        "\n",
        "            # Use pseudo-inverse to find a particular solution\n",
        "            particular = (W_o_pinv @ target.T).T\n",
        "\n",
        "            # Add a small perturbation from the null space\n",
        "            nullspace = np.eye(W_o.shape[1]) - W_o_pinv @ W_o\n",
        "            z_scaled = z * 0.1  # Scale down the random component\n",
        "            solution = particular + (nullspace @ z_scaled.T).T\n",
        "\n",
        "            return solution\n",
        "\n",
        "        return attention_solution_generator\n",
        "\n",
        "    def solution_generator(z_attention, z_intermediate, temperature=1.0):\n",
        "        # Reverse the transformations in reverse order\n",
        "\n",
        "        # 1. Reverse the final layer norm\n",
        "        prenorm2 = reverse_layer_norm(\n",
        "            output,\n",
        "            layer_params['layernorm2']['gamma'],\n",
        "            layer_params['layernorm2']['beta']\n",
        "        )\n",
        "\n",
        "        # 2. Reverse the residual connection from the intermediate layer\n",
        "        intermediate_output = prenorm2 - output  # Remove residual\n",
        "\n",
        "        # 3. Reverse the output dense layer\n",
        "        W_out = layer_params['output']['weight']\n",
        "        b_out = layer_params['output']['bias']\n",
        "        intermediate_hidden = np.linalg.pinv(W_out) @ intermediate_output.T  # NOT USING BIAS?\n",
        "        intermediate_hidden = intermediate_hidden.T  # Back to [5, 4096]\n",
        "\n",
        "        # 4. Approximate inverse of GELU\n",
        "        pre_gelu = reverse_gelu(intermediate_hidden)\n",
        "\n",
        "        # 5. Reverse the intermediate dense layer\n",
        "        W_int = layer_params['intermediate']['weight']\n",
        "        b_int = layer_params['intermediate']['bias']\n",
        "        pre_gelu = pre_gelu.T  # Shape becomes (4096, 5)\n",
        "        b_int = b_int[:, None]  # Shape becomes (4096, 1)\n",
        "        attention_output = (np.linalg.pinv(W_int) @ (pre_gelu - b_int)).T  # Back to (5, 1024)\n",
        "\n",
        "        # 6. Reverse the first layer norm\n",
        "        prenorm1 = reverse_layer_norm(\n",
        "            attention_output,\n",
        "            layer_params['layernorm1']['gamma'],\n",
        "            layer_params['layernorm1']['beta']\n",
        "        )\n",
        "\n",
        "        # 7. Generate possible attention solutions\n",
        "        attention_gen = find_attention_inputs(\n",
        "            prenorm1,\n",
        "            layer_params['attention_qkv'],\n",
        "            layer_params['attention_output']\n",
        "        )\n",
        "\n",
        "        # Combine all solutions\n",
        "        attention_solution = attention_gen(z_attention)\n",
        "\n",
        "        return attention_solution\n",
        "\n",
        "    return solution_generator"
      ],
      "metadata": {
        "id": "14E-uWkxImMH"
      },
      "execution_count": null,
      "outputs": []
    },
    {
      "cell_type": "code",
      "source": [
        "import numpy as np\n",
        "import torch\n",
        "\n",
        "def extract_layer_params(bert_layer):\n",
        "    \"\"\"Extract parameters from a BertLayer module\"\"\"\n",
        "    params = {}\n",
        "\n",
        "    # Get attention parameters\n",
        "    attention = bert_layer.attention.self\n",
        "    params['attention_qkv'] = {\n",
        "        'query': attention.query.weight.detach().cpu().numpy(),\n",
        "        'query_bias': attention.query.bias.detach().cpu().numpy(),\n",
        "        'key': attention.key.weight.detach().cpu().numpy(),\n",
        "        'key_bias': attention.key.bias.detach().cpu().numpy(),\n",
        "        'value': attention.value.weight.detach().cpu().numpy(),\n",
        "        'value_bias': attention.value.bias.detach().cpu().numpy(),\n",
        "    }\n",
        "\n",
        "    # Attention output projection\n",
        "    params['attention_output'] = {\n",
        "        'weight': bert_layer.attention.output.dense.weight.detach().cpu().numpy(),\n",
        "        'bias': bert_layer.attention.output.dense.bias.detach().cpu().numpy()\n",
        "    }\n",
        "\n",
        "    # First LayerNorm\n",
        "    params['layernorm1'] = {\n",
        "        'gamma': bert_layer.attention.output.LayerNorm.weight.detach().cpu().numpy(),\n",
        "        'beta': bert_layer.attention.output.LayerNorm.bias.detach().cpu().numpy()\n",
        "    }\n",
        "\n",
        "    # Intermediate layer\n",
        "    params['intermediate'] = {\n",
        "        'weight': bert_layer.intermediate.dense.weight.detach().cpu().numpy(),\n",
        "        'bias': bert_layer.intermediate.dense.bias.detach().cpu().numpy()\n",
        "    }\n",
        "\n",
        "    # Output layer\n",
        "    params['output'] = {\n",
        "        'weight': bert_layer.output.dense.weight.detach().cpu().numpy(),\n",
        "        'bias': bert_layer.output.dense.bias.detach().cpu().numpy()\n",
        "    }\n",
        "\n",
        "    # Second LayerNorm\n",
        "    params['layernorm2'] = {\n",
        "        'gamma': bert_layer.output.LayerNorm.weight.detach().cpu().numpy(),\n",
        "        'beta': bert_layer.output.LayerNorm.bias.detach().cpu().numpy()\n",
        "    }\n",
        "\n",
        "    return params\n",
        "\n",
        "def improve_attention_handling(qkv_weights, attention_output, seq_length=512, num_heads=16):\n",
        "    \"\"\"More detailed attention mechanism inversion\"\"\"\n",
        "    head_size = qkv_weights['query'].shape[0] // num_heads\n",
        "\n",
        "    def attention_solution_generator(z_q, z_k, z_v, temperature=1.0):\n",
        "        # Split z vectors for each head\n",
        "        z_q = z_q.reshape(num_heads, seq_length, head_size)\n",
        "        z_k = z_k.reshape(num_heads, seq_length, head_size)\n",
        "        z_v = z_v.reshape(num_heads, seq_length, head_size)\n",
        "\n",
        "        # Generate possible Q, K, V matrices\n",
        "        Q = np.linalg.pinv(qkv_weights['query']) @ z_q.reshape(-1, head_size * num_heads)\n",
        "        K = np.linalg.pinv(qkv_weights['key']) @ z_k.reshape(-1, head_size * num_heads)\n",
        "        V = np.linalg.pinv(qkv_weights['value']) @ z_v.reshape(-1, head_size * num_heads)\n",
        "\n",
        "        # Reshape to match original dimensions\n",
        "        Q = Q.reshape(seq_length, num_heads, head_size)\n",
        "        K = K.reshape(seq_length, num_heads, head_size)\n",
        "        V = V.reshape(seq_length, num_heads, head_size)\n",
        "\n",
        "        # Scale factor for attention\n",
        "        scale = np.sqrt(head_size)\n",
        "\n",
        "        # Compute attention scores (approximation)\n",
        "        attention_scores = np.matmul(Q, K.transpose(-2, -1)) / scale\n",
        "        attention_probs = np.exp(attention_scores * temperature) / np.sum(np.exp(attention_scores * temperature), axis=-1, keepdims=True)\n",
        "\n",
        "        # Compute attention output\n",
        "        attention_output = np.matmul(attention_probs, V)\n",
        "\n",
        "        return attention_output.reshape(seq_length, -1)\n",
        "\n",
        "    return attention_solution_generator\n",
        "\n",
        "# Example usage:\n",
        "def invert_bert_layer(model, layer_idx, output_tensor):\n",
        "    \"\"\"Invert a specific BERT layer\"\"\"\n",
        "    # Extract parameters\n",
        "    layer = model.encoder.layer[layer_idx]\n",
        "    params = extract_layer_params(layer)\n",
        "\n",
        "    # Create solution generator\n",
        "    solution_gen = find_possible_encoder_inputs(\n",
        "        output_tensor.detach().cpu().numpy(),\n",
        "        params\n",
        "    )\n",
        "\n",
        "    # Generate random z vectors for attention components\n",
        "    seq_length = output_tensor.shape[0]\n",
        "    hidden_size = output_tensor.shape[1]\n",
        "    num_heads = 16  # Assuming 16 attention heads\n",
        "\n",
        "    z_attention = np.random.randn(seq_length, hidden_size)\n",
        "    z_intermediate = np.random.randn(seq_length, hidden_size * 4)  # 4x for intermediate size\n",
        "\n",
        "    # Get possible input\n",
        "    possible_input = solution_gen(z_attention, z_intermediate)\n",
        "\n",
        "    # Add inside invert_bert_layer\n",
        "    attention_output = layer.attention(torch.tensor(possible_input, dtype=torch.float32).unsqueeze(0))[0]\n",
        "    print(f\"Attention similarity: {torch.nn.functional.cosine_similarity(attention_output.flatten(), layer_output[0].flatten(), dim=0).item()}\")\n",
        "\n",
        "    # Get intermediate size correctly\n",
        "    intermediate_output = layer.intermediate(attention_output)\n",
        "    intermediate_layer_output = layer.intermediate(layer_output[0].unsqueeze(0))\n",
        "    print(f\"Intermediate similarity: {torch.nn.functional.cosine_similarity(intermediate_output.flatten(), intermediate_layer_output.flatten(), dim=0).item()}\")\n",
        "\n",
        "    return torch.tensor(possible_input, dtype=output_tensor.dtype, device=output_tensor.device)\n",
        "\n",
        "layer_output = outputs.hidden_states[24]\n",
        "possible_input = invert_bert_layer(model, 23, layer_output[0])\n",
        "\n",
        "layer = model.encoder.layer[23]\n",
        "reconstructed_output = layer(possible_input.unsqueeze(0))[0]\n",
        "\n",
        "# Check similarity\n",
        "similarity = torch.nn.functional.cosine_similarity(\n",
        "    layer_output[0].flatten(),\n",
        "    reconstructed_output.flatten(),\n",
        "    dim=0\n",
        ")\n",
        "print(f\"Reconstruction similarity: {similarity.item()}\")"
      ],
      "metadata": {
        "colab": {
          "base_uri": "https://localhost:8080/"
        },
        "id": "YFwiv44DI86K",
        "outputId": "904a146c-a9a9-465a-b09f-8b15d8d84428"
      },
      "execution_count": null,
      "outputs": [
        {
          "output_type": "stream",
          "name": "stdout",
          "text": [
            "Attention similarity: 0.10488615930080414\n",
            "Intermediate similarity: 0.03049367666244507\n",
            "Reconstruction similarity: 0.04939057677984238\n"
          ]
        }
      ]
    },
    {
      "cell_type": "code",
      "source": [
        "outputs.hidden_states[24][0]"
      ],
      "metadata": {
        "id": "k_ujy9pjOE67",
        "colab": {
          "base_uri": "https://localhost:8080/"
        },
        "outputId": "fc3bdf1d-9bc4-4173-da21-9d51a205e8c2"
      },
      "execution_count": null,
      "outputs": [
        {
          "output_type": "execute_result",
          "data": {
            "text/plain": [
              "tensor([[ 0.3576,  0.3042,  0.5685,  ..., -0.2619,  0.3737,  0.6564],\n",
              "        [ 0.3397, -0.2081,  0.5046,  ..., -0.1825,  0.4268,  0.7270],\n",
              "        [ 0.6616,  0.0069,  0.7108,  ..., -0.3792,  0.4171,  0.5104],\n",
              "        [ 0.7522,  0.0126,  0.8135,  ..., -0.2740,  0.7368,  0.6462],\n",
              "        [ 0.6640,  0.0345,  0.8832,  ..., -0.0384,  0.6693,  0.5532]],\n",
              "       grad_fn=<SelectBackward0>)"
            ]
          },
          "metadata": {},
          "execution_count": 69
        }
      ]
    },
    {
      "cell_type": "code",
      "source": [
        "print(model)"
      ],
      "metadata": {
        "colab": {
          "base_uri": "https://localhost:8080/"
        },
        "id": "mAyjHvtRMq8x",
        "outputId": "fe0bf490-8fcf-44a3-c904-174b8df96092"
      },
      "execution_count": 3,
      "outputs": [
        {
          "output_type": "stream",
          "name": "stdout",
          "text": [
            "BertModel(\n",
            "  (embeddings): BertEmbeddings(\n",
            "    (word_embeddings): Embedding(30522, 1024, padding_idx=0)\n",
            "    (position_embeddings): Embedding(512, 1024)\n",
            "    (token_type_embeddings): Embedding(2, 1024)\n",
            "    (LayerNorm): LayerNorm((1024,), eps=1e-12, elementwise_affine=True)\n",
            "    (dropout): Dropout(p=0.1, inplace=False)\n",
            "  )\n",
            "  (encoder): BertEncoder(\n",
            "    (layer): ModuleList(\n",
            "      (0-23): 24 x BertLayer(\n",
            "        (attention): BertAttention(\n",
            "          (self): BertSdpaSelfAttention(\n",
            "            (query): Linear(in_features=1024, out_features=1024, bias=True)\n",
            "            (key): Linear(in_features=1024, out_features=1024, bias=True)\n",
            "            (value): Linear(in_features=1024, out_features=1024, bias=True)\n",
            "            (dropout): Dropout(p=0.1, inplace=False)\n",
            "          )\n",
            "          (output): BertSelfOutput(\n",
            "            (dense): Linear(in_features=1024, out_features=1024, bias=True)\n",
            "            (LayerNorm): LayerNorm((1024,), eps=1e-12, elementwise_affine=True)\n",
            "            (dropout): Dropout(p=0.1, inplace=False)\n",
            "          )\n",
            "        )\n",
            "        (intermediate): BertIntermediate(\n",
            "          (dense): Linear(in_features=1024, out_features=4096, bias=True)\n",
            "          (intermediate_act_fn): GELUActivation()\n",
            "        )\n",
            "        (output): BertOutput(\n",
            "          (dense): Linear(in_features=4096, out_features=1024, bias=True)\n",
            "          (LayerNorm): LayerNorm((1024,), eps=1e-12, elementwise_affine=True)\n",
            "          (dropout): Dropout(p=0.1, inplace=False)\n",
            "        )\n",
            "      )\n",
            "    )\n",
            "  )\n",
            "  (pooler): BertPooler(\n",
            "    (dense): Linear(in_features=1024, out_features=1024, bias=True)\n",
            "    (activation): Tanh()\n",
            "  )\n",
            ")\n"
          ]
        }
      ]
    },
    {
      "cell_type": "code",
      "source": [
        "print(model.encoder.layer[23].output.dense.weight.shape)"
      ],
      "metadata": {
        "colab": {
          "base_uri": "https://localhost:8080/"
        },
        "id": "K1GNKW2W63xC",
        "outputId": "ceaf547b-e6fb-4158-ddbb-dc5bcd758584"
      },
      "execution_count": 18,
      "outputs": [
        {
          "output_type": "stream",
          "name": "stdout",
          "text": [
            "torch.Size([1024, 4096])\n"
          ]
        }
      ]
    },
    {
      "cell_type": "code",
      "source": [
        "def generate_possible_inputs(normalized_values, weight, bias, input_scale, input_shift):\n",
        "    # First undo LayerNorm's learned transformations\n",
        "    unlearned = [(x - bias[idx]) / weight[idx] for idx,x in enumerate(normalized_values)]\n",
        "\n",
        "    # Now apply our input parameters to generate a possible input sequence\n",
        "    # Any sequence generated this way would normalize to our target output\n",
        "    return [x * input_scale + input_shift for x in unlearned]"
      ],
      "metadata": {
        "id": "DYQTYB9c-0WF"
      },
      "execution_count": 6,
      "outputs": []
    },
    {
      "cell_type": "code",
      "source": [
        "import torch\n",
        "from transformers import AutoTokenizer, AutoModel\n",
        "import numpy as np\n",
        "\n",
        "layerNormInput = []\n",
        "layerNormOutput = []\n",
        "def hook_function(module, input, output):\n",
        "    global layerNormInput, layerNormOutput\n",
        "    # Access input and output tensors of the LayerNorm module\n",
        "    print(\"LayerNorm Input:\", input[0]) # Accessing the input tensor\n",
        "    layerNormInput = input[0]\n",
        "    print(\"LayerNorm Output:\", output) # Accessing the output tensor\n",
        "    layerNormOutput = output\n",
        "    # Perform desired operations on input and output\n",
        "\n",
        "# Register the hook\n",
        "for hook in model.encoder.layer[23].output.LayerNorm._forward_hooks.copy():\n",
        "    model.encoder.layer[23].output.LayerNorm._forward_hooks.pop(hook)\n",
        "hook = model.encoder.layer[23].output.LayerNorm.register_forward_hook(hook_function)"
      ],
      "metadata": {
        "id": "KX4LARye-62F"
      },
      "execution_count": 15,
      "outputs": []
    },
    {
      "cell_type": "code",
      "source": [
        "print(model.encoder.layer[23](outputs.hidden_states[23])[0][0][0])\n",
        "print(outputs.hidden_states[24][0][0])"
      ],
      "metadata": {
        "colab": {
          "base_uri": "https://localhost:8080/"
        },
        "id": "7pFantYL_Yq8",
        "outputId": "edbc97c6-3cba-44e3-ead0-b46a144095e4"
      },
      "execution_count": 9,
      "outputs": [
        {
          "output_type": "stream",
          "name": "stdout",
          "text": [
            "LayerNorm Input: tensor([[[ 0.5554,  0.4269,  0.9111,  ..., -0.3931,  0.7964,  1.2763],\n",
            "         [ 0.5362, -0.4190,  0.8229,  ..., -0.2630,  0.9067,  1.4299],\n",
            "         [ 1.0879, -0.0599,  1.1569,  ..., -0.6003,  0.8776,  1.0313],\n",
            "         [ 1.2613, -0.0517,  1.3459,  ..., -0.4244,  1.4467,  1.2856],\n",
            "         [ 0.9892, -0.0169,  1.3106,  ..., -0.0136,  1.1891,  1.0023]]],\n",
            "       grad_fn=<AddBackward0>)\n",
            "LayerNorm Output: tensor([[[ 0.3576,  0.3042,  0.5685,  ..., -0.2619,  0.3737,  0.6564],\n",
            "         [ 0.3397, -0.2081,  0.5046,  ..., -0.1825,  0.4268,  0.7270],\n",
            "         [ 0.6616,  0.0069,  0.7108,  ..., -0.3792,  0.4171,  0.5104],\n",
            "         [ 0.7522,  0.0126,  0.8135,  ..., -0.2740,  0.7368,  0.6462],\n",
            "         [ 0.6640,  0.0345,  0.8832,  ..., -0.0384,  0.6693,  0.5532]]],\n",
            "       grad_fn=<NativeLayerNormBackward0>)\n",
            "tensor([ 0.3576,  0.3042,  0.5685,  ..., -0.2619,  0.3737,  0.6564],\n",
            "       grad_fn=<SelectBackward0>)\n",
            "tensor([ 0.3576,  0.3042,  0.5685,  ..., -0.2619,  0.3737,  0.6564],\n",
            "       grad_fn=<SelectBackward0>)\n"
          ]
        }
      ]
    },
    {
      "cell_type": "code",
      "source": [
        "print(layerNormInput[0])\n",
        "print(layerNormOutput[0])"
      ],
      "metadata": {
        "colab": {
          "base_uri": "https://localhost:8080/"
        },
        "id": "Z8Q-JalDAzCx",
        "outputId": "27522ed0-4f49-4568-b7ee-d15c3018fead"
      },
      "execution_count": 10,
      "outputs": [
        {
          "output_type": "stream",
          "name": "stdout",
          "text": [
            "tensor([[ 0.5554,  0.4269,  0.9111,  ..., -0.3931,  0.7964,  1.2763],\n",
            "        [ 0.5362, -0.4190,  0.8229,  ..., -0.2630,  0.9067,  1.4299],\n",
            "        [ 1.0879, -0.0599,  1.1569,  ..., -0.6003,  0.8776,  1.0313],\n",
            "        [ 1.2613, -0.0517,  1.3459,  ..., -0.4244,  1.4467,  1.2856],\n",
            "        [ 0.9892, -0.0169,  1.3106,  ..., -0.0136,  1.1891,  1.0023]],\n",
            "       grad_fn=<SelectBackward0>)\n",
            "tensor([[ 0.3576,  0.3042,  0.5685,  ..., -0.2619,  0.3737,  0.6564],\n",
            "        [ 0.3397, -0.2081,  0.5046,  ..., -0.1825,  0.4268,  0.7270],\n",
            "        [ 0.6616,  0.0069,  0.7108,  ..., -0.3792,  0.4171,  0.5104],\n",
            "        [ 0.7522,  0.0126,  0.8135,  ..., -0.2740,  0.7368,  0.6462],\n",
            "        [ 0.6640,  0.0345,  0.8832,  ..., -0.0384,  0.6693,  0.5532]],\n",
            "       grad_fn=<SelectBackward0>)\n"
          ]
        }
      ]
    },
    {
      "cell_type": "code",
      "source": [
        "generatedInput = []\n",
        "for i in layerNormOutput[0]:\n",
        "    result = generate_possible_inputs(i.cpu().clone().detach().numpy(),\n",
        "                            model.encoder.layer[23].output.LayerNorm.weight.cpu().clone().detach().numpy(),\n",
        "                            model.encoder.layer[23].output.LayerNorm.bias.cpu().clone().detach().numpy(), 1, 1)\n",
        "    generatedInput.append(result)\n",
        "\n",
        "generatedInput = torch.tensor([generatedInput], dtype=torch.float32)\n",
        "generatedInput"
      ],
      "metadata": {
        "colab": {
          "base_uri": "https://localhost:8080/"
        },
        "id": "cgmCGlHrBS3m",
        "outputId": "ee915388-b048-4620-8861-422be1986ff7"
      },
      "execution_count": 11,
      "outputs": [
        {
          "output_type": "execute_result",
          "data": {
            "text/plain": [
              "tensor([[[1.4364, 1.3310, 1.7280,  ..., 0.6589, 1.6339, 2.0273],\n",
              "         [1.4112, 0.6452, 1.6410,  ..., 0.7704, 1.7083, 2.1277],\n",
              "         [1.8655, 0.9331, 1.9215,  ..., 0.4941, 1.6946, 1.8195],\n",
              "         [1.9933, 0.9407, 2.0611,  ..., 0.6419, 2.1419, 2.0128],\n",
              "         [1.8688, 0.9700, 2.1559,  ..., 0.9729, 2.0474, 1.8805]]])"
            ]
          },
          "metadata": {},
          "execution_count": 11
        }
      ]
    },
    {
      "cell_type": "code",
      "source": [
        "outputOfGeneratedInput = model.encoder.layer[23].output.LayerNorm(generatedInput)"
      ],
      "metadata": {
        "colab": {
          "base_uri": "https://localhost:8080/"
        },
        "id": "41XjCfByE80C",
        "outputId": "457e4f8a-8366-4146-cefe-3701eaf0ec86"
      },
      "execution_count": 12,
      "outputs": [
        {
          "output_type": "stream",
          "name": "stdout",
          "text": [
            "LayerNorm Input: tensor([[[1.4364, 1.3310, 1.7280,  ..., 0.6589, 1.6339, 2.0273],\n",
            "         [1.4112, 0.6452, 1.6410,  ..., 0.7704, 1.7083, 2.1277],\n",
            "         [1.8655, 0.9331, 1.9215,  ..., 0.4941, 1.6946, 1.8195],\n",
            "         [1.9933, 0.9407, 2.0611,  ..., 0.6419, 2.1419, 2.0128],\n",
            "         [1.8688, 0.9700, 2.1559,  ..., 0.9729, 2.0474, 1.8805]]])\n",
            "LayerNorm Output: tensor([[[ 0.3576,  0.3042,  0.5685,  ..., -0.2619,  0.3737,  0.6564],\n",
            "         [ 0.3397, -0.2081,  0.5046,  ..., -0.1825,  0.4268,  0.7270],\n",
            "         [ 0.6616,  0.0069,  0.7108,  ..., -0.3792,  0.4171,  0.5104],\n",
            "         [ 0.7522,  0.0126,  0.8135,  ..., -0.2740,  0.7368,  0.6462],\n",
            "         [ 0.6640,  0.0345,  0.8832,  ..., -0.0384,  0.6693,  0.5532]]],\n",
            "       grad_fn=<NativeLayerNormBackward0>)\n"
          ]
        }
      ]
    },
    {
      "cell_type": "code",
      "source": [
        "print(layerNormOutput)\n",
        "print(outputOfGeneratedInput)"
      ],
      "metadata": {
        "colab": {
          "base_uri": "https://localhost:8080/"
        },
        "id": "FmzWEpLHFijk",
        "outputId": "d19e382d-e2e4-4600-9323-b6b30d5b3694"
      },
      "execution_count": 13,
      "outputs": [
        {
          "output_type": "stream",
          "name": "stdout",
          "text": [
            "tensor([[[ 0.3576,  0.3042,  0.5685,  ..., -0.2619,  0.3737,  0.6564],\n",
            "         [ 0.3397, -0.2081,  0.5046,  ..., -0.1825,  0.4268,  0.7270],\n",
            "         [ 0.6616,  0.0069,  0.7108,  ..., -0.3792,  0.4171,  0.5104],\n",
            "         [ 0.7522,  0.0126,  0.8135,  ..., -0.2740,  0.7368,  0.6462],\n",
            "         [ 0.6640,  0.0345,  0.8832,  ..., -0.0384,  0.6693,  0.5532]]],\n",
            "       grad_fn=<NativeLayerNormBackward0>)\n",
            "tensor([[[ 0.3576,  0.3042,  0.5685,  ..., -0.2619,  0.3737,  0.6564],\n",
            "         [ 0.3397, -0.2081,  0.5046,  ..., -0.1825,  0.4268,  0.7270],\n",
            "         [ 0.6616,  0.0069,  0.7108,  ..., -0.3792,  0.4171,  0.5104],\n",
            "         [ 0.7522,  0.0126,  0.8135,  ..., -0.2740,  0.7368,  0.6462],\n",
            "         [ 0.6640,  0.0345,  0.8832,  ..., -0.0384,  0.6693,  0.5532]]],\n",
            "       grad_fn=<NativeLayerNormBackward0>)\n"
          ]
        }
      ]
    },
    {
      "cell_type": "code",
      "source": [
        "print(model)"
      ],
      "metadata": {
        "colab": {
          "base_uri": "https://localhost:8080/"
        },
        "id": "9cmToHEBjTub",
        "outputId": "9b22e201-e63c-47cb-a31c-78297906ae0a"
      },
      "execution_count": 14,
      "outputs": [
        {
          "output_type": "stream",
          "name": "stdout",
          "text": [
            "BertModel(\n",
            "  (embeddings): BertEmbeddings(\n",
            "    (word_embeddings): Embedding(30522, 1024, padding_idx=0)\n",
            "    (position_embeddings): Embedding(512, 1024)\n",
            "    (token_type_embeddings): Embedding(2, 1024)\n",
            "    (LayerNorm): LayerNorm((1024,), eps=1e-12, elementwise_affine=True)\n",
            "    (dropout): Dropout(p=0.1, inplace=False)\n",
            "  )\n",
            "  (encoder): BertEncoder(\n",
            "    (layer): ModuleList(\n",
            "      (0-23): 24 x BertLayer(\n",
            "        (attention): BertAttention(\n",
            "          (self): BertSdpaSelfAttention(\n",
            "            (query): Linear(in_features=1024, out_features=1024, bias=True)\n",
            "            (key): Linear(in_features=1024, out_features=1024, bias=True)\n",
            "            (value): Linear(in_features=1024, out_features=1024, bias=True)\n",
            "            (dropout): Dropout(p=0.1, inplace=False)\n",
            "          )\n",
            "          (output): BertSelfOutput(\n",
            "            (dense): Linear(in_features=1024, out_features=1024, bias=True)\n",
            "            (LayerNorm): LayerNorm((1024,), eps=1e-12, elementwise_affine=True)\n",
            "            (dropout): Dropout(p=0.1, inplace=False)\n",
            "          )\n",
            "        )\n",
            "        (intermediate): BertIntermediate(\n",
            "          (dense): Linear(in_features=1024, out_features=4096, bias=True)\n",
            "          (intermediate_act_fn): GELUActivation()\n",
            "        )\n",
            "        (output): BertOutput(\n",
            "          (dense): Linear(in_features=4096, out_features=1024, bias=True)\n",
            "          (LayerNorm): LayerNorm((1024,), eps=1e-12, elementwise_affine=True)\n",
            "          (dropout): Dropout(p=0.1, inplace=False)\n",
            "        )\n",
            "      )\n",
            "    )\n",
            "  )\n",
            "  (pooler): BertPooler(\n",
            "    (dense): Linear(in_features=1024, out_features=1024, bias=True)\n",
            "    (activation): Tanh()\n",
            "  )\n",
            ")\n"
          ]
        }
      ]
    },
    {
      "cell_type": "code",
      "source": [
        "import torch\n",
        "from transformers import AutoTokenizer, AutoModel\n",
        "import numpy as np\n",
        "\n",
        "outputDenseInput = []\n",
        "outputDenseOutput = []\n",
        "def hook_function(module, input, output):\n",
        "    global outputDenseInput, outputDenseOutput\n",
        "    print(\"Dense Input:\", input[0]) # Accessing the input tensor\n",
        "    outputDenseInput = input[0]\n",
        "    print(\"Dense Output:\", output) # Accessing the output tensor\n",
        "    outputDenseOutput = output\n",
        "\n",
        "# Register the hook\n",
        "for hook in model.encoder.layer[23].output.dense._forward_hooks.copy():\n",
        "    model.encoder.layer[23].output.dense._forward_hooks.pop(hook)\n",
        "hook = model.encoder.layer[23].output.dense.register_forward_hook(hook_function)"
      ],
      "metadata": {
        "id": "9aV2iIeSja5v"
      },
      "execution_count": 16,
      "outputs": []
    },
    {
      "cell_type": "code",
      "source": [
        "print(model.encoder.layer[23](outputs.hidden_states[23])[0][0][0])\n",
        "print(outputs.hidden_states[24][0][0])"
      ],
      "metadata": {
        "colab": {
          "base_uri": "https://localhost:8080/"
        },
        "id": "Ch95Fw5Aju4x",
        "outputId": "337a8cbe-b780-44dc-e264-61cf4f52a9c6"
      },
      "execution_count": 19,
      "outputs": [
        {
          "output_type": "stream",
          "name": "stdout",
          "text": [
            "Dense Input: tensor([[[-1.7321e-05, -5.1538e-02, -6.5964e-05,  ..., -9.8892e-05,\n",
            "          -1.7445e-02, -1.4291e-04],\n",
            "         [-1.8214e-04, -5.9708e-02, -3.3336e-04,  ..., -1.1225e-03,\n",
            "          -2.0496e-02, -7.1462e-05],\n",
            "         [-5.3462e-05, -6.5705e-02, -2.5404e-04,  ..., -7.2858e-05,\n",
            "          -2.7109e-02, -1.1580e-04],\n",
            "         [-1.8552e-04, -8.7957e-02, -9.1979e-04,  ..., -7.3674e-05,\n",
            "          -4.2538e-02, -5.4290e-05],\n",
            "         [-1.1813e-05, -1.1158e-01, -1.8279e-04,  ..., -1.1699e-03,\n",
            "          -4.1407e-02, -1.9358e-04]]], grad_fn=<GeluBackward0>)\n",
            "Dense Output: tensor([[[-0.0252, -0.1483, -0.0521,  ..., -0.0213, -0.0147,  0.0333],\n",
            "         [-0.1382, -0.1020, -0.1916,  ...,  0.0017, -0.0260, -0.1250],\n",
            "         [-0.0498, -0.1138, -0.0421,  ..., -0.0419, -0.0629,  0.0403],\n",
            "         [-0.0752, -0.1497, -0.1350,  ..., -0.0377, -0.0197,  0.0146],\n",
            "         [-0.1024, -0.1323, -0.1386,  ..., -0.1830,  0.0392, -0.0618]]],\n",
            "       grad_fn=<ViewBackward0>)\n",
            "tensor([ 0.3576,  0.3042,  0.5685,  ..., -0.2619,  0.3737,  0.6564],\n",
            "       grad_fn=<SelectBackward0>)\n",
            "tensor([ 0.3576,  0.3042,  0.5685,  ..., -0.2619,  0.3737,  0.6564],\n",
            "       grad_fn=<SelectBackward0>)\n"
          ]
        }
      ]
    },
    {
      "cell_type": "code",
      "source": [
        "print(outputDenseInput[0])\n",
        "print(outputDenseOutput[0])"
      ],
      "metadata": {
        "colab": {
          "base_uri": "https://localhost:8080/"
        },
        "id": "JiX_WyU6j5iP",
        "outputId": "c4371d15-45e3-4ed1-db89-cfa2906da0db"
      },
      "execution_count": 32,
      "outputs": [
        {
          "output_type": "stream",
          "name": "stdout",
          "text": [
            "tensor([[-1.7321e-05, -5.1538e-02, -6.5964e-05,  ..., -9.8892e-05,\n",
            "         -1.7445e-02, -1.4291e-04],\n",
            "        [-1.8214e-04, -5.9708e-02, -3.3336e-04,  ..., -1.1225e-03,\n",
            "         -2.0496e-02, -7.1462e-05],\n",
            "        [-5.3462e-05, -6.5705e-02, -2.5404e-04,  ..., -7.2858e-05,\n",
            "         -2.7109e-02, -1.1580e-04],\n",
            "        [-1.8552e-04, -8.7957e-02, -9.1979e-04,  ..., -7.3674e-05,\n",
            "         -4.2538e-02, -5.4290e-05],\n",
            "        [-1.1813e-05, -1.1158e-01, -1.8279e-04,  ..., -1.1699e-03,\n",
            "         -4.1407e-02, -1.9358e-04]], grad_fn=<SelectBackward0>)\n",
            "tensor([[-0.0252, -0.1483, -0.0521,  ..., -0.0213, -0.0147,  0.0333],\n",
            "        [-0.1382, -0.1020, -0.1916,  ...,  0.0017, -0.0260, -0.1250],\n",
            "        [-0.0498, -0.1138, -0.0421,  ..., -0.0419, -0.0629,  0.0403],\n",
            "        [-0.0752, -0.1497, -0.1350,  ..., -0.0377, -0.0197,  0.0146],\n",
            "        [-0.1024, -0.1323, -0.1386,  ..., -0.1830,  0.0392, -0.0618]],\n",
            "       grad_fn=<SelectBackward0>)\n"
          ]
        }
      ]
    },
    {
      "cell_type": "code",
      "source": [
        "outputDenseOutputNoBias = []\n",
        "for idx,i in enumerate(outputDenseOutput[0]):\n",
        "    row = []\n",
        "    for jdx,j in enumerate(i):\n",
        "        row.append(j.item() - model.encoder.layer[23].output.dense.bias[jdx].item())\n",
        "    outputDenseOutputNoBias.append(row)\n",
        "outputDenseOutputNoBias = np.array(outputDenseOutputNoBias)\n",
        "print(outputDenseOutputNoBias)"
      ],
      "metadata": {
        "colab": {
          "base_uri": "https://localhost:8080/"
        },
        "id": "1DtR5o-ckN1Q",
        "outputId": "e81e3ff2-ff1e-4916-8994-8b61a16f886d"
      },
      "execution_count": 57,
      "outputs": [
        {
          "output_type": "stream",
          "name": "stdout",
          "text": [
            "[[-0.03669279 -0.1382297  -0.02500452 ... -0.01930995  0.01228103\n",
            "   0.02942588]\n",
            " [-0.14971916 -0.09190643 -0.16448414 ...  0.00372266  0.00096926\n",
            "  -0.12894103]\n",
            " [-0.06131524 -0.10368666 -0.01503783 ... -0.03990428 -0.03591686\n",
            "   0.03643085]\n",
            " [-0.08663716 -0.13963175 -0.10794523 ... -0.03569643  0.00730003\n",
            "   0.01073178]\n",
            " [-0.11385674 -0.12217624 -0.11153029 ... -0.18102244  0.06613217\n",
            "  -0.06566171]]\n"
          ]
        }
      ]
    },
    {
      "cell_type": "code",
      "source": [
        "import numpy as np\n",
        "\n",
        "def allInputsForMatrixProduct(y, W):\n",
        "    W_pinv = np.linalg.pinv(W)\n",
        "\n",
        "    # Create nullspace projection matrix\n",
        "    I = np.eye(W.shape[1])\n",
        "    nullspace_proj = I - W_pinv @ W\n",
        "\n",
        "    # Return function that generates solutions for any z\n",
        "    def solution_generator(z):\n",
        "        particular_solution = W_pinv @ y\n",
        "        nullspace_component = nullspace_proj @ z\n",
        "        print(\"Nullspace component magnitude:\", np.linalg.norm(nullspace_proj @ z))\n",
        "        print(\"Particular solution magnitude:\", np.linalg.norm(particular_solution))\n",
        "        return particular_solution + nullspace_component\n",
        "\n",
        "    return solution_generator\n",
        "\n",
        "# # Create sample data\n",
        "# n = 1024  # Using small dimension for example\n",
        "# W = model.pooler.dense.weight.cpu().detach().clone().numpy()\n",
        "# b = model.pooler.dense.bias.cpu().detach().clone().numpy()\n",
        "# x_original = outputs.hidden_states[24][0][0].cpu().clone().detach().numpy()\n",
        "# y = outputs.pooler_output[0].cpu().clone().detach().numpy()\n",
        "\n",
        "# # Find solution generator\n",
        "# solution_gen = find_all_possible_inputs(y, W, b)\n",
        "\n",
        "# # Generate some solutions\n",
        "# z = np.random.randn(n)\n",
        "# x_solution = solution_gen(z)\n",
        "\n",
        "# # Verify solution\n",
        "# y_reconstructed = np.tanh(W @ x_solution + b)\n",
        "# print(\"Original y:\", y)\n",
        "# print(\"Reconstructed y:\", y_reconstructed)\n",
        "# print(\"Original x:\", x_original)\n",
        "# print(\"Reconstructed x:\", x_solution)\n",
        "# print(\"Difference in input:\", cosine_similarity(torch.tensor(outputs.hidden_states[24][0][0].clone().detach(), dtype=torch.float32),\n",
        "#                                                 torch.tensor(x_solution, dtype=torch.float32)))\n",
        "# print(\"Difference in output:\", cosine_similarity(torch.tensor(y, dtype=torch.float32), torch.tensor(y_reconstructed, dtype=torch.float32)))"
      ],
      "metadata": {
        "id": "_Gf7uF89mzI4"
      },
      "execution_count": 58,
      "outputs": []
    },
    {
      "cell_type": "code",
      "source": [
        "from tqdm import tqdm\n",
        "\n",
        "solutionGens = []\n",
        "for idx,i in tqdm(enumerate(outputDenseOutputNoBias)):\n",
        "    solutionGens.append(allInputsForMatrixProduct(i, model.encoder.layer[23].output.dense.weight.cpu().detach().clone().numpy()))\n",
        "\n",
        "solutionGens = np.array(solutionGens)\n",
        "print(solutionGens)"
      ],
      "metadata": {
        "colab": {
          "base_uri": "https://localhost:8080/"
        },
        "id": "324rExJNlOwh",
        "outputId": "fc0fead1-7b77-46a9-b333-6ef14c95543f"
      },
      "execution_count": 80,
      "outputs": [
        {
          "output_type": "stream",
          "name": "stderr",
          "text": [
            "5it [00:25,  5.17s/it]"
          ]
        },
        {
          "output_type": "stream",
          "name": "stdout",
          "text": [
            "[<function allInputsForMatrixProduct.<locals>.solution_generator at 0x7cd2d27cb2e0>\n",
            " <function allInputsForMatrixProduct.<locals>.solution_generator at 0x7cd2d27cb880>\n",
            " <function allInputsForMatrixProduct.<locals>.solution_generator at 0x7cd2d27cb9c0>\n",
            " <function allInputsForMatrixProduct.<locals>.solution_generator at 0x7cd2d27cbb00>\n",
            " <function allInputsForMatrixProduct.<locals>.solution_generator at 0x7cd2d27cb920>]\n"
          ]
        },
        {
          "output_type": "stream",
          "name": "stderr",
          "text": [
            "\n"
          ]
        }
      ]
    },
    {
      "cell_type": "code",
      "source": [
        "dims = np.zeros(4096)\n",
        "resultingDenseInput = np.array([i(dims) for i in solutionGens])\n",
        "print(resultingDenseInput)"
      ],
      "metadata": {
        "colab": {
          "base_uri": "https://localhost:8080/"
        },
        "id": "pQdirKTloiWB",
        "outputId": "0b100967-110c-49fa-88b4-f422dbd49fb6"
      },
      "execution_count": 95,
      "outputs": [
        {
          "output_type": "stream",
          "name": "stdout",
          "text": [
            "Nullspace component magnitude: 0.0\n",
            "Particular solution magnitude: 1.376521029875887\n",
            "Nullspace component magnitude: 0.0\n",
            "Particular solution magnitude: 1.899552705183221\n",
            "Nullspace component magnitude: 0.0\n",
            "Particular solution magnitude: 1.7386351690601147\n",
            "Nullspace component magnitude: 0.0\n",
            "Particular solution magnitude: 1.9867662210640487\n",
            "Nullspace component magnitude: 0.0\n",
            "Particular solution magnitude: 2.3014522190305335\n",
            "tensor([[[-1.7321e-05, -5.1538e-02, -6.5964e-05,  ..., -9.8892e-05,\n",
            "          -1.7445e-02, -1.4291e-04],\n",
            "         [-1.8214e-04, -5.9708e-02, -3.3336e-04,  ..., -1.1225e-03,\n",
            "          -2.0496e-02, -7.1462e-05],\n",
            "         [-5.3462e-05, -6.5705e-02, -2.5404e-04,  ..., -7.2858e-05,\n",
            "          -2.7109e-02, -1.1580e-04],\n",
            "         [-1.8552e-04, -8.7957e-02, -9.1979e-04,  ..., -7.3674e-05,\n",
            "          -4.2538e-02, -5.4290e-05],\n",
            "         [-1.1813e-05, -1.1158e-01, -1.8279e-04,  ..., -1.1699e-03,\n",
            "          -4.1407e-02, -1.9358e-04]]], grad_fn=<GeluBackward0>)\n"
          ]
        }
      ]
    },
    {
      "cell_type": "code",
      "source": [
        "print(\"torch.tensor(resultingDenseInput): \")\n",
        "print(torch.tensor(resultingDenseInput))\n",
        "print(\"outputDenseInput[0]\")\n",
        "print(outputDenseInput[0])"
      ],
      "metadata": {
        "colab": {
          "base_uri": "https://localhost:8080/"
        },
        "id": "2w8diV3WlzXC",
        "outputId": "4ea05fba-d132-4d2e-fa30-7ee909c818e0"
      },
      "execution_count": 99,
      "outputs": [
        {
          "output_type": "stream",
          "name": "stdout",
          "text": [
            "torch.tensor(resultingDenseInput): \n",
            "tensor([[ 0.0133, -0.0485, -0.0237,  ...,  0.0082, -0.0318,  0.0128],\n",
            "        [-0.0079, -0.0580, -0.0351,  ..., -0.0158, -0.0355,  0.0397],\n",
            "        [-0.0003, -0.0606, -0.0430,  ...,  0.0091, -0.0423,  0.0330],\n",
            "        [-0.0084, -0.0728, -0.0383,  ..., -0.0002, -0.0533,  0.0137],\n",
            "        [-0.0059, -0.0785, -0.0546,  ..., -0.0221, -0.0265,  0.0218]],\n",
            "       dtype=torch.float64)\n",
            "outputDenseInput[0]\n",
            "tensor([[-1.7321e-05, -5.1538e-02, -6.5964e-05,  ..., -9.8892e-05,\n",
            "         -1.7445e-02, -1.4291e-04],\n",
            "        [-1.8214e-04, -5.9708e-02, -3.3336e-04,  ..., -1.1225e-03,\n",
            "         -2.0496e-02, -7.1462e-05],\n",
            "        [-5.3462e-05, -6.5705e-02, -2.5404e-04,  ..., -7.2858e-05,\n",
            "         -2.7109e-02, -1.1580e-04],\n",
            "        [-1.8552e-04, -8.7957e-02, -9.1979e-04,  ..., -7.3674e-05,\n",
            "         -4.2538e-02, -5.4290e-05],\n",
            "        [-1.1813e-05, -1.1158e-01, -1.8279e-04,  ..., -1.1699e-03,\n",
            "         -4.1407e-02, -1.9358e-04]], grad_fn=<SelectBackward0>)\n"
          ]
        }
      ]
    },
    {
      "cell_type": "code",
      "source": [
        "# Convert weights and bias to numpy for consistency\n",
        "weights = model.encoder.layer[23].output.dense.weight.cpu().detach().numpy()\n",
        "bias = model.encoder.layer[23].output.dense.bias.cpu().detach().numpy()\n",
        "\n",
        "# Check each token\n",
        "for i in range(5):  # 5 tokens\n",
        "    # Our reconstructed solution\n",
        "    our_output = weights @ resultingDenseInput[i] + bias\n",
        "    # Original output\n",
        "    original_output = outputDenseOutput[0][i].cpu().detach().numpy()\n",
        "\n",
        "    # Check if they're equal within some tolerance\n",
        "    is_close = np.allclose(our_output, original_output, rtol=1e-5, atol=1e-5)\n",
        "    diff_magnitude = np.linalg.norm(our_output - original_output)\n",
        "\n",
        "    print(f\"\\nToken {i}:\")\n",
        "    print(f\"Outputs match within tolerance? {is_close}\")\n",
        "    print(f\"Difference magnitude: {diff_magnitude}\")\n",
        "\n",
        "    # Check if both inputs produce valid outputs\n",
        "    original_input = outputDenseInput[0][i].cpu().detach().numpy()\n",
        "    original_output_check = weights @ original_input + bias\n",
        "    our_output_check = weights @ resultingDenseInput[i] + bias\n",
        "\n",
        "    print(\"\\nBoth solutions valid?\")\n",
        "    print(f\"Original input produces correct output? {np.allclose(original_output_check, original_output, rtol=1e-5, atol=1e-5)}\")\n",
        "    print(f\"Our input produces correct output? {np.allclose(our_output_check, original_output, rtol=1e-5, atol=1e-5)}\")\n",
        "\n",
        "    # Check if inputs lie in different parts of nullspace\n",
        "    diff_vector = resultingDenseInput[i] - original_input\n",
        "    nullspace_component = diff_vector - (weights.T @ np.linalg.pinv(weights.T) @ diff_vector)\n",
        "    nullspace_magnitude = np.linalg.norm(nullspace_component)\n",
        "\n",
        "    print(f\"\\nDifference between solutions:\")\n",
        "    print(f\"Total magnitude: {np.linalg.norm(diff_vector)}\")\n",
        "    print(f\"Nullspace component magnitude: {nullspace_magnitude}\")"
      ],
      "metadata": {
        "colab": {
          "base_uri": "https://localhost:8080/"
        },
        "id": "SsjqIxC9q8gN",
        "outputId": "1357e5be-835a-4b0c-cd59-3f1ffdcacf8b"
      },
      "execution_count": 100,
      "outputs": [
        {
          "output_type": "stream",
          "name": "stdout",
          "text": [
            "\n",
            "Token 0:\n",
            "Outputs match within tolerance? True\n",
            "Difference magnitude: 8.526751978444348e-07\n",
            "\n",
            "Both solutions valid?\n",
            "Original input produces correct output? True\n",
            "Our input produces correct output? True\n",
            "\n",
            "Difference between solutions:\n",
            "Total magnitude: 2.4665615091434634\n",
            "Nullspace component magnitude: 2.466561462549765\n",
            "\n",
            "Token 1:\n",
            "Outputs match within tolerance? True\n",
            "Difference magnitude: 1.3061525034088053e-06\n",
            "\n",
            "Both solutions valid?\n",
            "Original input produces correct output? True\n",
            "Our input produces correct output? True\n",
            "\n",
            "Difference between solutions:\n",
            "Total magnitude: 3.081327917241443\n",
            "Nullspace component magnitude: 3.0813278971287863\n",
            "\n",
            "Token 2:\n",
            "Outputs match within tolerance? True\n",
            "Difference magnitude: 1.185961033479938e-06\n",
            "\n",
            "Both solutions valid?\n",
            "Original input produces correct output? True\n",
            "Our input produces correct output? True\n",
            "\n",
            "Difference between solutions:\n",
            "Total magnitude: 2.9577665612266735\n",
            "Nullspace component magnitude: 2.9577665266240487\n",
            "\n",
            "Token 3:\n",
            "Outputs match within tolerance? True\n",
            "Difference magnitude: 1.5970091564835888e-06\n",
            "\n",
            "Both solutions valid?\n",
            "Original input produces correct output? True\n",
            "Our input produces correct output? True\n",
            "\n",
            "Difference between solutions:\n",
            "Total magnitude: 3.1103188666040067\n",
            "Nullspace component magnitude: 3.1103188297269546\n",
            "\n",
            "Token 4:\n",
            "Outputs match within tolerance? True\n",
            "Difference magnitude: 1.9053845861865154e-06\n",
            "\n",
            "Both solutions valid?\n",
            "Original input produces correct output? True\n",
            "Our input produces correct output? True\n",
            "\n",
            "Difference between solutions:\n",
            "Total magnitude: 3.819523871578907\n",
            "Nullspace component magnitude: 3.8195238048461224\n"
          ]
        }
      ]
    },
    {
      "cell_type": "code",
      "source": [
        "def find_z_for_exact_match(original_input, target_output, weights):\n",
        "    # Get pseudoinverse\n",
        "    W_pinv = np.linalg.pinv(weights)\n",
        "\n",
        "    # Calculate nullspace projection matrix\n",
        "    I = np.eye(weights.shape[1])\n",
        "    nullspace_proj = I - W_pinv @ weights\n",
        "\n",
        "    # Solve for z: (I - W⁺W)z = x - W⁺y\n",
        "    # Using pseudoinverse again because (I - W⁺W) might be singular\n",
        "    left_side = original_input - (W_pinv @ target_output)\n",
        "    z = np.linalg.pinv(nullspace_proj) @ left_side\n",
        "\n",
        "    # Verify the solution\n",
        "    reconstructed = W_pinv @ target_output + nullspace_proj @ z\n",
        "    print(\"Reconstruction error:\", np.linalg.norm(reconstructed - original_input))\n",
        "\n",
        "    return z\n",
        "\n",
        "# Test for each token\n",
        "for i in range(5):\n",
        "    target_output = outputDenseOutputNoBias[i]\n",
        "    original_input = outputDenseInput[0][i].cpu().detach().numpy()\n",
        "    weights = model.encoder.layer[23].output.dense.weight.cpu().detach().numpy()\n",
        "\n",
        "    print(f\"\\nToken {i}:\")\n",
        "    z = find_z_for_exact_match(original_input, target_output, weights)\n",
        "\n",
        "    dims = dims = np.full(4096, z)\n",
        "    exactSolution = solutionGens[i](dims)\n",
        "    print(exactSolution)\n",
        "    print(outputDenseInput[0][i])"
      ],
      "metadata": {
        "colab": {
          "base_uri": "https://localhost:8080/"
        },
        "id": "prlIVO2NrmHC",
        "outputId": "a942c7ab-1e9c-4cb0-b07a-a3422e1f6736"
      },
      "execution_count": 104,
      "outputs": [
        {
          "output_type": "stream",
          "name": "stdout",
          "text": [
            "\n",
            "Token 0:\n",
            "Reconstruction error: 8.85573904310823e-08\n",
            "Nullspace component magnitude: 2.466561508038014\n",
            "Particular solution magnitude: 1.376521029875887\n",
            "[-1.73212032e-05 -5.15382716e-02 -6.59607168e-05 ... -9.88937755e-05\n",
            " -1.74452424e-02 -1.42907464e-04]\n",
            "tensor([-1.7321e-05, -5.1538e-02, -6.5964e-05,  ..., -9.8892e-05,\n",
            "        -1.7445e-02, -1.4291e-04], grad_fn=<SelectBackward0>)\n",
            "\n",
            "Token 1:\n",
            "Reconstruction error: 9.232330395732312e-08\n",
            "Nullspace component magnitude: 3.0813279172630645\n",
            "Particular solution magnitude: 1.899552705183221\n",
            "[-1.82136866e-04 -5.97077148e-02 -3.33353211e-04 ... -1.12247901e-03\n",
            " -2.04959309e-02 -7.14628879e-05]\n",
            "tensor([-1.8214e-04, -5.9708e-02, -3.3336e-04,  ..., -1.1225e-03,\n",
            "        -2.0496e-02, -7.1462e-05], grad_fn=<SelectBackward0>)\n",
            "\n",
            "Token 2:\n",
            "Reconstruction error: 1.1984947709859759e-07\n",
            "Nullspace component magnitude: 2.957766562880669\n",
            "Particular solution magnitude: 1.7386351690601147\n",
            "[-5.34619867e-05 -6.57048466e-02 -2.54030326e-04 ... -7.28566029e-05\n",
            " -2.71093661e-02 -1.15802793e-04]\n",
            "tensor([-5.3462e-05, -6.5705e-02, -2.5404e-04,  ..., -7.2858e-05,\n",
            "        -2.7109e-02, -1.1580e-04], grad_fn=<SelectBackward0>)\n",
            "\n",
            "Token 3:\n",
            "Reconstruction error: 9.816021565166006e-08\n",
            "Nullspace component magnitude: 3.110318866280293\n",
            "Particular solution magnitude: 1.9867662210640487\n",
            "[-1.85518729e-04 -8.79573257e-02 -9.19784891e-04 ... -7.36705651e-05\n",
            " -4.25378819e-02 -5.42914792e-05]\n",
            "tensor([-1.8552e-04, -8.7957e-02, -9.1979e-04,  ..., -7.3674e-05,\n",
            "        -4.2538e-02, -5.4290e-05], grad_fn=<SelectBackward0>)\n",
            "\n",
            "Token 4:\n",
            "Reconstruction error: 1.1717999647346293e-07\n",
            "Nullspace component magnitude: 3.819523868732036\n",
            "Particular solution magnitude: 2.3014522190305335\n",
            "[-1.18148680e-05 -1.11583206e-01 -1.82790090e-04 ... -1.16990447e-03\n",
            " -4.14067010e-02 -1.93575861e-04]\n",
            "tensor([-1.1813e-05, -1.1158e-01, -1.8279e-04,  ..., -1.1699e-03,\n",
            "        -4.1407e-02, -1.9358e-04], grad_fn=<SelectBackward0>)\n"
          ]
        }
      ]
    },
    {
      "cell_type": "code",
      "source": [
        "print(model)"
      ],
      "metadata": {
        "colab": {
          "base_uri": "https://localhost:8080/"
        },
        "id": "QBvef7RypO-1",
        "outputId": "6c50c74a-aeb6-4fbd-e120-7b56a4b7f85f"
      },
      "execution_count": 85,
      "outputs": [
        {
          "output_type": "stream",
          "name": "stdout",
          "text": [
            "BertModel(\n",
            "  (embeddings): BertEmbeddings(\n",
            "    (word_embeddings): Embedding(30522, 1024, padding_idx=0)\n",
            "    (position_embeddings): Embedding(512, 1024)\n",
            "    (token_type_embeddings): Embedding(2, 1024)\n",
            "    (LayerNorm): LayerNorm((1024,), eps=1e-12, elementwise_affine=True)\n",
            "    (dropout): Dropout(p=0.1, inplace=False)\n",
            "  )\n",
            "  (encoder): BertEncoder(\n",
            "    (layer): ModuleList(\n",
            "      (0-23): 24 x BertLayer(\n",
            "        (attention): BertAttention(\n",
            "          (self): BertSdpaSelfAttention(\n",
            "            (query): Linear(in_features=1024, out_features=1024, bias=True)\n",
            "            (key): Linear(in_features=1024, out_features=1024, bias=True)\n",
            "            (value): Linear(in_features=1024, out_features=1024, bias=True)\n",
            "            (dropout): Dropout(p=0.1, inplace=False)\n",
            "          )\n",
            "          (output): BertSelfOutput(\n",
            "            (dense): Linear(in_features=1024, out_features=1024, bias=True)\n",
            "            (LayerNorm): LayerNorm((1024,), eps=1e-12, elementwise_affine=True)\n",
            "            (dropout): Dropout(p=0.1, inplace=False)\n",
            "          )\n",
            "        )\n",
            "        (intermediate): BertIntermediate(\n",
            "          (dense): Linear(in_features=1024, out_features=4096, bias=True)\n",
            "          (intermediate_act_fn): GELUActivation()\n",
            "        )\n",
            "        (output): BertOutput(\n",
            "          (dense): Linear(in_features=4096, out_features=1024, bias=True)\n",
            "          (LayerNorm): LayerNorm((1024,), eps=1e-12, elementwise_affine=True)\n",
            "          (dropout): Dropout(p=0.1, inplace=False)\n",
            "        )\n",
            "      )\n",
            "    )\n",
            "  )\n",
            "  (pooler): BertPooler(\n",
            "    (dense): Linear(in_features=1024, out_features=1024, bias=True)\n",
            "    (activation): Tanh()\n",
            "  )\n",
            ")\n"
          ]
        }
      ]
    }
  ]
}