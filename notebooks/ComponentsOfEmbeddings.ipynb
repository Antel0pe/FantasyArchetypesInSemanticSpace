{
  "nbformat": 4,
  "nbformat_minor": 0,
  "metadata": {
    "colab": {
      "provenance": []
    },
    "kernelspec": {
      "name": "python3",
      "display_name": "Python 3"
    },
    "language_info": {
      "name": "python"
    }
  },
  "cells": [
    {
      "cell_type": "code",
      "source": [
        "!pip install openai==1.55.3 httpx==0.27.2 --force-reinstall --quiet"
      ],
      "metadata": {
        "colab": {
          "base_uri": "https://localhost:8080/"
        },
        "id": "WbM4hLfeb2MR",
        "outputId": "b2720b2f-746a-4c81-ae40-f954314f7430"
      },
      "execution_count": 1,
      "outputs": [
        {
          "output_type": "stream",
          "name": "stdout",
          "text": [
            "\u001b[2K     \u001b[90m━━━━━━━━━━━━━━━━━━━━━━━━━━━━━━━━━━━━━━━━\u001b[0m \u001b[32m57.7/57.7 kB\u001b[0m \u001b[31m3.7 MB/s\u001b[0m eta \u001b[36m0:00:00\u001b[0m\n",
            "\u001b[2K   \u001b[90m━━━━━━━━━━━━━━━━━━━━━━━━━━━━━━━━━━━━━━━━\u001b[0m \u001b[32m389.6/389.6 kB\u001b[0m \u001b[31m12.2 MB/s\u001b[0m eta \u001b[36m0:00:00\u001b[0m\n",
            "\u001b[2K   \u001b[90m━━━━━━━━━━━━━━━━━━━━━━━━━━━━━━━━━━━━━━━━\u001b[0m \u001b[32m76.4/76.4 kB\u001b[0m \u001b[31m4.6 MB/s\u001b[0m eta \u001b[36m0:00:00\u001b[0m\n",
            "\u001b[2K   \u001b[90m━━━━━━━━━━━━━━━━━━━━━━━━━━━━━━━━━━━━━━━━\u001b[0m \u001b[32m78.6/78.6 kB\u001b[0m \u001b[31m5.3 MB/s\u001b[0m eta \u001b[36m0:00:00\u001b[0m\n",
            "\u001b[2K   \u001b[90m━━━━━━━━━━━━━━━━━━━━━━━━━━━━━━━━━━━━━━━━\u001b[0m \u001b[32m93.1/93.1 kB\u001b[0m \u001b[31m6.4 MB/s\u001b[0m eta \u001b[36m0:00:00\u001b[0m\n",
            "\u001b[2K   \u001b[90m━━━━━━━━━━━━━━━━━━━━━━━━━━━━━━━━━━━━━━━━\u001b[0m \u001b[32m70.4/70.4 kB\u001b[0m \u001b[31m3.9 MB/s\u001b[0m eta \u001b[36m0:00:00\u001b[0m\n",
            "\u001b[2K   \u001b[90m━━━━━━━━━━━━━━━━━━━━━━━━━━━━━━━━━━━━━━━━\u001b[0m \u001b[32m345.0/345.0 kB\u001b[0m \u001b[31m14.6 MB/s\u001b[0m eta \u001b[36m0:00:00\u001b[0m\n",
            "\u001b[2K   \u001b[90m━━━━━━━━━━━━━━━━━━━━━━━━━━━━━━━━━━━━━━━━\u001b[0m \u001b[32m431.8/431.8 kB\u001b[0m \u001b[31m18.8 MB/s\u001b[0m eta \u001b[36m0:00:00\u001b[0m\n",
            "\u001b[2K   \u001b[90m━━━━━━━━━━━━━━━━━━━━━━━━━━━━━━━━━━━━━━━━\u001b[0m \u001b[32m2.0/2.0 MB\u001b[0m \u001b[31m39.4 MB/s\u001b[0m eta \u001b[36m0:00:00\u001b[0m\n",
            "\u001b[2K   \u001b[90m━━━━━━━━━━━━━━━━━━━━━━━━━━━━━━━━━━━━━━━━\u001b[0m \u001b[32m78.5/78.5 kB\u001b[0m \u001b[31m5.3 MB/s\u001b[0m eta \u001b[36m0:00:00\u001b[0m\n",
            "\u001b[2K   \u001b[90m━━━━━━━━━━━━━━━━━━━━━━━━━━━━━━━━━━━━━━━━\u001b[0m \u001b[32m164.9/164.9 kB\u001b[0m \u001b[31m7.5 MB/s\u001b[0m eta \u001b[36m0:00:00\u001b[0m\n",
            "\u001b[2K   \u001b[90m━━━━━━━━━━━━━━━━━━━━━━━━━━━━━━━━━━━━━━━━\u001b[0m \u001b[32m58.3/58.3 kB\u001b[0m \u001b[31m4.0 MB/s\u001b[0m eta \u001b[36m0:00:00\u001b[0m\n",
            "\u001b[?25h\u001b[31mERROR: pip's dependency resolver does not currently take into account all the packages that are installed. This behaviour is the source of the following dependency conflicts.\n",
            "jupyter-server 1.24.0 requires anyio<4,>=3.1.0, but you have anyio 4.7.0 which is incompatible.\u001b[0m\u001b[31m\n",
            "\u001b[0m"
          ]
        }
      ]
    },
    {
      "cell_type": "code",
      "source": [
        "from google.colab import userdata\n",
        "OPENAI_KEY = userdata.get('OPENAI_KEY')\n",
        "\n",
        "from openai import OpenAI\n",
        "client = OpenAI(api_key=OPENAI_KEY)"
      ],
      "metadata": {
        "id": "dX_GJesub59q"
      },
      "execution_count": 4,
      "outputs": []
    },
    {
      "cell_type": "code",
      "source": [
        "import numpy as np\n",
        "import pandas as pd\n",
        "from openai import OpenAI\n",
        "\n",
        "def getEmbedding(text, model=\"text-embedding-3-small\"):\n",
        "   return client.embeddings.create(input = text, model=model).data[0].embedding"
      ],
      "metadata": {
        "id": "zmNKbdkgb60H"
      },
      "execution_count": 6,
      "outputs": []
    },
    {
      "cell_type": "code",
      "source": [
        "gandalfEmbedding = getEmbedding('Gandalf')"
      ],
      "metadata": {
        "id": "_ylbchdecGoM"
      },
      "execution_count": 15,
      "outputs": []
    },
    {
      "cell_type": "code",
      "source": [
        "wizardWords = ['spellcaster', 'sorcerer', 'mage', 'enchanter', 'mystic', 'warlock', 'conjurer', 'sage', 'thaumaturge']"
      ],
      "metadata": {
        "id": "ijJHkt_gcjcN"
      },
      "execution_count": null,
      "outputs": []
    },
    {
      "cell_type": "code",
      "source": [
        "gandalfDescription = 'A wandering figure in grey robes and a pointed hat, carrying a gnarled staff and smoking a long pipe. Ancient wisdom gleams in his eyes beneath bushy eyebrows, though he often masks it with a twinkle of mischief, especially around hobbits. Though he appears as merely an old man, he is in truth a divine spirit sent to Middle-earth, bearing tremendous power which he uses sparingly and wisely. He travels endlessly, offering counsel to both the mighty and the humble, gathering allies against the growing darkness. Through cryptic guidance and occasional displays of terrible power, he works to unite the free peoples against evil, all while bearing the terrible knowledge that their time in Middle-earth is ending.'\n",
        "gandalfDescriptionEmbedding = getEmbedding(gandalfDescription)"
      ],
      "metadata": {
        "id": "wbBfVjPDdYxZ"
      },
      "execution_count": 10,
      "outputs": []
    },
    {
      "cell_type": "code",
      "source": [
        "from sklearn.metrics.pairwise import cosine_similarity\n",
        "\n",
        "cosine_similarity([gandalfDescriptionEmbedding, gandalfEmbedding])[0][1]"
      ],
      "metadata": {
        "colab": {
          "base_uri": "https://localhost:8080/"
        },
        "id": "oxRTq06Pde24",
        "outputId": "4c96976e-b106-4c53-b9f1-f407e5bfea25"
      },
      "execution_count": 13,
      "outputs": [
        {
          "output_type": "execute_result",
          "data": {
            "text/plain": [
              "0.5639563077968159"
            ]
          },
          "metadata": {},
          "execution_count": 13
        }
      ]
    },
    {
      "cell_type": "code",
      "source": [
        "olorinEmbedding = getEmbedding('Olórin')\n",
        "cosine_similarity([gandalfEmbedding, olorinEmbedding])[0][1]"
      ],
      "metadata": {
        "colab": {
          "base_uri": "https://localhost:8080/"
        },
        "id": "_UIrPavieOKA",
        "outputId": "a1924bd7-ae98-404c-9c64-7b6be10c0534"
      },
      "execution_count": 16,
      "outputs": [
        {
          "output_type": "execute_result",
          "data": {
            "text/plain": [
              "0.24272885346478537"
            ]
          },
          "metadata": {},
          "execution_count": 16
        }
      ]
    },
    {
      "cell_type": "code",
      "source": [
        "vardaEmbedding = getEmbedding('Varda')\n",
        "print('Gandalf vs Varda ')\n",
        "print(cosine_similarity([gandalfEmbedding, vardaEmbedding])[0][1])\n",
        "print('Olorin vs Varda ')\n",
        "print(cosine_similarity([olorinEmbedding, vardaEmbedding])[0][1])"
      ],
      "metadata": {
        "colab": {
          "base_uri": "https://localhost:8080/"
        },
        "id": "AjjkI3fMer6x",
        "outputId": "5f8dd5c9-c2fc-49eb-f684-e50f54c4bd54"
      },
      "execution_count": 18,
      "outputs": [
        {
          "output_type": "stream",
          "name": "stdout",
          "text": [
            "Gandalf vs Varda \n",
            "0.30587922265300704\n",
            "Olorin vs Varda \n",
            "0.22934323255034986\n"
          ]
        }
      ]
    },
    {
      "cell_type": "code",
      "source": [
        "gandalfGreyEmbedding = getEmbedding('Gandalf the Grey')\n",
        "gandalfWhiteEmbedding = getEmbedding('Gandalf the White')\n",
        "print('Gandalf the Grey vs Gandalf the White ')\n",
        "print(cosine_similarity([gandalfGreyEmbedding, gandalfWhiteEmbedding])[0][1])\n",
        "print('Gandalf vs Gandalf the White ')\n",
        "print(cosine_similarity([gandalfEmbedding, gandalfWhiteEmbedding])[0][1])\n",
        "print('Gandalf vs Gandalf the Grey ')\n",
        "print(cosine_similarity([gandalfEmbedding, gandalfGreyEmbedding])[0][1])"
      ],
      "metadata": {
        "colab": {
          "base_uri": "https://localhost:8080/"
        },
        "id": "wJtL16IrlSUm",
        "outputId": "549d02dc-961e-421a-fbe9-1baf4ddc4d31"
      },
      "execution_count": 22,
      "outputs": [
        {
          "output_type": "stream",
          "name": "stdout",
          "text": [
            "Gandalf the Grey vs Gandalf the White \n",
            "0.9011810827997944\n",
            "Gandalf vs Gandalf the White \n",
            "0.8626444569100348\n",
            "Gandalf vs Gandalf the Grey \n",
            "0.8958487564000286\n"
          ]
        }
      ]
    },
    {
      "cell_type": "code",
      "source": [
        "characters = [\n",
        "    \"Gandalf\",\n",
        "    \"Aragorn\",\n",
        "    \"Frodo\",\n",
        "    \"Saruman\",\n",
        "    \"Pippin\",\n",
        "    \"Samwise\",\n",
        "    \"Merry\",\n",
        "    \"Bilbo\",\n",
        "    \"Denethor\",\n",
        "    \"Theoden\",\n",
        "    \"Galadriel\",\n",
        "    \"Elrond\",\n",
        "    \"Boromir\",\n",
        "    \"Gimli\",\n",
        "    \"Legolas\",\n",
        "    \"Faramir\"\n",
        "]\n",
        "characterEmbedding = {}\n",
        "\n",
        "for c in characters:\n",
        "    characterEmbedding[c] = getEmbedding(c)\n"
      ],
      "metadata": {
        "id": "CzIXasISmgBN"
      },
      "execution_count": 30,
      "outputs": []
    },
    {
      "cell_type": "code",
      "source": [
        "characterCosineSimilarity = {}\n",
        "for k1,v1 in characterEmbedding.items():\n",
        "    for k2,v2 in characterEmbedding.items():\n",
        "        if k1 == k2:\n",
        "            continue\n",
        "\n",
        "        minChar = min(k1, k2)\n",
        "        maxChar = max(k1, k2)\n",
        "        characterCosineSimilarity[f'{minChar} vs {maxChar}'] = cosine_similarity([v1, v2])[0][1]\n",
        "        # print(f' {k1} vs {k2}: {cosine_similarity([v1, v2])[0][1]}')\n",
        "        # print(k1, k2, cosine_similarity([v1, v2])[0][1])"
      ],
      "metadata": {
        "id": "Poh4EjvXmukt"
      },
      "execution_count": 31,
      "outputs": []
    },
    {
      "cell_type": "code",
      "source": [
        "import operator\n",
        "\n",
        "sorted_characterCosineSimilarity = dict(sorted(characterCosineSimilarity.items(), key=operator.itemgetter(1), reverse=True))\n",
        "sorted_characterCosineSimilarity"
      ],
      "metadata": {
        "colab": {
          "base_uri": "https://localhost:8080/"
        },
        "id": "Hbbysp-onStk",
        "outputId": "78659836-b8ce-4683-9b32-158b1daaf02d"
      },
      "execution_count": 32,
      "outputs": [
        {
          "output_type": "execute_result",
          "data": {
            "text/plain": [
              "{'Gimli vs Legolas': 0.6996326120150804,\n",
              " 'Boromir vs Faramir': 0.6930674056151461,\n",
              " 'Bilbo vs Frodo': 0.6708503989391452,\n",
              " 'Aragorn vs Legolas': 0.6700612749168569,\n",
              " 'Faramir vs Frodo': 0.6629889094076402,\n",
              " 'Elrond vs Galadriel': 0.6601500504683542,\n",
              " 'Elrond vs Legolas': 0.6519253529593652,\n",
              " 'Aragorn vs Gandalf': 0.6518175968229375,\n",
              " 'Bilbo vs Boromir': 0.6516815475313879,\n",
              " 'Galadriel vs Legolas': 0.6497239090098231,\n",
              " 'Boromir vs Frodo': 0.648490316865436,\n",
              " 'Frodo vs Gandalf': 0.6479480634522178,\n",
              " 'Gandalf vs Saruman': 0.6468091782343104,\n",
              " 'Denethor vs Theoden': 0.6444480418959049,\n",
              " 'Gandalf vs Legolas': 0.6433310389825752,\n",
              " 'Aragorn vs Faramir': 0.6408805798261424,\n",
              " 'Galadriel vs Gandalf': 0.6345218821456625,\n",
              " 'Bilbo vs Gimli': 0.6327483672262141,\n",
              " 'Aragorn vs Frodo': 0.6307589194517113,\n",
              " 'Bilbo vs Legolas': 0.6292367206780618,\n",
              " 'Elrond vs Frodo': 0.6265672123772743,\n",
              " 'Elrond vs Faramir': 0.6216447844068622,\n",
              " 'Faramir vs Galadriel': 0.6211514100453053,\n",
              " 'Elrond vs Gandalf': 0.6207637002696861,\n",
              " 'Boromir vs Legolas': 0.6183130154280303,\n",
              " 'Aragorn vs Boromir': 0.6177595930232219,\n",
              " 'Bilbo vs Gandalf': 0.6145924034112383,\n",
              " 'Aragorn vs Elrond': 0.6118099511102102,\n",
              " 'Frodo vs Legolas': 0.6107722790238468,\n",
              " 'Denethor vs Elrond': 0.6064017236639762,\n",
              " 'Legolas vs Saruman': 0.5984621098480816,\n",
              " 'Gandalf vs Gimli': 0.5984567379901065,\n",
              " 'Faramir vs Legolas': 0.5955069432206215,\n",
              " 'Boromir vs Saruman': 0.5869078908851767,\n",
              " 'Aragorn vs Saruman': 0.5803441743219075,\n",
              " 'Aragorn vs Galadriel': 0.5795839915549988,\n",
              " 'Galadriel vs Gimli': 0.5780692600892203,\n",
              " 'Faramir vs Saruman': 0.5764994792629832,\n",
              " 'Frodo vs Galadriel': 0.5757606263242336,\n",
              " 'Galadriel vs Saruman': 0.5743540950563715,\n",
              " 'Bilbo vs Elrond': 0.5681141158780033,\n",
              " 'Elrond vs Saruman': 0.5659647452294251,\n",
              " 'Boromir vs Elrond': 0.5657519724790143,\n",
              " 'Boromir vs Gandalf': 0.5654382488257507,\n",
              " 'Faramir vs Gandalf': 0.5649255836091298,\n",
              " 'Boromir vs Theoden': 0.5642120044592821,\n",
              " 'Frodo vs Gimli': 0.5635362691330368,\n",
              " 'Aragorn vs Bilbo': 0.5624233674545042,\n",
              " 'Denethor vs Legolas': 0.5608068572980675,\n",
              " 'Boromir vs Denethor': 0.5569611134682105,\n",
              " 'Bilbo vs Galadriel': 0.5563266196876575,\n",
              " 'Aragorn vs Theoden': 0.5543127334242294,\n",
              " 'Frodo vs Theoden': 0.5537300535726166,\n",
              " 'Elrond vs Theoden': 0.5519601964444334,\n",
              " 'Denethor vs Faramir': 0.5506202028649079,\n",
              " 'Bilbo vs Faramir': 0.5503043618343428,\n",
              " 'Aragorn vs Denethor': 0.5484981872584707,\n",
              " 'Legolas vs Theoden': 0.5466543924500631,\n",
              " 'Boromir vs Gimli': 0.54523774904581,\n",
              " 'Frodo vs Pippin': 0.5381817146246716,\n",
              " 'Aragorn vs Gimli': 0.5346324039762628,\n",
              " 'Gandalf vs Theoden': 0.5345915072916688,\n",
              " 'Boromir vs Galadriel': 0.5337979391942126,\n",
              " 'Faramir vs Gimli': 0.5287502955921005,\n",
              " 'Denethor vs Galadriel': 0.5276422230045003,\n",
              " 'Frodo vs Saruman': 0.5200779622526182,\n",
              " 'Elrond vs Gimli': 0.5175306825237325,\n",
              " 'Boromir vs Pippin': 0.5142443702595053,\n",
              " 'Denethor vs Gandalf': 0.5133787610848279,\n",
              " 'Bilbo vs Denethor': 0.511249229108765,\n",
              " 'Denethor vs Frodo': 0.5106294223986209,\n",
              " 'Bilbo vs Theoden': 0.5103920661806283,\n",
              " 'Gimli vs Saruman': 0.5092541473533548,\n",
              " 'Faramir vs Theoden': 0.5087238015835401,\n",
              " 'Galadriel vs Theoden': 0.5045771579922823,\n",
              " 'Bilbo vs Saruman': 0.5005720087282155,\n",
              " 'Denethor vs Saruman': 0.4972307745712645,\n",
              " 'Bilbo vs Pippin': 0.49447297848337307,\n",
              " 'Faramir vs Pippin': 0.49197852796756897,\n",
              " 'Gimli vs Pippin': 0.4779148374657199,\n",
              " 'Frodo vs Samwise': 0.4741540890023559,\n",
              " 'Aragorn vs Pippin': 0.47264889179415537,\n",
              " 'Denethor vs Gimli': 0.46743930156769536,\n",
              " 'Legolas vs Pippin': 0.4597100999919953,\n",
              " 'Faramir vs Samwise': 0.45710218952934123,\n",
              " 'Bilbo vs Samwise': 0.45699228672912406,\n",
              " 'Saruman vs Theoden': 0.4555443697212538,\n",
              " 'Gimli vs Theoden': 0.4430721850036688,\n",
              " 'Aragorn vs Samwise': 0.44243074711265684,\n",
              " 'Samwise vs Saruman': 0.4411519143039978,\n",
              " 'Boromir vs Samwise': 0.4394904444726246,\n",
              " 'Legolas vs Samwise': 0.4393130336663668,\n",
              " 'Gimli vs Samwise': 0.42893470169169234,\n",
              " 'Pippin vs Theoden': 0.4281998441877335,\n",
              " 'Gandalf vs Pippin': 0.4247470396803418,\n",
              " 'Elrond vs Pippin': 0.4224106687703465,\n",
              " 'Gandalf vs Samwise': 0.4182275224000898,\n",
              " 'Elrond vs Samwise': 0.4157022102949312,\n",
              " 'Galadriel vs Samwise': 0.3986227637113468,\n",
              " 'Denethor vs Pippin': 0.39639947422630123,\n",
              " 'Samwise vs Theoden': 0.39326989190691464,\n",
              " 'Denethor vs Samwise': 0.3903420220902107,\n",
              " 'Gimli vs Merry': 0.37920456473461267,\n",
              " 'Pippin vs Samwise': 0.37913649629086826,\n",
              " 'Galadriel vs Pippin': 0.3753204697650541,\n",
              " 'Pippin vs Saruman': 0.3649170419804028,\n",
              " 'Frodo vs Merry': 0.33372393572070325,\n",
              " 'Galadriel vs Merry': 0.3257441011350859,\n",
              " 'Faramir vs Merry': 0.3124212857523054,\n",
              " 'Merry vs Saruman': 0.3096417005960081,\n",
              " 'Bilbo vs Merry': 0.30883947401271405,\n",
              " 'Merry vs Samwise': 0.30866482508885595,\n",
              " 'Merry vs Pippin': 0.30705824552648653,\n",
              " 'Legolas vs Merry': 0.30693088227498166,\n",
              " 'Gandalf vs Merry': 0.30412112246428724,\n",
              " 'Boromir vs Merry': 0.30369561953859603,\n",
              " 'Elrond vs Merry': 0.28968401480159406,\n",
              " 'Denethor vs Merry': 0.26891049873225964,\n",
              " 'Merry vs Theoden': 0.25757693088513056,\n",
              " 'Aragorn vs Merry': 0.2508807003339745}"
            ]
          },
          "metadata": {},
          "execution_count": 32
        }
      ]
    },
    {
      "cell_type": "code",
      "source": [
        "metaphor_dict = {\n",
        "    \"Quarterback/Conductor\": [\n",
        "        \"With a swift motion of his hand, he signaled the group to begin their coordinated movement\",\n",
        "        \"Standing at the front, he guided each member through their carefully planned roles\"\n",
        "    ],\n",
        "    \"Hurricane/Revolution\": [\n",
        "        \"It tore through the region, leaving transformed landscapes in its wake\",\n",
        "        \"The force moved across the country, fundamentally changing everything it touched\"\n",
        "    ],\n",
        "    \"Microscope/Telescope\": [\n",
        "        \"Peering through the device, she discovered a world previously invisible to human eyes\",\n",
        "        \"The instrument revealed details of a realm that had been hidden from ordinary vision\"\n",
        "    ]\n",
        "}\n",
        "\n",
        "for k,v in metaphor_dict.items():\n",
        "    embed1 = getEmbedding(v[0])\n",
        "    embed2 = getEmbedding(v[1])\n",
        "\n",
        "    print(f'{k}: {cosine_similarity([embed1, embed2])[1][0]}')"
      ],
      "metadata": {
        "colab": {
          "base_uri": "https://localhost:8080/"
        },
        "id": "efckeLSxr8lD",
        "outputId": "94b96ded-c25a-492c-a37b-88986dff1357"
      },
      "execution_count": 34,
      "outputs": [
        {
          "output_type": "stream",
          "name": "stdout",
          "text": [
            "Quarterback/Conductor: 0.47769037438873885\n",
            "Hurricane/Revolution: 0.574414763881875\n",
            "Microscope/Telescope: 0.6740269023229304\n"
          ]
        }
      ]
    }
  ]
}