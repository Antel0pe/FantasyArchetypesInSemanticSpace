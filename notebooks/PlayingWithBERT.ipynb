{
  "nbformat": 4,
  "nbformat_minor": 0,
  "metadata": {
    "colab": {
      "provenance": []
    },
    "kernelspec": {
      "name": "python3",
      "display_name": "Python 3"
    },
    "language_info": {
      "name": "python"
    }
  },
  "cells": [
    {
      "cell_type": "code",
      "execution_count": 7,
      "metadata": {
        "id": "UyKSkaiz09RP"
      },
      "outputs": [],
      "source": [
        "import numpy as np\n",
        "\n",
        "class TinyBERT:\n",
        "    def __init__(self):\n",
        "        self.word_to_id = {'the': 0, 'cat': 1, 'sits': 2, 'sleeps': 3}\n",
        "\n",
        "        self.embeddings = np.array([\n",
        "            [0.2, -0.5, 0.1],   # the\n",
        "            [-0.3, 0.4, 0.2],   # cat\n",
        "            [0.1, 0.3, -0.4],   # sits\n",
        "            [-0.2, -0.1, 0.5]   # sleeps\n",
        "        ])\n",
        "\n",
        "        self.max_sequence_length = 10\n",
        "        self.position_dim = 3\n",
        "        self.position_embeddings = np.random.randn(self.max_sequence_length, self.position_dim) * 0.1\n",
        "\n",
        "    def attention(self, sentence):\n",
        "        print('TinyBert --- attention()')\n",
        "        print(sentence)\n",
        "        # convert to embeddings\n",
        "        word_ids = [self.word_to_id[word] for word in sentence]\n",
        "        print(word_ids)\n",
        "        vectors = self.embeddings[word_ids]\n",
        "        print(vectors)\n",
        "\n",
        "        positional_vectors = self.position_embeddings[:len(sentence)]\n",
        "        vectors = vectors + positional_vectors\n",
        "        print(vectors)\n",
        "\n",
        "        # calculate attention scores by seeing how aligned they are in terms of drections\n",
        "        # more similar words/embeddings pointing in same direction should have similar attentions\n",
        "        scores = np.dot(vectors, vectors.T)\n",
        "        print(scores)\n",
        "        scores = scores / np.sqrt(3) # scale scores\n",
        "        print(scores)\n",
        "\n",
        "        # convert to probabilities\n",
        "        probs = np.exp(scores)\n",
        "        print(probs)\n",
        "        attention_probs = probs / probs.sum(axis=1, keepdims=True)\n",
        "        print(attention_probs)\n",
        "\n",
        "        # work out new embeddings for words based on weighted sum of other words embeddings\n",
        "        newEmbeddings = np.dot(attention_probs, vectors)\n",
        "        print(newEmbeddings)\n",
        "        return attention_probs, newEmbeddings\n"
      ]
    },
    {
      "cell_type": "code",
      "source": [
        "bert = TinyBERT()\n",
        "sentence = ['cat', 'sits', 'the', ]\n",
        "weights, new_reps = bert.attention(sentence)"
      ],
      "metadata": {
        "colab": {
          "base_uri": "https://localhost:8080/"
        },
        "id": "4VKSu1D54awu",
        "outputId": "8e91de6d-f58a-4a3f-9a53-b42a42dbade8"
      },
      "execution_count": 10,
      "outputs": [
        {
          "output_type": "stream",
          "name": "stdout",
          "text": [
            "TinyBert --- attention()\n",
            "['cat', 'sits', 'the']\n",
            "[1, 2, 0]\n",
            "[[-0.3  0.4  0.2]\n",
            " [ 0.1  0.3 -0.4]\n",
            " [ 0.2 -0.5  0.1]]\n",
            "[[-0.25497954  0.4399019   0.11021631]\n",
            " [ 0.07694333  0.38871628 -0.50786617]\n",
            " [ 0.18630067 -0.41576185  0.31090431]]\n",
            "[[ 0.27067589  0.09540292 -0.19613056]\n",
            " [ 0.09540292  0.41494866 -0.30517659]\n",
            " [-0.19613056 -0.30517659  0.30422735]]\n",
            "[[ 0.1562748   0.0550809  -0.11323603]\n",
            " [ 0.0550809   0.23957072 -0.17619378]\n",
            " [-0.11323603 -0.17619378  0.17564574]]\n",
            "[[1.16914744 1.05662609 0.89293987]\n",
            " [1.05662609 1.27070355 0.83845549]\n",
            " [0.89293987 0.83845549 1.1920157 ]]\n",
            "[[0.37488133 0.33880192 0.28631675]\n",
            " [0.33376431 0.40138654 0.26484915]\n",
            " [0.30544451 0.28680725 0.40774824]]\n",
            "[[-0.01617752  0.17756925 -0.04173089]\n",
            " [-0.00487748  0.19273487 -0.08472163]\n",
            " [ 0.02014957  0.07632611  0.01477595]]\n"
          ]
        }
      ]
    },
    {
      "cell_type": "code",
      "source": [
        "print(\"\\nAttention weights:\")\n",
        "for i, word in enumerate(sentence):\n",
        "    print(f\"\\n{word} pays attention to each word:\")\n",
        "    for j, other_word in enumerate(sentence):\n",
        "        print(f\"{other_word}: {weights[i][j]:.3f}\")"
      ],
      "metadata": {
        "colab": {
          "base_uri": "https://localhost:8080/"
        },
        "id": "Wtvrh8YC4_Uo",
        "outputId": "a790aed3-9cb9-4f1b-8545-759ac9f18177"
      },
      "execution_count": 11,
      "outputs": [
        {
          "output_type": "stream",
          "name": "stdout",
          "text": [
            "\n",
            "Attention weights:\n",
            "\n",
            "cat pays attention to each word:\n",
            "cat: 0.375\n",
            "sits: 0.339\n",
            "the: 0.286\n",
            "\n",
            "sits pays attention to each word:\n",
            "cat: 0.334\n",
            "sits: 0.401\n",
            "the: 0.265\n",
            "\n",
            "the pays attention to each word:\n",
            "cat: 0.305\n",
            "sits: 0.287\n",
            "the: 0.408\n"
          ]
        }
      ]
    }
  ]
}